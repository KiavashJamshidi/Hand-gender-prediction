{
  "nbformat": 4,
  "nbformat_minor": 0,
  "metadata": {
    "colab": {
      "name": "hand.ipynb",
      "provenance": [],
      "collapsed_sections": [],
      "mount_file_id": "1zRPZ8I9gSxIBoIoG7kmOopuHHiQvNFgr",
      "authorship_tag": "ABX9TyMSLFGCCQqrTks/Hwgh38T4",
      "include_colab_link": true
    },
    "kernelspec": {
      "display_name": "Python 3",
      "name": "python3"
    },
    "language_info": {
      "name": "python"
    }
  },
  "cells": [
    {
      "cell_type": "markdown",
      "metadata": {
        "id": "view-in-github",
        "colab_type": "text"
      },
      "source": [
        "<a href=\"https://colab.research.google.com/github/KiavashJamshidi/Hand-gender-prediction/blob/main/hand.ipynb\" target=\"_parent\"><img src=\"https://colab.research.google.com/assets/colab-badge.svg\" alt=\"Open In Colab\"/></a>"
      ]
    },
    {
      "cell_type": "code",
      "metadata": {
        "id": "IjFKr4ejT6NT"
      },
      "source": [
        "import os\n",
        "import torch\n",
        "import torchvision\n",
        "import numpy as np\n",
        "import pandas as pd\n",
        "import torch.nn as nn\n",
        "import torch.optim as optim\n",
        "import matplotlib.pyplot as plt\n",
        "from torch import nn\n",
        "from tqdm import tqdm\n",
        "from glob import glob\n",
        "from pandas import read_csv\n",
        "from scipy.io import loadmat\n",
        "from google.colab import drive\n",
        "from torch.optim import Adam, SGD\n",
        "from torch.autograd import Variable\n",
        "from torchvision.models import alexnet\n",
        "from torch.nn.functional import softmax\n",
        "from torchvision import datasets, transforms\n",
        "from torch.utils.data import DataLoader, Dataset\n",
        "from torchvision.utils import make_grid, save_image\n",
        "from torch.utils.data.sampler import SubsetRandomSampler\n",
        "from torch.nn import ReLU, Linear, Conv2d, Softmax, CrossEntropyLoss"
      ],
      "execution_count": 1,
      "outputs": []
    },
    {
      "cell_type": "code",
      "metadata": {
        "id": "4xfMpQH7pICj"
      },
      "source": [
        "IMG_PATH = \"/content/drive/MyDrive/Hands/\"\n",
        "LABEL_PATH = \"/content/drive/MyDrive/HandInfo.csv\"\n",
        "OUT_PATH =  \"/content/drive/MyDrive/Outs/\""
      ],
      "execution_count": 2,
      "outputs": []
    },
    {
      "cell_type": "code",
      "metadata": {
        "id": "yMde62HhHgb5"
      },
      "source": [
        "mean1, mean2, mean3 = 240.45/255, 229.64/255, 223.24/255 #low\n",
        "mean = 245.56/255 #high"
      ],
      "execution_count": 3,
      "outputs": []
    },
    {
      "cell_type": "code",
      "metadata": {
        "id": "vitp_NYck7xM"
      },
      "source": [
        "std1, std2, std3 = 32.38/255, 48.41/255, 58.85/255 #low\n",
        "std = 28.11/255 #high"
      ],
      "execution_count": 29,
      "outputs": []
    },
    {
      "cell_type": "code",
      "metadata": {
        "id": "EZ3Op6CY-WrS"
      },
      "source": [
        "device = torch.device(\"cuda:0\")"
      ],
      "execution_count": 5,
      "outputs": []
    },
    {
      "cell_type": "code",
      "metadata": {
        "id": "WHzqyNHbJDLe"
      },
      "source": [
        "def getPartOfMat(mat,status):\n",
        "  if status == 'low':\n",
        "    return mat['O'][:,:,:3]\n",
        "  elif status == 'high':\n",
        "    return mat['O'][:,:,3]\n",
        "  elif status == \"normal\":\n",
        "    return mat['O']"
      ],
      "execution_count": 6,
      "outputs": []
    },
    {
      "cell_type": "code",
      "metadata": {
        "id": "UYIUinRRWsO-"
      },
      "source": [
        "images = glob(IMG_PATH + '*.jpg')"
      ],
      "execution_count": 7,
      "outputs": []
    },
    {
      "cell_type": "code",
      "metadata": {
        "id": "IBszix0w_3w5"
      },
      "source": [
        "images.sort()"
      ],
      "execution_count": 8,
      "outputs": []
    },
    {
      "cell_type": "code",
      "metadata": {
        "colab": {
          "base_uri": "https://localhost:8080/"
        },
        "id": "Tf41ETGMz9oj",
        "outputId": "bada2240-1009-41f6-ff86-1425f87d2226"
      },
      "source": [
        "print(len(images))"
      ],
      "execution_count": 9,
      "outputs": [
        {
          "output_type": "stream",
          "name": "stdout",
          "text": [
            "11076\n"
          ]
        }
      ]
    },
    {
      "cell_type": "code",
      "metadata": {
        "id": "1km6D-F60DIJ"
      },
      "source": [
        "details = read_csv(LABEL_PATH)"
      ],
      "execution_count": 10,
      "outputs": []
    },
    {
      "cell_type": "code",
      "metadata": {
        "colab": {
          "base_uri": "https://localhost:8080/"
        },
        "id": "H59151Yz2MRW",
        "outputId": "6d0ea500-5f4d-40c0-b9d0-45f156d85d00"
      },
      "source": [
        "print(details)"
      ],
      "execution_count": 11,
      "outputs": [
        {
          "output_type": "stream",
          "name": "stdout",
          "text": [
            "         id  age  gender  ...  aspectOfHand         imageName  irregularities\n",
            "0         0   27    male  ...  dorsal right  Hand_0000002.jpg               0\n",
            "1         0   27    male  ...  dorsal right  Hand_0000003.jpg               0\n",
            "2         0   27    male  ...  dorsal right  Hand_0000004.jpg               0\n",
            "3         0   27    male  ...  dorsal right  Hand_0000005.jpg               0\n",
            "4         0   27    male  ...  dorsal right  Hand_0000006.jpg               0\n",
            "...     ...  ...     ...  ...           ...               ...             ...\n",
            "11071  1589   22  female  ...   palmar left  Hand_0011740.jpg               0\n",
            "11072  1589   22  female  ...   palmar left  Hand_0011741.jpg               0\n",
            "11073  1589   22  female  ...   palmar left  Hand_0011742.jpg               0\n",
            "11074  1589   22  female  ...   palmar left  Hand_0011743.jpg               0\n",
            "11075  1589   22  female  ...   palmar left  Hand_0011744.jpg               0\n",
            "\n",
            "[11076 rows x 9 columns]\n"
          ]
        }
      ]
    },
    {
      "cell_type": "code",
      "metadata": {
        "colab": {
          "base_uri": "https://localhost:8080/",
          "height": 1000
        },
        "id": "FqvFEHvMYCgL",
        "outputId": "89fa0919-5f72-4749-fc7e-a382a612a2c7"
      },
      "source": [
        "for col in details.columns:\n",
        "  if col == \"id\" or col == \"imageName\" or col == \"age\": continue\n",
        "  types = {}\n",
        "  for row in details[col]:\n",
        "    if row in types:\n",
        "      types[row] += 1\n",
        "      continue\n",
        "    else:\n",
        "      types[row] = 0\n",
        "  plt.bar(range(len(types)), list(types.values()), tick_label=list(types.keys()), color = 'purple')\n",
        "  plt.title(\"Information of \" + col + \"s\")\n",
        "  plt.xlabel(col.capitalize() + \"s\")\n",
        "  plt.ylabel('Number')\n",
        "  plt.show()"
      ],
      "execution_count": 12,
      "outputs": [
        {
          "output_type": "display_data",
          "data": {
            "image/png": "[encoded data removed]",
            "text/plain": [
              "<Figure size 432x288 with 1 Axes>"
            ]
          },
          "metadata": {
            "needs_background": "light"
          }
        },
        {
          "output_type": "display_data",
          "data": {
            "image/png": "[encoded data removed]",
            "text/plain": [
              "<Figure size 432x288 with 1 Axes>"
            ]
          },
          "metadata": {
            "needs_background": "light"
          }
        },
        {
          "output_type": "display_data",
          "data": {
            "image/png": "[encoded data removed]",
            "text/plain": [
              "<Figure size 432x288 with 1 Axes>"
            ]
          },
          "metadata": {
            "needs_background": "light"
          }
        },
        {
          "output_type": "display_data",
          "data": {
            "image/png": "[encoded data removed]",
            "text/plain": [
              "<Figure size 432x288 with 1 Axes>"
            ]
          },
          "metadata": {
            "needs_background": "light"
          }
        },
        {
          "output_type": "display_data",
          "data": {
            "image/png": "[encoded data removed]",
            "text/plain": [
              "<Figure size 432x288 with 1 Axes>"
            ]
          },
          "metadata": {
            "needs_background": "light"
          }
        },
        {
          "output_type": "display_data",
          "data": {
            "image/png": "[encoded data removed]",
            "text/plain": [
              "<Figure size 432x288 with 1 Axes>"
            ]
          },
          "metadata": {
            "needs_background": "light"
          }
        }
      ]
    },
    {
      "cell_type": "code",
      "metadata": {
        "id": "jAutHfLa-T1K"
      },
      "source": [
        "outs = glob(OUT_PATH + '*.mat')"
      ],
      "execution_count": 13,
      "outputs": []
    },
    {
      "cell_type": "code",
      "metadata": {
        "id": "cdcWhSUa_5Kc"
      },
      "source": [
        "outs.sort()"
      ],
      "execution_count": 14,
      "outputs": []
    },
    {
      "cell_type": "code",
      "metadata": {
        "id": "NDI4bgclwra_"
      },
      "source": [
        "def checkImgOut(images,outs):\n",
        "  errorFound = len(images) != len(outs)\n",
        "  for i in range(len(images)):\n",
        "    a = images[i].split('/')[-1].split('.')[0].split('_')[1]\n",
        "    b = outs[i].split('/')[-1].split('.')[0].split('_')[1]\n",
        "    if a != b:\n",
        "      errorFound = True\n",
        "  return errorFound"
      ],
      "execution_count": 15,
      "outputs": []
    },
    {
      "cell_type": "code",
      "metadata": {
        "colab": {
          "base_uri": "https://localhost:8080/"
        },
        "id": "Y8cqi4mnqFTt",
        "outputId": "6fe9f3cd-149f-46b9-dee8-4d8664e2f139"
      },
      "source": [
        "if checkImgOut(images,outs):\n",
        "  print(\"There is an error! fix it.\")\n",
        "  input()\n",
        "else:\n",
        "  print(\"Congrats! There is no error.\")"
      ],
      "execution_count": 16,
      "outputs": [
        {
          "output_type": "stream",
          "name": "stdout",
          "text": [
            "Congrats! There is no error.\n"
          ]
        }
      ]
    },
    {
      "cell_type": "code",
      "metadata": {
        "id": "R-750KGVbrOi"
      },
      "source": [
        "class CustomDataset(Dataset):\n",
        "    def __init__(self, csv_path, images_folder, transform = None):\n",
        "        self.df = read_csv(csv_path)\n",
        "        self.imagesFolder = images_folder\n",
        "        self.transform = transform\n",
        "        self.class2index = {\"male\":0, \"female\":1}\n",
        "\n",
        "    def __len__(self):\n",
        "        return len(self.df)\n",
        "        \n",
        "    def __getitem__(self, index):\n",
        "        filename = self.df[\"imageName\"][index]\n",
        "        label = self.class2index[self.df[\"gender\"][index]]\n",
        "        image = getPartOfMat(loadmat(self.imagesFolder + \"/\" + filename[:-3] + \"mat\"), \"low\")\n",
        "        if self.transform is not None:\n",
        "          image = self.transform(image)\n",
        "        return image, label\n",
        "      \n",
        "    def images(self):\n",
        "      return glob(self.imagesFolder + \"/*.mat\")\n",
        "        "
      ],
      "execution_count": 17,
      "outputs": []
    },
    {
      "cell_type": "code",
      "metadata": {
        "id": "5KW9RB-xGc2b"
      },
      "source": [
        "def getMean(outs):\n",
        "  sum1, sum2, sum3 = 0, 0, 0\n",
        "  for out in tqdm(outs):\n",
        "    mat = loadmat(out)\n",
        "    image = mat['O'][:,:,:3]\n",
        "    sum1 += image[:,:,0].mean()\n",
        "    sum2 += image[:,:,1].mean()\n",
        "    sum3 += image[:,:,2].mean()\n",
        "  mean1 = sum1 / len(outs)\n",
        "  mean2 = sum2 / len(outs)\n",
        "  mean3 = sum3 / len(outs)\n",
        "  print(mean1, mean2, mean3)\n",
        "  return mean1, mean2, mean3"
      ],
      "execution_count": 18,
      "outputs": []
    },
    {
      "cell_type": "code",
      "metadata": {
        "id": "3tvalwNX6HwF"
      },
      "source": [
        "def getMean(outs):\n",
        "  sum = 0\n",
        "  for out in tqdm(outs):\n",
        "    mat = loadmat(out)\n",
        "    image = mat['O'][:,:,:3]\n",
        "    sum += image[:,:].mean()\n",
        "  mean = sum / len(outs)\n",
        "  print(mean)\n",
        "  return mean"
      ],
      "execution_count": 30,
      "outputs": []
    },
    {
      "cell_type": "code",
      "metadata": {
        "id": "ROWFtuIjd4PI"
      },
      "source": [
        "def getStd(outs):\n",
        "  mean1Tmp, mean2Tmp, mean3Tmp = mean1*255, mean2*255, mean3*255\n",
        "  sum1, sum2, sum3 = 0, 0, 0\n",
        "  for out in tqdm(outs):\n",
        "    mat = loadmat(out)\n",
        "    image = mat['O'][:,:,:3]\n",
        "    sum1 += np.power(image[:,:,0] - mean1Tmp, 2).sum()\n",
        "    sum2 += np.power(image[:,:,1] - mean2Tmp, 2).sum()\n",
        "    sum3 += np.power(image[:,:,2] - mean3Tmp, 2).sum()\n",
        "  std1 = np.sqrt(sum1 / len(outs) / 224 / 224)\n",
        "  std2 = np.sqrt(sum2 / len(outs) / 224 / 224)\n",
        "  std3 = np.sqrt(sum3 / len(outs) / 224 / 224)\n",
        "  print(std1, std2, std3)\n",
        "  return std1, std2, std3"
      ],
      "execution_count": 21,
      "outputs": []
    },
    {
      "cell_type": "code",
      "metadata": {
        "id": "rPJYgral6O1o"
      },
      "source": [
        "def getStd(outs):\n",
        "  meanTmp = mean*255\n",
        "  sum = 0\n",
        "  for out in tqdm(outs):\n",
        "    mat = loadmat(out)\n",
        "    image = mat['O'][:,:,3]\n",
        "    sum += np.power(image[:,:] - meanTmp, 2).sum()\n",
        "  std = np.sqrt(sum / len(outs) / 224 / 224)\n",
        "  print(std)\n",
        "  return std\n",
        "std = getStd(outs)"
      ],
      "execution_count": 22,
      "outputs": []
    },
    {
      "cell_type": "markdown",
      "metadata": {
        "id": "MuPRE6_RuzSy"
      },
      "source": [
        "**Part below is for net1! (for low)**"
      ]
    },
    {
      "cell_type": "code",
      "metadata": {
        "id": "xtqrlgYVvtNQ"
      },
      "source": [
        "transform = transforms.Compose([\n",
        "    transforms.ToTensor(),\n",
        "    transforms.Normalize((mean1, mean2, mean3), (std1, std2, std3))\n",
        "])"
      ],
      "execution_count": 23,
      "outputs": []
    },
    {
      "cell_type": "code",
      "metadata": {
        "colab": {
          "base_uri": "https://localhost:8080/"
        },
        "id": "bEFJ9BOF91yZ",
        "outputId": "8643855e-ca3b-4ad7-b990-e8f25c48e4a8"
      },
      "source": [
        "dataset = CustomDataset(LABEL_PATH, OUT_PATH, transform)\n",
        "img, label = dataset[100]\n",
        "img.shape"
      ],
      "execution_count": 24,
      "outputs": [
        {
          "output_type": "execute_result",
          "data": {
            "text/plain": [
              "torch.Size([3, 224, 224])"
            ]
          },
          "metadata": {},
          "execution_count": 24
        }
      ]
    },
    {
      "cell_type": "code",
      "metadata": {
        "id": "3MbHOrtaBtT4"
      },
      "source": [
        "batch_size = 300\n",
        "validation_split = 0.7\n",
        "shuffle_dataset = True\n",
        "dataset_size = len(dataset)\n",
        "split = int(np.floor(validation_split * dataset_size))\n",
        "indices = list(range(dataset_size))\n",
        "\n",
        "train_indices, test_indices = indices[:split], indices[split:]\n",
        "\n",
        "train_sampler = SubsetRandomSampler(train_indices)\n",
        "test_sampler = SubsetRandomSampler(test_indices)\n",
        "\n",
        "trainLoader = DataLoader(dataset, batch_size=batch_size, sampler=train_sampler)\n",
        "testLoader = DataLoader(dataset, batch_size=batch_size, sampler=test_sampler)"
      ],
      "execution_count": 25,
      "outputs": []
    },
    {
      "cell_type": "code",
      "metadata": {
        "colab": {
          "base_uri": "https://localhost:8080/"
        },
        "id": "9dQqllSdO3hc",
        "outputId": "615efada-a304-48ad-f950-9f4941962a71"
      },
      "source": [
        "len(trainLoader)"
      ],
      "execution_count": 26,
      "outputs": [
        {
          "output_type": "execute_result",
          "data": {
            "text/plain": [
              "26"
            ]
          },
          "metadata": {},
          "execution_count": 26
        }
      ]
    },
    {
      "cell_type": "code",
      "metadata": {
        "colab": {
          "base_uri": "https://localhost:8080/"
        },
        "id": "2dMWr-8ECXIf",
        "outputId": "2f57ea95-64f1-43b4-90c0-2a5aac0b435b"
      },
      "source": [
        "len(testLoader)"
      ],
      "execution_count": 27,
      "outputs": [
        {
          "output_type": "execute_result",
          "data": {
            "text/plain": [
              "12"
            ]
          },
          "metadata": {},
          "execution_count": 27
        }
      ]
    },
    {
      "cell_type": "code",
      "metadata": {
        "id": "LJJvJtxKoACQ"
      },
      "source": [
        "alexNet = alexnet(pretrained=True)\n",
        "alexNet = alexNet.to(device)\n",
        "alexNet.classifier[6].out_features = 2\n",
        "alexNet.eval()"
      ],
      "execution_count": null,
      "outputs": []
    },
    {
      "cell_type": "code",
      "metadata": {
        "id": "5GTjyLKcYBcK"
      },
      "source": [
        "state_dict = alexNet.state_dict()\n",
        "weights = state_dict[\"features.0.weight\"]\n",
        "bias = state_dict[\"features.0.bias\"]"
      ],
      "execution_count": null,
      "outputs": []
    },
    {
      "cell_type": "code",
      "metadata": {
        "id": "wY_FT41OSlvk"
      },
      "source": [
        "criterion = CrossEntropyLoss()\n",
        "trainAccuracy = []\n",
        "testAccuracy = []\n",
        "trainLoss = []\n",
        "testLoss = []"
      ],
      "execution_count": null,
      "outputs": []
    },
    {
      "cell_type": "code",
      "metadata": {
        "id": "JrpYWfE9P9VP"
      },
      "source": [
        "# optimizer = optim.SGD(alexNet.parameters(), lr=0.001, momentum=0.9)\n",
        "# for epoch in range(10):  # loop over the dataset multiple times\n",
        "#   running_loss = 0.0\n",
        "#   total, correct = 0, 0\n",
        "#   # for data in trainLoader:\n",
        "#   for data in tqdm(trainLoader):\n",
        "\n",
        "#     inputs, labels = data\n",
        "#     inputs = inputs.to(device)\n",
        "#     labels = labels.to(device)\n",
        "\n",
        "#     optimizer.zero_grad()\n",
        "\n",
        "#     outputs = alexNet(inputs)\n",
        "#     loss = criterion(outputs, labels)\n",
        "#     loss.backward(retain_graph=True)\n",
        "\n",
        "#     optimizer.step()\n",
        "\n",
        "#     # print(loss.item())\n",
        "#     running_loss += loss.item() / len(trainLoader)\n",
        "#     _, predicted = torch.max(outputs.data, 1)\n",
        "#     total += labels.size(0)\n",
        "#     correct += predicted.eq(labels).sum().item()\n",
        "\n",
        "\n",
        "#   accuracy = 100 * correct / total\n",
        "#   trainAccuracy.append(accuracy)\n",
        "#   trainLoss.append(running_loss)\n",
        "#   print(\"\\nTRAIN: Epoch {}/{}, Accuracy: {:.3f}, Loss: {:.3f}\".format(epoch+1,10, accuracy, running_loss))\n"
      ],
      "execution_count": null,
      "outputs": []
    },
    {
      "cell_type": "code",
      "metadata": {
        "id": "Fle_DUsESyvx"
      },
      "source": [
        "# plt.plot(trainAccuracy,'-o')\n",
        "# # plt.plot(testAccuracy,'-o')\n",
        "# plt.xlabel('epoch')\n",
        "# plt.ylabel('accuracy')\n",
        "# plt.legend(['Train','Test'])\n",
        "# plt.title('Train vs Test Accuracy')\n",
        " \n",
        "# plt.show()"
      ],
      "execution_count": null,
      "outputs": []
    },
    {
      "cell_type": "code",
      "metadata": {
        "id": "nfUaIOD4Syvx"
      },
      "source": [
        "# plt.plot(trainLoss,'-o')\n",
        "# # plt.plot(testLoss,'-o')\n",
        "# plt.xlabel('epoch')\n",
        "# plt.ylabel('losses')\n",
        "# plt.legend(['Train','Test'])\n",
        "# plt.title('Train vs Test Losses')\n",
        " \n",
        "# plt.show()"
      ],
      "execution_count": null,
      "outputs": []
    },
    {
      "cell_type": "code",
      "metadata": {
        "id": "d_7-rYPfqsF7"
      },
      "source": [
        "# zzz"
      ],
      "execution_count": null,
      "outputs": []
    },
    {
      "cell_type": "code",
      "metadata": {
        "id": "uvITW5X3XIwR"
      },
      "source": [
        "# class Net(nn.Module):\n",
        "#     layers = []\n",
        "#     def __init__(self, alexNet):\n",
        "#         super(Net, self).__init__()\n",
        "#         self.conv2d1 = Conv2d(3, 64, 11, stride=3, padding=0)\n",
        "#         self.relu1 = alexNet.features[1]\n",
        "#         self.pool1 = alexNet.features[2]\n",
        "#         self.conv2d2 = alexNet.features[3]\n",
        "#         self.relu2 = alexNet.features[4]\n",
        "#         self.pool2 = alexNet.features[5]\n",
        "#         self.conv2d3 = alexNet.features[6]\n",
        "#         self.relu3 = alexNet.features[7]\n",
        "#         self.conv2d4 = alexNet.features[8]\n",
        "#         self.relu4 = alexNet.features[9]\n",
        "#         self.conv2d5 = Conv2d(256, 256, 11, stride=1, padding=1)\n",
        "#         self.relu5 = alexNet.features[11]\n",
        "#         self.pool5 = alexNet.features[12]\n",
        "#         self.fc6 = Linear(256 * 4 * 4, 4096,bias=True)\n",
        "#         self.relu6 = alexNet.classifier[2]\n",
        "#         self.drop6 = alexNet.classifier[0]\n",
        "#         self.fc7 = Linear(4096,2048,bias=True)\n",
        "#         self.relu7 = alexNet.classifier[2]\n",
        "#         self.drop7 = alexNet.classifier[0]\n",
        "#         self.fc8 = Linear(2048,1024,bias=True)\n",
        "#         self.relu8 = alexNet.classifier[2]\n",
        "#         self.drop8 = alexNet.classifier[0]\n",
        "#         self.fc9 = Linear(1024,2,True)\n",
        "#         # self.cl = Softmax(dim = -1) #error\n",
        "#         self.layers = [self.conv2d1,self.relu1,self.pool1,\n",
        "#                        self.conv2d2,self.relu2,self.pool2,\n",
        "#                        self.conv2d3,self.relu3,\n",
        "#                        self.conv2d4,self.relu4,\n",
        "#                        self.conv2d5,self.relu5,self.pool5,\n",
        "#                        self.fc6,self.relu6,self.drop6,\n",
        "#                        self.fc7,self.relu7,self.drop7,\n",
        "#                        self.fc8, self.relu8,self.drop8,\n",
        "#                        self.fc9]\n",
        "\n",
        "#     def forward(self, x):\n",
        "#         x = self.pool1(self.relu1(self.conv2d1(x)))\n",
        "#         x = self.pool2(self.relu2(self.conv2d2(x)))\n",
        "#         x = self.relu3(self.conv2d3(x))\n",
        "#         x = self.relu4(self.conv2d4(x))\n",
        "#         x = self.pool5(self.relu5(self.conv2d5(x)))\n",
        "\n",
        "#         x = x.view(-1,256 * 4 * 4)\n",
        "#         x = self.drop6(self.relu6(self.fc6(x)))\n",
        "#         x = self.drop7(self.relu7(self.fc7(x)))\n",
        "#         x = self.drop8(self.relu8(self.fc8(x)))\n",
        "#         x = self.fc9(x)\n",
        "\n",
        "#         x = softmax(x, dim = 1)\n",
        "#         # print(x)\n",
        "#         return x"
      ],
      "execution_count": null,
      "outputs": []
    },
    {
      "cell_type": "code",
      "metadata": {
        "id": "Cct80MFO9Ic7"
      },
      "source": [
        "net1 = alexNet\n",
        "net1.features[0] = Conv2d(3, 64, 11, stride=3, padding=0)\n",
        "net1.classifier[4].out_features = 2048\n",
        "net1.classifier[6].in_features = 2048\n",
        "net1 = net1.to(device)"
      ],
      "execution_count": null,
      "outputs": []
    },
    {
      "cell_type": "code",
      "metadata": {
        "id": "ych4E1L6A8Yy"
      },
      "source": [
        "alexNet.eval()"
      ],
      "execution_count": null,
      "outputs": []
    },
    {
      "cell_type": "code",
      "metadata": {
        "id": "rN_NUyogDZBC"
      },
      "source": [
        "net1.eval()"
      ],
      "execution_count": null,
      "outputs": []
    },
    {
      "cell_type": "code",
      "metadata": {
        "id": "tR09Pu4LMLgo"
      },
      "source": [
        "learnRate = .001\n",
        "weight_decay = .1"
      ],
      "execution_count": null,
      "outputs": []
    },
    {
      "cell_type": "code",
      "metadata": {
        "id": "CLkyFjbdkvzN"
      },
      "source": [
        "opt = SGD(net1.parameters(), lr=0.001, momentum=0.9)\n",
        "\n",
        "opt1 = Adam([\n",
        "                {'params': net1.features[0].weight, 'lr': learnRate * 2},\n",
        "                {'params': net1.features[0].bias, 'lr': learnRate}]\n",
        "                , weight_decay=weight_decay)\n",
        "opt2 = Adam([\n",
        "                {'params': net1.classifier[1].weight, 'lr': learnRate * 2},\n",
        "                {'params': net1.classifier[1].bias, 'lr': learnRate * 2}]\n",
        "                , weight_decay=weight_decay)\n",
        "opt3 = Adam([\n",
        "                {'params': net1.classifier[4].weight, 'lr': learnRate * 2},\n",
        "                {'params': net1.classifier[4].bias, 'lr': learnRate * 2}]\n",
        "                , weight_decay=weight_decay)\n",
        "opt4 = Adam([\n",
        "                {'params': net1.classifier[6].weight, 'lr': learnRate * 2},\n",
        "                {'params': net1.classifier[6].bias, 'lr': learnRate * 2}]\n",
        "                , weight_decay=weight_decay)\n"
      ],
      "execution_count": null,
      "outputs": []
    },
    {
      "cell_type": "code",
      "metadata": {
        "id": "KkMVvGnJ0BjP",
        "colab": {
          "base_uri": "https://localhost:8080/"
        },
        "outputId": "252096ac-2ed8-414b-aaf0-6108ac7a0e2e"
      },
      "source": [
        "torch.cuda.is_available()"
      ],
      "execution_count": 39,
      "outputs": [
        {
          "output_type": "execute_result",
          "data": {
            "text/plain": [
              "True"
            ]
          },
          "metadata": {},
          "execution_count": 39
        }
      ]
    },
    {
      "cell_type": "code",
      "metadata": {
        "id": "cYPF0k6Ek3Le"
      },
      "source": [
        "def train(epoch,epochs, net1,trainLoader,trainAccuracy,trainLoss,opt1,opt2,opt3,opt4,opt,criterion):\n",
        "    running_loss = 0\n",
        "    total, correct = 0, 0\n",
        "    # for data in trainLoader:\n",
        "    for data in tqdm(trainLoader ,desc=\"Train\"):\n",
        "\n",
        "      inputs, labels = data\n",
        "      inputs = inputs.to(device)\n",
        "      labels = labels.to(device)\n",
        "\n",
        "      opt1.zero_grad()\n",
        "      opt2.zero_grad()\n",
        "      opt3.zero_grad()\n",
        "      opt4.zero_grad()\n",
        "      opt.zero_grad()\n",
        "\n",
        "      outputs = net1(inputs)\n",
        "      loss = criterion(outputs, labels)\n",
        "      loss.backward(retain_graph=True)\n",
        "\n",
        "      opt1.step()\n",
        "      opt2.step()\n",
        "      opt3.step()\n",
        "      opt4.step()\n",
        "      opt.step()\n",
        "\n",
        "      running_loss += loss.item() / len(trainLoader)\n",
        "      _, predicted = torch.max(outputs.data, 1)\n",
        "      total += labels.size(0)\n",
        "      correct += predicted.eq(labels).sum().item()\n",
        "\n",
        "    # print(\"weight of first layer is \", net1.layers[0].weight)\n",
        "\n",
        "\n",
        "    accuracy = 100 * correct / total\n",
        "    trainAccuracy.append(accuracy)\n",
        "    trainLoss.append(running_loss)\n",
        "    print(\"\\nTRAIN: Epoch {}/{}, Accuracy: {:.3f}, Loss: {:.3f}\".format(epoch+1,epochs, accuracy, running_loss))\n"
      ],
      "execution_count": 44,
      "outputs": []
    },
    {
      "cell_type": "code",
      "metadata": {
        "id": "huwJA-KRk7Vw"
      },
      "source": [
        "def test(epoch, epochs, net1,testLoader,testAccuracy,testLoss,criterion):    \n",
        "  running_loss = 0\n",
        "  total, correct = 0, 0\n",
        "  with torch.no_grad():\n",
        "    # for data in testLoader:\n",
        "    for data in tqdm(testLoader, desc=\"Test\"):\n",
        "      inputs, labels = data\n",
        "      inputs = inputs.to(device)\n",
        "      labels = labels.to(device)\n",
        "\n",
        "      outputs = net1(inputs)\n",
        "      loss = criterion(outputs, labels)\n",
        "      running_loss += loss.item() / len(testLoader)\n",
        "      \n",
        "      _, predicted = torch.max(outputs.data, 1)\n",
        "      total += labels.size(0)\n",
        "      correct += predicted.eq(labels).sum().item()\n",
        "\n",
        "    accuracy = 100 * correct / total\n",
        "    testAccuracy.append(accuracy)\n",
        "    testLoss.append(running_loss)\n",
        "\n",
        "    print(\"\\nTEST: Epoch {}/{}, Accuracy: {:.3f}, Loss: {:.3f}\".format(epoch+1,epochs, accuracy, running_loss))\n"
      ],
      "execution_count": 45,
      "outputs": []
    },
    {
      "cell_type": "code",
      "metadata": {
        "id": "jJOvRJjJY-C-",
        "colab": {
          "base_uri": "https://localhost:8080/"
        },
        "outputId": "60366764-5292-4518-a326-8c0d957a3a69"
      },
      "source": [
        "epochs = 10\n",
        "criterion = CrossEntropyLoss()\n",
        "trainAccuracy = []\n",
        "testAccuracy = []\n",
        "trainLoss = []\n",
        "testLoss = []\n",
        "\n",
        "for epoch in range(epochs):  # loop over the dataset multiple times\n",
        "  train(epoch, epochs, net1, trainLoader,trainAccuracy,trainLoss,opt1,opt2,opt3,opt4,opt,criterion)\n",
        "  test(epoch, epochs, net1,testLoader,testAccuracy,testLoss,criterion)"
      ],
      "execution_count": 46,
      "outputs": [
        {
          "output_type": "stream",
          "name": "stderr",
          "text": [
            "Train: 100%|██████████| 26/26 [23:57<00:00, 55.29s/it]\n"
          ]
        },
        {
          "output_type": "stream",
          "name": "stdout",
          "text": [
            "\n",
            "TRAIN: Epoch 1/10, Accuracy: 59.422, Loss: 4.288\n"
          ]
        },
        {
          "output_type": "stream",
          "name": "stderr",
          "text": [
            "Test: 100%|██████████| 12/12 [09:41<00:00, 48.49s/it]\n"
          ]
        },
        {
          "output_type": "stream",
          "name": "stdout",
          "text": [
            "\n",
            "TEST: Epoch 1/10, Accuracy: 46.494, Loss: 4.104\n"
          ]
        },
        {
          "output_type": "stream",
          "name": "stderr",
          "text": [
            "Train: 100%|██████████| 26/26 [01:03<00:00,  2.43s/it]\n"
          ]
        },
        {
          "output_type": "stream",
          "name": "stdout",
          "text": [
            "\n",
            "TRAIN: Epoch 2/10, Accuracy: 66.271, Loss: 3.223\n"
          ]
        },
        {
          "output_type": "stream",
          "name": "stderr",
          "text": [
            "Test: 100%|██████████| 12/12 [00:18<00:00,  1.50s/it]\n"
          ]
        },
        {
          "output_type": "stream",
          "name": "stdout",
          "text": [
            "\n",
            "TEST: Epoch 2/10, Accuracy: 46.494, Loss: 1.577\n"
          ]
        },
        {
          "output_type": "stream",
          "name": "stderr",
          "text": [
            "Train: 100%|██████████| 26/26 [01:02<00:00,  2.41s/it]\n"
          ]
        },
        {
          "output_type": "stream",
          "name": "stdout",
          "text": [
            "\n",
            "TRAIN: Epoch 3/10, Accuracy: 71.650, Loss: 0.641\n"
          ]
        },
        {
          "output_type": "stream",
          "name": "stderr",
          "text": [
            "Test: 100%|██████████| 12/12 [00:17<00:00,  1.49s/it]\n"
          ]
        },
        {
          "output_type": "stream",
          "name": "stdout",
          "text": [
            "\n",
            "TEST: Epoch 3/10, Accuracy: 46.494, Loss: 0.762\n"
          ]
        },
        {
          "output_type": "stream",
          "name": "stderr",
          "text": [
            "Train: 100%|██████████| 26/26 [01:02<00:00,  2.39s/it]\n"
          ]
        },
        {
          "output_type": "stream",
          "name": "stdout",
          "text": [
            "\n",
            "TRAIN: Epoch 4/10, Accuracy: 70.373, Loss: 0.635\n"
          ]
        },
        {
          "output_type": "stream",
          "name": "stderr",
          "text": [
            "Test: 100%|██████████| 12/12 [00:17<00:00,  1.50s/it]\n"
          ]
        },
        {
          "output_type": "stream",
          "name": "stdout",
          "text": [
            "\n",
            "TEST: Epoch 4/10, Accuracy: 46.494, Loss: 0.748\n"
          ]
        },
        {
          "output_type": "stream",
          "name": "stderr",
          "text": [
            "Train: 100%|██████████| 26/26 [01:02<00:00,  2.42s/it]\n"
          ]
        },
        {
          "output_type": "stream",
          "name": "stdout",
          "text": [
            "\n",
            "TRAIN: Epoch 5/10, Accuracy: 69.367, Loss: 0.626\n"
          ]
        },
        {
          "output_type": "stream",
          "name": "stderr",
          "text": [
            "Test: 100%|██████████| 12/12 [00:18<00:00,  1.51s/it]\n"
          ]
        },
        {
          "output_type": "stream",
          "name": "stdout",
          "text": [
            "\n",
            "TEST: Epoch 5/10, Accuracy: 80.831, Loss: 0.565\n"
          ]
        },
        {
          "output_type": "stream",
          "name": "stderr",
          "text": [
            "Train: 100%|██████████| 26/26 [01:03<00:00,  2.45s/it]\n"
          ]
        },
        {
          "output_type": "stream",
          "name": "stdout",
          "text": [
            "\n",
            "TRAIN: Epoch 6/10, Accuracy: 71.224, Loss: 0.602\n"
          ]
        },
        {
          "output_type": "stream",
          "name": "stderr",
          "text": [
            "Test: 100%|██████████| 12/12 [00:17<00:00,  1.50s/it]\n"
          ]
        },
        {
          "output_type": "stream",
          "name": "stdout",
          "text": [
            "\n",
            "TEST: Epoch 6/10, Accuracy: 66.566, Loss: 0.591\n"
          ]
        },
        {
          "output_type": "stream",
          "name": "stderr",
          "text": [
            "Train: 100%|██████████| 26/26 [01:02<00:00,  2.42s/it]\n"
          ]
        },
        {
          "output_type": "stream",
          "name": "stdout",
          "text": [
            "\n",
            "TRAIN: Epoch 7/10, Accuracy: 73.043, Loss: 0.564\n"
          ]
        },
        {
          "output_type": "stream",
          "name": "stderr",
          "text": [
            "Test: 100%|██████████| 12/12 [00:17<00:00,  1.49s/it]\n"
          ]
        },
        {
          "output_type": "stream",
          "name": "stdout",
          "text": [
            "\n",
            "TEST: Epoch 7/10, Accuracy: 74.692, Loss: 0.548\n"
          ]
        },
        {
          "output_type": "stream",
          "name": "stderr",
          "text": [
            "Train: 100%|██████████| 26/26 [01:02<00:00,  2.41s/it]\n"
          ]
        },
        {
          "output_type": "stream",
          "name": "stdout",
          "text": [
            "\n",
            "TRAIN: Epoch 8/10, Accuracy: 73.455, Loss: 0.555\n"
          ]
        },
        {
          "output_type": "stream",
          "name": "stderr",
          "text": [
            "Test: 100%|██████████| 12/12 [00:17<00:00,  1.50s/it]\n"
          ]
        },
        {
          "output_type": "stream",
          "name": "stdout",
          "text": [
            "\n",
            "TEST: Epoch 8/10, Accuracy: 75.805, Loss: 0.552\n"
          ]
        },
        {
          "output_type": "stream",
          "name": "stderr",
          "text": [
            "Train: 100%|██████████| 26/26 [01:03<00:00,  2.46s/it]\n"
          ]
        },
        {
          "output_type": "stream",
          "name": "stdout",
          "text": [
            "\n",
            "TRAIN: Epoch 9/10, Accuracy: 75.300, Loss: 0.517\n"
          ]
        },
        {
          "output_type": "stream",
          "name": "stderr",
          "text": [
            "Test: 100%|██████████| 12/12 [00:18<00:00,  1.52s/it]\n"
          ]
        },
        {
          "output_type": "stream",
          "name": "stdout",
          "text": [
            "\n",
            "TEST: Epoch 9/10, Accuracy: 73.458, Loss: 0.587\n"
          ]
        },
        {
          "output_type": "stream",
          "name": "stderr",
          "text": [
            "Train: 100%|██████████| 26/26 [01:03<00:00,  2.44s/it]\n"
          ]
        },
        {
          "output_type": "stream",
          "name": "stdout",
          "text": [
            "\n",
            "TRAIN: Epoch 10/10, Accuracy: 74.358, Loss: 0.538\n"
          ]
        },
        {
          "output_type": "stream",
          "name": "stderr",
          "text": [
            "Test: 100%|██████████| 12/12 [00:18<00:00,  1.52s/it]"
          ]
        },
        {
          "output_type": "stream",
          "name": "stdout",
          "text": [
            "\n",
            "TEST: Epoch 10/10, Accuracy: 51.098, Loss: 0.714\n"
          ]
        },
        {
          "output_type": "stream",
          "name": "stderr",
          "text": [
            "\n"
          ]
        }
      ]
    },
    {
      "cell_type": "code",
      "metadata": {
        "id": "kw_NADSe1nkx",
        "colab": {
          "base_uri": "https://localhost:8080/",
          "height": 295
        },
        "outputId": "35ee5ff8-2376-48bb-996e-c1e4db5674a6"
      },
      "source": [
        "plt.plot(trainAccuracy,'-o')\n",
        "plt.plot(testAccuracy,'-o')\n",
        "plt.xlabel('epoch')\n",
        "plt.ylabel('accuracy')\n",
        "plt.legend(['Train','Test'])\n",
        "plt.title('Accuracy')\n",
        " \n",
        "plt.show()"
      ],
      "execution_count": 47,
      "outputs": [
        {
          "output_type": "display_data",
          "data": {
            "image/png": "[encoded data removed]",
            "text/plain": [
              "<Figure size 432x288 with 1 Axes>"
            ]
          },
          "metadata": {
            "needs_background": "light"
          }
        }
      ]
    },
    {
      "cell_type": "code",
      "metadata": {
        "id": "nrEnKTln3daY",
        "colab": {
          "base_uri": "https://localhost:8080/",
          "height": 295
        },
        "outputId": "7a2571ae-26f8-4456-ed9a-05b682c80e93"
      },
      "source": [
        "plt.plot(trainLoss,'-o')\n",
        "plt.plot(testLoss,'-o')\n",
        "plt.xlabel('epoch')\n",
        "plt.ylabel('losses')\n",
        "plt.legend(['Train','Test'])\n",
        "plt.title('Loss')\n",
        " \n",
        "plt.show()"
      ],
      "execution_count": 48,
      "outputs": [
        {
          "output_type": "display_data",
          "data": {
            "image/png": "[encoded data removed]",
            "text/plain": [
              "<Figure size 432x288 with 1 Axes>"
            ]
          },
          "metadata": {
            "needs_background": "light"
          }
        }
      ]
    },
    {
      "cell_type": "code",
      "metadata": {
        "id": "MH5jDbGiMl1b"
      },
      "source": [
        "zzz"
      ],
      "execution_count": null,
      "outputs": []
    },
    {
      "cell_type": "markdown",
      "metadata": {
        "id": "QILBYzSmwtBC"
      },
      "source": [
        "**Part below is for net2! (for high)**"
      ]
    },
    {
      "cell_type": "code",
      "metadata": {
        "id": "TJtHJ_5KrcNf"
      },
      "source": [
        "transform = transforms.Compose(\n",
        "    [transforms.ToTensor(),\n",
        "     transforms.Normalize((mean), (std))])"
      ],
      "execution_count": null,
      "outputs": []
    },
    {
      "cell_type": "code",
      "metadata": {
        "id": "EdK-O_4gh0QK"
      },
      "source": [
        "class CustomDataset(Dataset):\n",
        "    def __init__(self, csv_path, images_folder, transform = None):\n",
        "        self.df = read_csv(csv_path)\n",
        "        self.imagesFolder = images_folder\n",
        "        self.transform = transform\n",
        "        self.class2index = {\"male\":0, \"female\":1}\n",
        "\n",
        "    def __len__(self):\n",
        "        return len(self.df)\n",
        "        \n",
        "    def __getitem__(self, index):\n",
        "        filename = self.df[\"imageName\"][index]\n",
        "        label = self.class2index[self.df[\"gender\"][index]]\n",
        "        image = getPartOfMat(loadmat(self.imagesFolder + \"/\" + filename[:-3] + \"mat\"), \"high\")\n",
        "        if self.transform is not None:\n",
        "          image = self.transform(image)\n",
        "        return image, label\n",
        "      \n",
        "    def images(self):\n",
        "      return glob(self.imagesFolder + \"/*.mat\")\n",
        "        "
      ],
      "execution_count": null,
      "outputs": []
    },
    {
      "cell_type": "code",
      "metadata": {
        "id": "yavhTVHoh0QL"
      },
      "source": [
        "dataset = CustomDataset(LABEL_PATH, OUT_PATH, transform)\n",
        "img, label = dataset[100]\n",
        "img.shape"
      ],
      "execution_count": null,
      "outputs": []
    },
    {
      "cell_type": "code",
      "metadata": {
        "id": "H6tz8o70h0QL"
      },
      "source": [
        "batch_size = 80\n",
        "validation_split = 0.7\n",
        "shuffle_dataset = True\n",
        "dataset_size = len(dataset)\n",
        "split = int(np.floor(validation_split * dataset_size))\n",
        "indices = list(range(dataset_size))\n",
        "\n",
        "train_indices, test_indices = indices[:split], indices[split:]\n",
        "\n",
        "train_sampler = SubsetRandomSampler(train_indices)\n",
        "test_sampler = SubsetRandomSampler(test_indices)\n",
        "\n",
        "trainLoader = DataLoader(dataset, batch_size=batch_size, sampler=train_sampler)\n",
        "testLoader = DataLoader(dataset, batch_size=batch_size, sampler=test_sampler)"
      ],
      "execution_count": null,
      "outputs": []
    },
    {
      "cell_type": "code",
      "metadata": {
        "id": "bQWOaJe6h0QL"
      },
      "source": [
        "len(trainLoader)"
      ],
      "execution_count": null,
      "outputs": []
    },
    {
      "cell_type": "code",
      "metadata": {
        "id": "w0MsUV9mh0QL"
      },
      "source": [
        "len(testLoader)"
      ],
      "execution_count": null,
      "outputs": []
    },
    {
      "cell_type": "code",
      "metadata": {
        "id": "bkdeTxq0h0QM"
      },
      "source": [
        "class Net(nn.Module):\n",
        "    def __init__(self, alexNet):\n",
        "        super(Net, self).__init__()\n",
        "        self.conv2d1 = Conv2d(1, 64, 11, stride=3, padding=0)\n",
        "        self.relu1 = alexNet.features[1]\n",
        "        self.pool1 = alexNet.features[2]\n",
        "        self.conv2d2 = alexNet.features[3]\n",
        "        self.relu2 = alexNet.features[4]\n",
        "        self.pool2 = alexNet.features[5]\n",
        "        self.conv2d3 = alexNet.features[6]\n",
        "        self.relu3 = alexNet.features[7]\n",
        "        self.conv2d4 = alexNet.features[8]\n",
        "        self.relu4 = alexNet.features[9]\n",
        "        self.conv2d5 = Conv2d(256, 256, 11, stride=1, padding=1)\n",
        "        self.relu5 = alexNet.features[11]\n",
        "        self.pool5 = alexNet.features[12]\n",
        "        self.fc6 = Linear(256 * 4 * 4, 4096,bias=True)\n",
        "        self.relu6 = alexNet.classifier[2]\n",
        "        self.drop6 = alexNet.classifier[0]\n",
        "        self.fc7 = Linear(4096,4096,bias=True)\n",
        "        self.relu7 = alexNet.classifier[2]\n",
        "        self.drop7 = alexNet.classifier[0]\n",
        "        self.fc8 = Linear(4096,2048,bias=True)\n",
        "        self.relu8 = alexNet.classifier[2]\n",
        "        self.drop8 = alexNet.classifier[0]\n",
        "        self.fc9 = Linear(2048,2048,True)\n",
        "        self.relu9 = alexNet.classifier[2]\n",
        "        self.drop9 = alexNet.classifier[0]\n",
        "        self.fc9_ = Linear(2048, 2, True)\n",
        "        \n",
        "        self.layers = [self.conv2d1,self.relu1,self.pool1,\n",
        "                       self.conv2d2,self.relu2,self.pool2,\n",
        "                       self.conv2d3,self.relu3,\n",
        "                       self.conv2d4,self.relu4,\n",
        "                       self.conv2d5,self.relu5,self.pool5,\n",
        "                       self.fc6,self.relu6,self.drop6,\n",
        "                       self.fc7,self.relu7,self.drop7,\n",
        "                       self.fc8,self.relu8,self.drop8,\n",
        "                       self.fc9,self.relu9,self.drop9,self.fc9_]\n",
        "\n",
        "    def forward(self, x):\n",
        "        x = self.pool1(self.relu1(self.conv2d1(x)))\n",
        "        x = self.pool2(self.relu2(self.conv2d2(x)))\n",
        "        x = self.relu3(self.conv2d3(x))\n",
        "        x = self.relu4(self.conv2d4(x))\n",
        "        x = self.pool5(self.relu5(self.conv2d5(x)))\n",
        "        x = x.view(-1,256 * 4 * 4)\n",
        "        x = self.drop6(self.relu6(self.fc6(x)))\n",
        "        x = self.drop7(self.relu7(self.fc7(x)))\n",
        "        x = self.drop8(self.relu8(self.fc8(x)))\n",
        "        x = self.drop9(self.relu9(self.fc9(x)))\n",
        "        x = self.fc9_(x)\n",
        "        x = softmax(x, dim = 1)\n",
        "        return x"
      ],
      "execution_count": null,
      "outputs": []
    },
    {
      "cell_type": "code",
      "metadata": {
        "id": "29IlA1h4DGcc"
      },
      "source": [
        "learnRate = .01"
      ],
      "execution_count": null,
      "outputs": []
    },
    {
      "cell_type": "code",
      "metadata": {
        "id": "cMnm7l_iDOUh"
      },
      "source": [
        "net2 = Net(alexNet).to(device)\n",
        "net2"
      ],
      "execution_count": null,
      "outputs": []
    },
    {
      "cell_type": "code",
      "metadata": {
        "id": "SuaUPp9gh0QM"
      },
      "source": [
        "opt1 = Adam([\n",
        "                {'params': net2.conv2d1.weight, 'lr': learnRate},\n",
        "                {'params': net2.conv2d1.bias, 'lr': learnRate}]\n",
        "                , weight_decay=0.8)\n",
        "opt2 = Adam([\n",
        "                {'params': net2.fc6.weight, 'lr': learnRate * 2},\n",
        "                {'params': net2.fc6.bias, 'lr': learnRate * 2}]\n",
        "                , weight_decay=0.8)\n",
        "opt3 = Adam([\n",
        "                {'params': net2.fc7.weight, 'lr': learnRate * 2},\n",
        "                {'params': net2.fc7.bias, 'lr': learnRate * 2}]\n",
        "                , weight_decay=0.8)\n",
        "opt4 = Adam([\n",
        "                {'params': net2.fc8.weight, 'lr': learnRate * 2},\n",
        "                {'params': net2.fc8.bias, 'lr': learnRate * 2}]\n",
        "                , weight_decay=0.8)\n",
        "opt5 = Adam([\n",
        "                {'params': net2.fc9.weight, 'lr': learnRate * 2},\n",
        "                {'params': net2.fc9.bias, 'lr': learnRate * 2}]\n",
        "                , weight_decay=0.8)\n",
        "\n",
        "opt6 = Adam([\n",
        "                {'params': net2.fc9_.weight, 'lr': learnRate * 2},\n",
        "                {'params': net2.fc9_.bias, 'lr': learnRate * 2}]\n",
        "                , weight_decay=0.8)\n",
        "\n",
        "opt = SGD(net2.parameters(), lr=0.0001)"
      ],
      "execution_count": null,
      "outputs": []
    },
    {
      "cell_type": "code",
      "metadata": {
        "id": "6X67hqjwBcFz"
      },
      "source": [
        "criterion = CrossEntropyLoss()\n",
        "trainAccuracy = []\n",
        "testAccuracy = []\n",
        "trainLoss = []\n",
        "testLoss = []"
      ],
      "execution_count": null,
      "outputs": []
    },
    {
      "cell_type": "code",
      "metadata": {
        "id": "LBIfoIwkCgp5"
      },
      "source": [
        "def train(epoch, epochs, net2, trainLoader,trainAccuracy,trainLoss,opt1,opt2,opt3,opt4,opt5,opt6,opt,criterion)\n",
        "    running_loss = 0\n",
        "    total, correct = 0, 0\n",
        "    for data in trainLoader:\n",
        "    # for data in tqdm(trainLoader):\n",
        "      inputs, labels = data\n",
        "      inputs = inputs.to(device)\n",
        "      labels = labels.to(device)\n",
        "\n",
        "      opt1.zero_grad()\n",
        "      opt2.zero_grad()\n",
        "      opt3.zero_grad()\n",
        "      opt4.zero_grad()\n",
        "      opt5.zero_grad()\n",
        "      opt6.zero_grad()\n",
        "      opt.zero_grad()\n",
        "\n",
        "      outputs = net2(inputs)\n",
        "      loss = criterion(outputs, labels)\n",
        "      loss.backward()\n",
        "\n",
        "      opt1.step()\n",
        "      opt2.step()\n",
        "      opt3.step()\n",
        "      opt4.step()\n",
        "      opt5.step()\n",
        "      opt6.step()\n",
        "      opt.step()\n",
        "\n",
        "      running_loss += loss.item()\n",
        "      _, predicted = torch.max(outputs.data, 1)\n",
        "      total += labels.size(0)\n",
        "      correct += predicted.eq(labels).sum().item()\n",
        "\n",
        "    accuracy = 100 * correct / total\n",
        "    loss = running_loss / len(trainLoader)\n",
        "    trainAccuracy.append(accuracy)\n",
        "    trainLoss.append(loss)\n",
        "\n",
        "    print(\"\\nTRAIN: Epoch {}/{}, Accuracy: {:.3f}\".format(epoch+1,epochs, 100 * correct/total))\n"
      ],
      "execution_count": null,
      "outputs": []
    },
    {
      "cell_type": "code",
      "metadata": {
        "id": "wHndpIPaCnPA"
      },
      "source": [
        "def test(epoch, epochs, net2,testLoader,testAccuracy,testLoss,criterion):    \n",
        "  running_loss = 0\n",
        "  total, correct = 0, 0\n",
        "  with torch.no_grad():\n",
        "    for data in testLoader:\n",
        "    # for data in tqdm(testLoader):\n",
        "      inputs, labels = data\n",
        "      inputs = inputs.to(device)\n",
        "      labels = labels.to(device)\n",
        "\n",
        "      outputs = net2(inputs)\n",
        "      loss = criterion(outputs, labels)\n",
        "      running_loss += loss.item()\n",
        "      \n",
        "      _, predicted = torch.max(outputs.data, 1)\n",
        "      total += labels.size(0)\n",
        "      correct += predicted.eq(labels).sum().item()\n",
        "\n",
        "    accuracy = 100 * correct / total\n",
        "    loss = running_loss / len(testLoader)\n",
        "    testAccuracy.append(accuracy)\n",
        "    testLoss.append(loss)\n",
        "\n",
        "    print(\"\\nTEST: Epoch {}/{}, Accuracy: {:.3f}, Loss: {:.3f}\".format(epoch+1,epochs, accuracy,loss))\n"
      ],
      "execution_count": null,
      "outputs": []
    },
    {
      "cell_type": "code",
      "metadata": {
        "id": "Qgi6x_fPh0QN"
      },
      "source": [
        "for epoch in tqdm(range(epochs)):  # loop over the dataset multiple times\n",
        "  train(epoch, epochs, net2, trainLoader,trainAccuracy,trainLoss,opt1,opt2,opt3,opt4,opt5,opt6,opt,criterion)\n",
        "  test(epoch, epochs, net2,testLoader,testAccuracy,testLoss,criterion)  "
      ],
      "execution_count": null,
      "outputs": []
    },
    {
      "cell_type": "code",
      "metadata": {
        "id": "lJfJ0yD0M35W"
      },
      "source": [
        "plt.plot(trainAccuracy,'-o')\n",
        "plt.plot(testAccuracy,'-o')\n",
        "plt.xlabel('epoch')\n",
        "plt.ylabel('accuracy')\n",
        "plt.legend(['Train','Test'])\n",
        "plt.title('Train vs Test Accuracy')\n",
        " \n",
        "plt.show()"
      ],
      "execution_count": null,
      "outputs": []
    },
    {
      "cell_type": "code",
      "metadata": {
        "id": "DXMOxvTmM35W"
      },
      "source": [
        "plt.plot(trainLoss,'-o')\n",
        "plt.plot(testLoss,'-o')\n",
        "plt.xlabel('epoch')\n",
        "plt.ylabel('losses')\n",
        "plt.legend(['Train','Test'])\n",
        "plt.title('Train vs Valid Losses')\n",
        " \n",
        "plt.show()"
      ],
      "execution_count": null,
      "outputs": []
    },
    {
      "cell_type": "code",
      "metadata": {
        "id": "fxyCKIGR5PPQ"
      },
      "source": [
        "zzz"
      ],
      "execution_count": null,
      "outputs": []
    },
    {
      "cell_type": "code",
      "metadata": {
        "id": "kyZXEFKF4HXQ"
      },
      "source": [
        "transform = transforms.Compose(\n",
        "    [transforms.ToTensor(),\n",
        "     transforms.Normalize((mean1, mean2, mean3, mean), (1, 1, 1, 1))])"
      ],
      "execution_count": null,
      "outputs": []
    },
    {
      "cell_type": "code",
      "metadata": {
        "id": "70zUHMxT5AG_"
      },
      "source": [
        "class CustomDataset(Dataset):\n",
        "    def __init__(self, csv_path, images_folder, transform = None):\n",
        "        self.df = read_csv(csv_path)\n",
        "        self.imagesFolder = images_folder\n",
        "        self.transform = transform\n",
        "        self.class2index = {\"male\":0, \"female\":1}\n",
        "\n",
        "    def __len__(self):\n",
        "        return len(self.df)\n",
        "        \n",
        "    def __getitem__(self, index):\n",
        "        filename = self.df[\"imageName\"][index]\n",
        "        label = self.class2index[self.df[\"gender\"][index]]\n",
        "        image = getPartOfMat(loadmat(self.imagesFolder + \"/\" + filename[:-3] + \"mat\"), \"normal\")\n",
        "        if self.transform is not None:\n",
        "          image = self.transform(image)\n",
        "        return image, label\n",
        "      \n",
        "    def images(self):\n",
        "      return glob(self.imagesFolder + \"/*.mat\")\n",
        "        "
      ],
      "execution_count": null,
      "outputs": []
    },
    {
      "cell_type": "code",
      "metadata": {
        "id": "53WGVUJR5AG_"
      },
      "source": [
        "dataset = CustomDataset(LABEL_PATH, OUT_PATH, transform)\n",
        "img, label = dataset[100]\n",
        "img.shape"
      ],
      "execution_count": null,
      "outputs": []
    },
    {
      "cell_type": "code",
      "metadata": {
        "id": "h9njkyqS5AHA"
      },
      "source": [
        "epochs = 20\n",
        "batch_size = 80\n",
        "validation_split = 0.7\n",
        "shuffle_dataset = True\n",
        "dataset_size = len(dataset)\n",
        "split = int(np.floor(validation_split * dataset_size))\n",
        "indices = list(range(dataset_size))\n",
        "\n",
        "train_indices, test_indices = indices[:split], indices[split:]\n",
        "\n",
        "train_sampler = SubsetRandomSampler(train_indices)\n",
        "test_sampler = SubsetRandomSampler(test_indices)\n",
        "\n",
        "trainLoader = DataLoader(dataset, batch_size=batch_size, sampler=train_sampler)\n",
        "testLoader = DataLoader(dataset, batch_size=batch_size, sampler=test_sampler)"
      ],
      "execution_count": null,
      "outputs": []
    },
    {
      "cell_type": "code",
      "metadata": {
        "id": "BxKeZEYr5AHA"
      },
      "source": [
        "len(trainLoader)"
      ],
      "execution_count": null,
      "outputs": []
    },
    {
      "cell_type": "code",
      "metadata": {
        "id": "ZNwvU8Po5AHA"
      },
      "source": [
        "len(testLoader)"
      ],
      "execution_count": null,
      "outputs": []
    },
    {
      "cell_type": "code",
      "metadata": {
        "id": "J414_bOt5AHA"
      },
      "source": [
        "class Net(nn.Module):\n",
        "    def __init__(self,alexNet, net1, net2):\n",
        "        super(Net, self).__init__()\n",
        "        self.skipConv1 = Conv2d(4, 64, 11, stride=3, padding=2)\n",
        "        self.skipConv2 = Conv2d(4, 64, 11, stride=3, padding=2)\n",
        "        self.relu1 = net1.layers[1]\n",
        "        self.pool1 = net1.layers[2]\n",
        "        self.conv2d2 = net1.layers[3]\n",
        "        self.relu2 = net1.layers[4]\n",
        "        self.pool2 = net1.layers[5]\n",
        "        self.conv2d3 = net1.layers[6]\n",
        "        self.relu3 = net1.layers[7]\n",
        "        self.conv2d4 = net1.layers[8]\n",
        "        self.relu4 = net1.layers[9]\n",
        "        self.conv2d5 = net1.layers[10]\n",
        "        self.relu5 = net1.layers[11]\n",
        "        self.pool5 = net1.layers[12]\n",
        "        self.fc6 = net1.layers[13]\n",
        "        self.relu6 = alexNet.classifier[2]\n",
        "        self.drop6 = alexNet.classifier[0]\n",
        "        self.fc7 = Linear(4096,4096,bias=True)\n",
        "        self.relu7 = alexNet.classifier[2]\n",
        "        self.drop7 = alexNet.classifier[0]\n",
        "        self.fc8 = Linear(4096,2048,bias=True)\n",
        "        self.relu8 = alexNet.classifier[2]\n",
        "        self.drop8 = alexNet.classifier[0]\n",
        "        self.fc9 = Linear(2048,2,True)\n",
        "        #\n",
        "        \n",
        "        self.relu9 = alexNet.classifier[2]\n",
        "        self.drop9 = alexNet.classifier[0]\n",
        "        # self.cl = Softmax(dim = -1) #error\n",
        "\n",
        "    def forward(self, x):\n",
        "        x = self.pool1(self.relu1(self.conv2d1(x)))\n",
        "        x = self.pool2(self.relu2(self.conv2d2(x)))\n",
        "        x = self.relu3(self.conv2d3(x))\n",
        "        x = self.relu4(self.conv2d4(x))\n",
        "        x = self.pool5(self.relu5(self.conv2d5(x)))\n",
        "\n",
        "        x = x.view(-1,256 * 4 * 4)\n",
        "        x = self.drop6(self.relu6(self.fc6(x)))\n",
        "        x = self.drop7(self.relu7(self.fc7(x)))\n",
        "        x = self.drop8(self.relu8(self.fc8(x)))\n",
        "        x = self.drop9(self.relu9(self.fc9(x)))\n",
        "\n",
        "        x = softmax(x, dim = 1)\n",
        "        # print(x)\n",
        "        return x"
      ],
      "execution_count": null,
      "outputs": []
    },
    {
      "cell_type": "code",
      "metadata": {
        "id": "UVQ6rNvi5AHA"
      },
      "source": [
        "twoStream = Net(alexNet).to(device)\n",
        "opt1 = Adam([\n",
        "                {'params': net1.skipConv1.weight, 'lr': 0},\n",
        "                {'params': net1.skipConv1.bias, 'lr': 0}]\n",
        "                , weight_decay=1)\n",
        "opt2 = Adam([\n",
        "                {'params': net1.skipConv2.weight, 'lr': 0},\n",
        "                {'params': net1.skipConv2.bias, 'lr': 0}]\n",
        "                , weight_decay=1)\n",
        "# opt2 = Adam([\n",
        "#                 {'params': net1.fc6.weight, 'lr': 20 * 2},\n",
        "#                 {'params': net1.fc6.bias, 'lr': 20 * 2}]\n",
        "#                 , weight_decay=0.8)\n",
        "# opt3 = Adam([\n",
        "#                 {'params': net1.fc7.weight, 'lr': 20 * 2},\n",
        "#                 {'params': net1.fc7.bias, 'lr': 20 * 2}]\n",
        "#                 , weight_decay=0.8)\n",
        "# opt4 = Adam([\n",
        "#                 {'params': net1.fc8.weight, 'lr': 20 * 2},\n",
        "#                 {'params': net1.fc8.bias, 'lr': 20 * 2}]\n",
        "#                 , weight_decay=0.8)\n",
        "# opt5 = Adam([\n",
        "#                 {'params': net1.fc9.weight, 'lr': 20 * 2},\n",
        "#                 {'params': net1.fc9.bias, 'lr': 20 * 2}]\n",
        "#                 , weight_decay=0.8)\n",
        "\n",
        "# opt = SGD(net1.parameters(), lr=0.0001)\n"
      ],
      "execution_count": null,
      "outputs": []
    },
    {
      "cell_type": "code",
      "metadata": {
        "id": "N774j-r_5AHB"
      },
      "source": [
        "twoStream"
      ],
      "execution_count": null,
      "outputs": []
    },
    {
      "cell_type": "code",
      "metadata": {
        "id": "wsJ_90-75AHB"
      },
      "source": [
        "criterion = CrossEntropyLoss()\n",
        "trainAccuracy = []\n",
        "testAccuracy = []\n",
        "trainLoss = []\n",
        "testLoss = []"
      ],
      "execution_count": null,
      "outputs": []
    },
    {
      "cell_type": "code",
      "metadata": {
        "id": "riZD8vTe5AHB"
      },
      "source": [
        "for epoch in tqdm(range(epochs)):  # loop over the dataset multiple times\n",
        "    running_loss = 0\n",
        "    total, correct = 0, 0\n",
        "    for data in trainLoader:\n",
        "      inputs, labels = data\n",
        "      inputs = inputs.to(device)\n",
        "      labels = labels.to(device)\n",
        "\n",
        "      opt1.zero_grad()\n",
        "      opt2.zero_grad()\n",
        "      opt3.zero_grad()\n",
        "      opt4.zero_grad()\n",
        "      opt5.zero_grad()\n",
        "      opt.zero_grad()\n",
        "\n",
        "      outputs = net1(inputs)\n",
        "      loss = criterion(outputs, labels)\n",
        "      loss.backward()\n",
        "\n",
        "      opt1.step()\n",
        "      opt2.step()\n",
        "      opt3.step()\n",
        "      opt4.step()\n",
        "      opt5.step()\n",
        "      opt.step()\n",
        "\n",
        "      running_loss += loss.item()\n",
        "      _, predicted = torch.max(outputs.data, 1)\n",
        "      total += labels.size(0)\n",
        "      correct += predicted.eq(labels).sum().item()\n",
        "\n",
        "    accuracy = 100 * correct / total\n",
        "    loss = running_loss / len(trainLoader)\n",
        "    trainAccuracy.append(accuracy)\n",
        "    trainLoss.append(loss)\n",
        "    print(\"\\nEpoch {}/{}, Accuracy: {:.3f}, Loss: {:.3f}\".format(epoch+1,epochs, accuracy,loss))\n",
        "\n",
        "print('Finished Training')"
      ],
      "execution_count": null,
      "outputs": []
    },
    {
      "cell_type": "code",
      "metadata": {
        "id": "VqtAME1Y5AHB"
      },
      "source": [
        "for epoch in tqdm(range(epochs)):  # loop over the dataset multiple times\n",
        "    running_loss = 0\n",
        "    total, correct = 0, 0\n",
        "    with torch.no_grad():\n",
        "      for data in testLoader:\n",
        "        inputs, labels = data\n",
        "        inputs = inputs.to(device)\n",
        "        labels = labels.to(device)\n",
        "\n",
        "        outputs = net1(inputs)\n",
        "        loss = criterion(outputs, labels)\n",
        "        running_loss+=loss.item()\n",
        "        \n",
        "        _, predicted = torch.max(outputs.data, 1)\n",
        "        total += labels.size(0)\n",
        "        correct += predicted.eq(labels).sum().item()\n",
        "\n",
        "      accuracy = 100 * correct / total\n",
        "      loss = running_loss / len(testLoader)\n",
        "      testAccuracy.append(accuracy)\n",
        "      testLoss.append(loss)\n",
        "\n",
        "      print(\"\\nEpoch {}/{}, Accuracy: {:.3f}, Loss: {:.3f}\".format(epoch+1,num_epochs, accuracy,loss))\n",
        "\n",
        "print('Finished Testing')"
      ],
      "execution_count": null,
      "outputs": []
    },
    {
      "cell_type": "code",
      "metadata": {
        "id": "tKx2tgUo5AHB"
      },
      "source": [
        "plt.plot(trainAccuracy,'-o')\n",
        "plt.plot(testAccuracy,'-o')\n",
        "plt.xlabel('epoch')\n",
        "plt.ylabel('accuracy')\n",
        "plt.legend(['Train','Test'])\n",
        "plt.title('Train vs Test Accuracy')\n",
        " \n",
        "plt.show()"
      ],
      "execution_count": null,
      "outputs": []
    },
    {
      "cell_type": "code",
      "metadata": {
        "id": "kL9os0hP5AHC"
      },
      "source": [
        "plt.plot(trainLoss,'-o')\n",
        "plt.plot(testLoss,'-o')\n",
        "plt.xlabel('epoch')\n",
        "plt.ylabel('losses')\n",
        "plt.legend(['Train','Test'])\n",
        "plt.title('Train vs Valid Losses')\n",
        " \n",
        "plt.show()"
      ],
      "execution_count": null,
      "outputs": []
    }
  ]
}