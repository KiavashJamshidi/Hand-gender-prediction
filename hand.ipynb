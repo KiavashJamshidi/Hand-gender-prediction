{
  "nbformat": 4,
  "nbformat_minor": 0,
  "metadata": {
    "colab": {
      "name": "hand.ipynb",
      "provenance": [],
      "collapsed_sections": [],
      "mount_file_id": "1zRPZ8I9gSxIBoIoG7kmOopuHHiQvNFgr",
      "authorship_tag": "ABX9TyN8KXjeIe6b22Vnp8+vn7dg",
      "include_colab_link": true
    },
    "kernelspec": {
      "display_name": "Python 3",
      "name": "python3"
    },
    "language_info": {
      "name": "python"
    },
    "widgets": {
      "application/vnd.jupyter.widget-state+json": {
        "8c014ab64f884e2bbf7ccd6cad045293": {
          "model_module": "@jupyter-widgets/controls",
          "model_name": "HBoxModel",
          "model_module_version": "1.5.0",
          "state": {
            "_view_name": "HBoxView",
            "_dom_classes": [],
            "_model_name": "HBoxModel",
            "_view_module": "@jupyter-widgets/controls",
            "_model_module_version": "1.5.0",
            "_view_count": null,
            "_view_module_version": "1.5.0",
            "box_style": "",
            "layout": "IPY_MODEL_cdc4d075f587412ba24dda7211e32adc",
            "_model_module": "@jupyter-widgets/controls",
            "children": [
              "IPY_MODEL_571d3c10bb524c999578b1bd911e855b",
              "IPY_MODEL_45e227c6368b41e3bad498d5f9cbb2c8",
              "IPY_MODEL_6fbda43774834b0aae8121b9698e5317"
            ]
          }
        },
        "cdc4d075f587412ba24dda7211e32adc": {
          "model_module": "@jupyter-widgets/base",
          "model_name": "LayoutModel",
          "model_module_version": "1.2.0",
          "state": {
            "_view_name": "LayoutView",
            "grid_template_rows": null,
            "right": null,
            "justify_content": null,
            "_view_module": "@jupyter-widgets/base",
            "overflow": null,
            "_model_module_version": "1.2.0",
            "_view_count": null,
            "flex_flow": null,
            "width": null,
            "min_width": null,
            "border": null,
            "align_items": null,
            "bottom": null,
            "_model_module": "@jupyter-widgets/base",
            "top": null,
            "grid_column": null,
            "overflow_y": null,
            "overflow_x": null,
            "grid_auto_flow": null,
            "grid_area": null,
            "grid_template_columns": null,
            "flex": null,
            "_model_name": "LayoutModel",
            "justify_items": null,
            "grid_row": null,
            "max_height": null,
            "align_content": null,
            "visibility": null,
            "align_self": null,
            "height": null,
            "min_height": null,
            "padding": null,
            "grid_auto_rows": null,
            "grid_gap": null,
            "max_width": null,
            "order": null,
            "_view_module_version": "1.2.0",
            "grid_template_areas": null,
            "object_position": null,
            "object_fit": null,
            "grid_auto_columns": null,
            "margin": null,
            "display": null,
            "left": null
          }
        },
        "571d3c10bb524c999578b1bd911e855b": {
          "model_module": "@jupyter-widgets/controls",
          "model_name": "HTMLModel",
          "model_module_version": "1.5.0",
          "state": {
            "_view_name": "HTMLView",
            "style": "IPY_MODEL_dc2407e2df1a4614af1b711fc9a07973",
            "_dom_classes": [],
            "description": "",
            "_model_name": "HTMLModel",
            "placeholder": "​",
            "_view_module": "@jupyter-widgets/controls",
            "_model_module_version": "1.5.0",
            "value": "100%",
            "_view_count": null,
            "_view_module_version": "1.5.0",
            "description_tooltip": null,
            "_model_module": "@jupyter-widgets/controls",
            "layout": "IPY_MODEL_d2587e1216264845874c2c19ccb2d950"
          }
        },
        "45e227c6368b41e3bad498d5f9cbb2c8": {
          "model_module": "@jupyter-widgets/controls",
          "model_name": "FloatProgressModel",
          "model_module_version": "1.5.0",
          "state": {
            "_view_name": "ProgressView",
            "style": "IPY_MODEL_9174795bdc66440f9eed819092cd9ed0",
            "_dom_classes": [],
            "description": "",
            "_model_name": "FloatProgressModel",
            "bar_style": "success",
            "max": 244408911,
            "_view_module": "@jupyter-widgets/controls",
            "_model_module_version": "1.5.0",
            "value": 244408911,
            "_view_count": null,
            "_view_module_version": "1.5.0",
            "orientation": "horizontal",
            "min": 0,
            "description_tooltip": null,
            "_model_module": "@jupyter-widgets/controls",
            "layout": "IPY_MODEL_c2bbfc4ecd30482e8e1b01f9a84a4089"
          }
        },
        "6fbda43774834b0aae8121b9698e5317": {
          "model_module": "@jupyter-widgets/controls",
          "model_name": "HTMLModel",
          "model_module_version": "1.5.0",
          "state": {
            "_view_name": "HTMLView",
            "style": "IPY_MODEL_dd7e572e9c0342ea8ce67e089f535c5c",
            "_dom_classes": [],
            "description": "",
            "_model_name": "HTMLModel",
            "placeholder": "​",
            "_view_module": "@jupyter-widgets/controls",
            "_model_module_version": "1.5.0",
            "value": " 233M/233M [00:05&lt;00:00, 42.5MB/s]",
            "_view_count": null,
            "_view_module_version": "1.5.0",
            "description_tooltip": null,
            "_model_module": "@jupyter-widgets/controls",
            "layout": "IPY_MODEL_39533c69371d4b3581a1a66cbbd6124e"
          }
        },
        "dc2407e2df1a4614af1b711fc9a07973": {
          "model_module": "@jupyter-widgets/controls",
          "model_name": "DescriptionStyleModel",
          "model_module_version": "1.5.0",
          "state": {
            "_view_name": "StyleView",
            "_model_name": "DescriptionStyleModel",
            "description_width": "",
            "_view_module": "@jupyter-widgets/base",
            "_model_module_version": "1.5.0",
            "_view_count": null,
            "_view_module_version": "1.2.0",
            "_model_module": "@jupyter-widgets/controls"
          }
        },
        "d2587e1216264845874c2c19ccb2d950": {
          "model_module": "@jupyter-widgets/base",
          "model_name": "LayoutModel",
          "model_module_version": "1.2.0",
          "state": {
            "_view_name": "LayoutView",
            "grid_template_rows": null,
            "right": null,
            "justify_content": null,
            "_view_module": "@jupyter-widgets/base",
            "overflow": null,
            "_model_module_version": "1.2.0",
            "_view_count": null,
            "flex_flow": null,
            "width": null,
            "min_width": null,
            "border": null,
            "align_items": null,
            "bottom": null,
            "_model_module": "@jupyter-widgets/base",
            "top": null,
            "grid_column": null,
            "overflow_y": null,
            "overflow_x": null,
            "grid_auto_flow": null,
            "grid_area": null,
            "grid_template_columns": null,
            "flex": null,
            "_model_name": "LayoutModel",
            "justify_items": null,
            "grid_row": null,
            "max_height": null,
            "align_content": null,
            "visibility": null,
            "align_self": null,
            "height": null,
            "min_height": null,
            "padding": null,
            "grid_auto_rows": null,
            "grid_gap": null,
            "max_width": null,
            "order": null,
            "_view_module_version": "1.2.0",
            "grid_template_areas": null,
            "object_position": null,
            "object_fit": null,
            "grid_auto_columns": null,
            "margin": null,
            "display": null,
            "left": null
          }
        },
        "9174795bdc66440f9eed819092cd9ed0": {
          "model_module": "@jupyter-widgets/controls",
          "model_name": "ProgressStyleModel",
          "model_module_version": "1.5.0",
          "state": {
            "_view_name": "StyleView",
            "_model_name": "ProgressStyleModel",
            "description_width": "",
            "_view_module": "@jupyter-widgets/base",
            "_model_module_version": "1.5.0",
            "_view_count": null,
            "_view_module_version": "1.2.0",
            "bar_color": null,
            "_model_module": "@jupyter-widgets/controls"
          }
        },
        "c2bbfc4ecd30482e8e1b01f9a84a4089": {
          "model_module": "@jupyter-widgets/base",
          "model_name": "LayoutModel",
          "model_module_version": "1.2.0",
          "state": {
            "_view_name": "LayoutView",
            "grid_template_rows": null,
            "right": null,
            "justify_content": null,
            "_view_module": "@jupyter-widgets/base",
            "overflow": null,
            "_model_module_version": "1.2.0",
            "_view_count": null,
            "flex_flow": null,
            "width": null,
            "min_width": null,
            "border": null,
            "align_items": null,
            "bottom": null,
            "_model_module": "@jupyter-widgets/base",
            "top": null,
            "grid_column": null,
            "overflow_y": null,
            "overflow_x": null,
            "grid_auto_flow": null,
            "grid_area": null,
            "grid_template_columns": null,
            "flex": null,
            "_model_name": "LayoutModel",
            "justify_items": null,
            "grid_row": null,
            "max_height": null,
            "align_content": null,
            "visibility": null,
            "align_self": null,
            "height": null,
            "min_height": null,
            "padding": null,
            "grid_auto_rows": null,
            "grid_gap": null,
            "max_width": null,
            "order": null,
            "_view_module_version": "1.2.0",
            "grid_template_areas": null,
            "object_position": null,
            "object_fit": null,
            "grid_auto_columns": null,
            "margin": null,
            "display": null,
            "left": null
          }
        },
        "dd7e572e9c0342ea8ce67e089f535c5c": {
          "model_module": "@jupyter-widgets/controls",
          "model_name": "DescriptionStyleModel",
          "model_module_version": "1.5.0",
          "state": {
            "_view_name": "StyleView",
            "_model_name": "DescriptionStyleModel",
            "description_width": "",
            "_view_module": "@jupyter-widgets/base",
            "_model_module_version": "1.5.0",
            "_view_count": null,
            "_view_module_version": "1.2.0",
            "_model_module": "@jupyter-widgets/controls"
          }
        },
        "39533c69371d4b3581a1a66cbbd6124e": {
          "model_module": "@jupyter-widgets/base",
          "model_name": "LayoutModel",
          "model_module_version": "1.2.0",
          "state": {
            "_view_name": "LayoutView",
            "grid_template_rows": null,
            "right": null,
            "justify_content": null,
            "_view_module": "@jupyter-widgets/base",
            "overflow": null,
            "_model_module_version": "1.2.0",
            "_view_count": null,
            "flex_flow": null,
            "width": null,
            "min_width": null,
            "border": null,
            "align_items": null,
            "bottom": null,
            "_model_module": "@jupyter-widgets/base",
            "top": null,
            "grid_column": null,
            "overflow_y": null,
            "overflow_x": null,
            "grid_auto_flow": null,
            "grid_area": null,
            "grid_template_columns": null,
            "flex": null,
            "_model_name": "LayoutModel",
            "justify_items": null,
            "grid_row": null,
            "max_height": null,
            "align_content": null,
            "visibility": null,
            "align_self": null,
            "height": null,
            "min_height": null,
            "padding": null,
            "grid_auto_rows": null,
            "grid_gap": null,
            "max_width": null,
            "order": null,
            "_view_module_version": "1.2.0",
            "grid_template_areas": null,
            "object_position": null,
            "object_fit": null,
            "grid_auto_columns": null,
            "margin": null,
            "display": null,
            "left": null
          }
        }
      }
    }
  },
  "cells": [
    {
      "cell_type": "markdown",
      "metadata": {
        "id": "view-in-github",
        "colab_type": "text"
      },
      "source": [
        "<a href=\"https://colab.research.google.com/github/KiavashJamshidi/Hand-gender-prediction/blob/main/hand.ipynb\" target=\"_parent\"><img src=\"https://colab.research.google.com/assets/colab-badge.svg\" alt=\"Open In Colab\"/></a>"
      ]
    },
    {
      "cell_type": "code",
      "metadata": {
        "id": "IjFKr4ejT6NT"
      },
      "source": [
        "import os\n",
        "import torch\n",
        "import torchvision\n",
        "import numpy as np\n",
        "import pandas as pd\n",
        "import torch.nn as nn\n",
        "import torch.optim as optim\n",
        "import matplotlib.pyplot as plt\n",
        "import matplotlib.image as mpimg\n",
        "from torch import nn\n",
        "from tqdm import tqdm\n",
        "from glob import glob\n",
        "from pandas import read_csv\n",
        "from scipy.io import loadmat\n",
        "from google.colab import drive\n",
        "from torch.optim import Adam, SGD\n",
        "from torch.autograd import Variable\n",
        "from torchvision.models import alexnet\n",
        "from torch.nn.functional import softmax\n",
        "from torchvision import datasets, transforms\n",
        "from torch.utils.data import DataLoader, Dataset\n",
        "from torchvision.utils import make_grid, save_image\n",
        "from torch.utils.data.sampler import SubsetRandomSampler\n",
        "from torch.nn import ReLU, Linear, Conv2d, Softmax, CrossEntropyLoss"
      ],
      "execution_count": 1,
      "outputs": []
    },
    {
      "cell_type": "code",
      "metadata": {
        "id": "4xfMpQH7pICj"
      },
      "source": [
        "IMG_PATH = \"/content/drive/MyDrive/Hands/\"\n",
        "LABEL_PATH = \"/content/drive/MyDrive/HandInfo.csv\"\n",
        "OUT_PATH =  \"/content/drive/MyDrive/Outs/\""
      ],
      "execution_count": 2,
      "outputs": []
    },
    {
      "cell_type": "code",
      "metadata": {
        "id": "yMde62HhHgb5"
      },
      "source": [
        "mean1, mean2, mean3 = 240.45/255, 229.64/255, 223.24/255 #low\n",
        "mean = 245.56/255 #high"
      ],
      "execution_count": 3,
      "outputs": []
    },
    {
      "cell_type": "code",
      "metadata": {
        "id": "vitp_NYck7xM"
      },
      "source": [
        "std1, std2, std3 = 32.38/255, 48.41/255, 58.85/255 #low\n"
      ],
      "execution_count": 4,
      "outputs": []
    },
    {
      "cell_type": "code",
      "metadata": {
        "id": "EZ3Op6CY-WrS"
      },
      "source": [
        "device = torch.device(\"cuda:0\")"
      ],
      "execution_count": 5,
      "outputs": []
    },
    {
      "cell_type": "code",
      "metadata": {
        "id": "WHzqyNHbJDLe"
      },
      "source": [
        "def getPartOfMat(mat,status):\n",
        "  if status == 'low':\n",
        "    return mat['O'][:,:,:3]\n",
        "  elif status == 'high':\n",
        "    return mat['O'][:,:,3]\n",
        "  elif status == \"normal\":\n",
        "    return mat['O']"
      ],
      "execution_count": 6,
      "outputs": []
    },
    {
      "cell_type": "code",
      "metadata": {
        "id": "UYIUinRRWsO-"
      },
      "source": [
        "images = glob(IMG_PATH + '*.jpg')"
      ],
      "execution_count": 7,
      "outputs": []
    },
    {
      "cell_type": "code",
      "metadata": {
        "id": "IBszix0w_3w5"
      },
      "source": [
        "images.sort()"
      ],
      "execution_count": 8,
      "outputs": []
    },
    {
      "cell_type": "code",
      "metadata": {
        "colab": {
          "base_uri": "https://localhost:8080/"
        },
        "id": "Tf41ETGMz9oj",
        "outputId": "181eb742-4845-421a-95b8-e1335261c493"
      },
      "source": [
        "print(len(images))"
      ],
      "execution_count": 9,
      "outputs": [
        {
          "output_type": "stream",
          "name": "stdout",
          "text": [
            "11076\n"
          ]
        }
      ]
    },
    {
      "cell_type": "code",
      "metadata": {
        "id": "1km6D-F60DIJ"
      },
      "source": [
        "details = read_csv(LABEL_PATH)"
      ],
      "execution_count": 10,
      "outputs": []
    },
    {
      "cell_type": "code",
      "metadata": {
        "colab": {
          "base_uri": "https://localhost:8080/"
        },
        "id": "H59151Yz2MRW",
        "outputId": "3acf3799-ad88-4a36-d1a6-8f10eafc1832"
      },
      "source": [
        "print(details)"
      ],
      "execution_count": 11,
      "outputs": [
        {
          "output_type": "stream",
          "name": "stdout",
          "text": [
            "         id  age  gender  ...  aspectOfHand         imageName  irregularities\n",
            "0         0   27    male  ...  dorsal right  Hand_0000002.jpg               0\n",
            "1         0   27    male  ...  dorsal right  Hand_0000003.jpg               0\n",
            "2         0   27    male  ...  dorsal right  Hand_0000004.jpg               0\n",
            "3         0   27    male  ...  dorsal right  Hand_0000005.jpg               0\n",
            "4         0   27    male  ...  dorsal right  Hand_0000006.jpg               0\n",
            "...     ...  ...     ...  ...           ...               ...             ...\n",
            "11071  1589   22  female  ...   palmar left  Hand_0011740.jpg               0\n",
            "11072  1589   22  female  ...   palmar left  Hand_0011741.jpg               0\n",
            "11073  1589   22  female  ...   palmar left  Hand_0011742.jpg               0\n",
            "11074  1589   22  female  ...   palmar left  Hand_0011743.jpg               0\n",
            "11075  1589   22  female  ...   palmar left  Hand_0011744.jpg               0\n",
            "\n",
            "[11076 rows x 9 columns]\n"
          ]
        }
      ]
    },
    {
      "cell_type": "code",
      "metadata": {
        "colab": {
          "base_uri": "https://localhost:8080/",
          "height": 1000
        },
        "id": "FqvFEHvMYCgL",
        "outputId": "7fca5cb8-c9c7-478f-f801-2b4eb192f684"
      },
      "source": [
        "for col in details.columns:\n",
        "  if col == \"id\" or col == \"imageName\" or col == \"age\": continue\n",
        "  types = {}\n",
        "  for row in details[col]:\n",
        "    if row in types:\n",
        "      types[row] += 1\n",
        "      continue\n",
        "    else:\n",
        "      types[row] = 0\n",
        "  plt.bar(range(len(types)), list(types.values()), tick_label=list(types.keys()), color = 'purple')\n",
        "  plt.title(\"Information of \" + col + \"s\")\n",
        "  plt.xlabel(col.capitalize() + \"s\")\n",
        "  plt.ylabel('Number')\n",
        "  plt.show()"
      ],
      "execution_count": 12,
      "outputs": [
        {
          "output_type": "display_data",
          "data": {
            "image/png": "[encoded data removed]",
            "text/plain": [
              "<Figure size 432x288 with 1 Axes>"
            ]
          },
          "metadata": {
            "needs_background": "light"
          }
        },
        {
          "output_type": "display_data",
          "data": {
            "image/png": "[encoded data removed]",
            "text/plain": [
              "<Figure size 432x288 with 1 Axes>"
            ]
          },
          "metadata": {
            "needs_background": "light"
          }
        },
        {
          "output_type": "display_data",
          "data": {
            "image/png": "[encoded data removed]",
            "text/plain": [
              "<Figure size 432x288 with 1 Axes>"
            ]
          },
          "metadata": {
            "needs_background": "light"
          }
        },
        {
          "output_type": "display_data",
          "data": {
            "image/png": "[encoded data removed]",
            "text/plain": [
              "<Figure size 432x288 with 1 Axes>"
            ]
          },
          "metadata": {
            "needs_background": "light"
          }
        },
        {
          "output_type": "display_data",
          "data": {
            "image/png": "[encoded data removed]",
            "text/plain": [
              "<Figure size 432x288 with 1 Axes>"
            ]
          },
          "metadata": {
            "needs_background": "light"
          }
        },
        {
          "output_type": "display_data",
          "data": {
            "image/png": "[encoded data removed]",
            "text/plain": [
              "<Figure size 432x288 with 1 Axes>"
            ]
          },
          "metadata": {
            "needs_background": "light"
          }
        }
      ]
    },
    {
      "cell_type": "code",
      "metadata": {
        "id": "jAutHfLa-T1K"
      },
      "source": [
        "outs = glob(OUT_PATH + '*.mat')"
      ],
      "execution_count": 13,
      "outputs": []
    },
    {
      "cell_type": "code",
      "metadata": {
        "id": "cdcWhSUa_5Kc"
      },
      "source": [
        "outs.sort()"
      ],
      "execution_count": 14,
      "outputs": []
    },
    {
      "cell_type": "code",
      "metadata": {
        "id": "NDI4bgclwra_"
      },
      "source": [
        "def checkImgOut(images,outs):\n",
        "  errorFound = len(images) != len(outs)\n",
        "  for i in range(len(images)):\n",
        "    a = images[i].split('/')[-1].split('.')[0].split('_')[1]\n",
        "    b = outs[i].split('/')[-1].split('.')[0].split('_')[1]\n",
        "    if a != b:\n",
        "      errorFound = True\n",
        "  return errorFound"
      ],
      "execution_count": 15,
      "outputs": []
    },
    {
      "cell_type": "code",
      "metadata": {
        "colab": {
          "base_uri": "https://localhost:8080/"
        },
        "id": "Y8cqi4mnqFTt",
        "outputId": "3201aa49-79ae-4905-b5ba-ca1b73f163ff"
      },
      "source": [
        "if checkImgOut(images,outs):\n",
        "  print(\"There is an error! fix it.\")\n",
        "  input()\n",
        "else:\n",
        "  print(\"Congrats! There is no error.\")"
      ],
      "execution_count": 16,
      "outputs": [
        {
          "output_type": "stream",
          "name": "stdout",
          "text": [
            "Congrats! There is no error.\n"
          ]
        }
      ]
    },
    {
      "cell_type": "code",
      "metadata": {
        "id": "R-750KGVbrOi"
      },
      "source": [
        "class CustomDataset(Dataset):\n",
        "    def __init__(self, csv_path, images_folder, transform = None):\n",
        "        self.df = read_csv(csv_path)\n",
        "        self.imagesFolder = images_folder\n",
        "        self.transform = transform\n",
        "        self.class2index = {\"male\":0, \"female\":1}\n",
        "\n",
        "    def __len__(self):\n",
        "        return len(self.df)\n",
        "        \n",
        "    def __getitem__(self, index):\n",
        "        filename = self.df[\"imageName\"][index]\n",
        "        label = self.class2index[self.df[\"gender\"][index]]\n",
        "        image = getPartOfMat(loadmat(self.imagesFolder + \"/\" + filename[:-3] + \"mat\"), \"low\")\n",
        "        if self.transform is not None:\n",
        "          image = self.transform(image)\n",
        "        return image, label\n",
        "      \n",
        "    def images(self):\n",
        "      return glob(self.imagesFolder + \"/*.mat\")\n",
        "        "
      ],
      "execution_count": 17,
      "outputs": []
    },
    {
      "cell_type": "code",
      "metadata": {
        "id": "5KW9RB-xGc2b"
      },
      "source": [
        "def getMean(outs):\n",
        "  sum1, sum2, sum3 = 0, 0, 0\n",
        "  for out in tqdm(outs):\n",
        "    mat = loadmat(out)\n",
        "    image = mat['O'][:,:,:3]\n",
        "    sum1 += image[:,:,0].mean()\n",
        "    sum2 += image[:,:,1].mean()\n",
        "    sum3 += image[:,:,2].mean()\n",
        "  mean1 = sum1 / len(outs)\n",
        "  mean2 = sum2 / len(outs)\n",
        "  mean3 = sum3 / len(outs)\n",
        "  print(mean1, mean2, mean3)\n",
        "  return mean1, mean2, mean3"
      ],
      "execution_count": 18,
      "outputs": []
    },
    {
      "cell_type": "code",
      "metadata": {
        "id": "3tvalwNX6HwF"
      },
      "source": [
        "# mean1, mean2, mean3 = getMean(outs)"
      ],
      "execution_count": 19,
      "outputs": []
    },
    {
      "cell_type": "code",
      "metadata": {
        "colab": {
          "base_uri": "https://localhost:8080/"
        },
        "id": "aNGqVDWRx83X",
        "outputId": "d7ca4017-d66f-4f82-9bbf-ca4996b0ecb3"
      },
      "source": [
        "loadmat(outs[0])['O'][:,:,0].shape"
      ],
      "execution_count": 20,
      "outputs": [
        {
          "output_type": "execute_result",
          "data": {
            "text/plain": [
              "(224, 224)"
            ]
          },
          "metadata": {},
          "execution_count": 20
        }
      ]
    },
    {
      "cell_type": "code",
      "metadata": {
        "id": "ROWFtuIjd4PI"
      },
      "source": [
        "def getStd(outs):\n",
        "  sum1, sum2, sum3 = 0, 0, 0\n",
        "  for out in tqdm(outs):\n",
        "    mat = loadmat(out)\n",
        "    image = mat['O'][:,:,:3]\n",
        "    sum1 += np.power(image[:,:,0] - mean1, 2).sum()\n",
        "    sum2 += np.power(image[:,:,1] - mean2, 2).sum()\n",
        "    sum3 += np.power(image[:,:,2] - mean3, 2).sum()\n",
        "  std1 = np.sqrt(sum1 / len(outs) / 224 / 224)\n",
        "  std2 = np.sqrt(sum2 / len(outs) / 224 / 224)\n",
        "  std3 = np.sqrt(sum3 / len(outs) / 224 / 224)\n",
        "  print(std1, std2, std3)\n",
        "  return std1, std2, std3"
      ],
      "execution_count": 21,
      "outputs": []
    },
    {
      "cell_type": "code",
      "metadata": {
        "id": "rPJYgral6O1o"
      },
      "source": [
        "# std1, std2, std3 = getStd(outs)"
      ],
      "execution_count": 22,
      "outputs": []
    },
    {
      "cell_type": "code",
      "metadata": {
        "id": "xtqrlgYVvtNQ"
      },
      "source": [
        "transform = transforms.Compose([\n",
        "    transforms.ToTensor(),\n",
        "    transforms.Normalize((mean1, mean2, mean3), (std1, std2, std3))\n",
        "])"
      ],
      "execution_count": 23,
      "outputs": []
    },
    {
      "cell_type": "code",
      "metadata": {
        "colab": {
          "base_uri": "https://localhost:8080/"
        },
        "id": "bEFJ9BOF91yZ",
        "outputId": "f8de7456-e13c-4a29-91e0-e8fef0de546d"
      },
      "source": [
        "dataset = CustomDataset(LABEL_PATH, OUT_PATH, transform)\n",
        "img, label = dataset[100]\n",
        "img.shape"
      ],
      "execution_count": 24,
      "outputs": [
        {
          "output_type": "execute_result",
          "data": {
            "text/plain": [
              "torch.Size([3, 224, 224])"
            ]
          },
          "metadata": {},
          "execution_count": 24
        }
      ]
    },
    {
      "cell_type": "code",
      "metadata": {
        "id": "3MbHOrtaBtT4"
      },
      "source": [
        "batch_size = 300\n",
        "validation_split = 0.7\n",
        "shuffle_dataset = True\n",
        "dataset_size = len(dataset)\n",
        "split = int(np.floor(validation_split * dataset_size))\n",
        "indices = list(range(dataset_size))\n",
        "\n",
        "train_indices, test_indices = indices[:split], indices[split:]\n",
        "\n",
        "train_sampler = SubsetRandomSampler(train_indices)\n",
        "test_sampler = SubsetRandomSampler(test_indices)\n",
        "\n",
        "trainLoader = DataLoader(dataset, batch_size=batch_size, sampler=train_sampler)\n",
        "testLoader = DataLoader(dataset, batch_size=batch_size, sampler=test_sampler)"
      ],
      "execution_count": 25,
      "outputs": []
    },
    {
      "cell_type": "code",
      "metadata": {
        "colab": {
          "base_uri": "https://localhost:8080/"
        },
        "id": "9dQqllSdO3hc",
        "outputId": "9febf7fa-351c-44ca-c7b5-d4c1626ef505"
      },
      "source": [
        "len(trainLoader)"
      ],
      "execution_count": 26,
      "outputs": [
        {
          "output_type": "execute_result",
          "data": {
            "text/plain": [
              "26"
            ]
          },
          "metadata": {},
          "execution_count": 26
        }
      ]
    },
    {
      "cell_type": "code",
      "metadata": {
        "colab": {
          "base_uri": "https://localhost:8080/"
        },
        "id": "2dMWr-8ECXIf",
        "outputId": "700a6dfb-3ebb-4215-b986-40f12792729e"
      },
      "source": [
        "len(testLoader)"
      ],
      "execution_count": 27,
      "outputs": [
        {
          "output_type": "execute_result",
          "data": {
            "text/plain": [
              "12"
            ]
          },
          "metadata": {},
          "execution_count": 27
        }
      ]
    },
    {
      "cell_type": "code",
      "metadata": {
        "colab": {
          "base_uri": "https://localhost:8080/",
          "height": 536,
          "referenced_widgets": [
            "8c014ab64f884e2bbf7ccd6cad045293",
            "cdc4d075f587412ba24dda7211e32adc",
            "571d3c10bb524c999578b1bd911e855b",
            "45e227c6368b41e3bad498d5f9cbb2c8",
            "6fbda43774834b0aae8121b9698e5317",
            "dc2407e2df1a4614af1b711fc9a07973",
            "d2587e1216264845874c2c19ccb2d950",
            "9174795bdc66440f9eed819092cd9ed0",
            "c2bbfc4ecd30482e8e1b01f9a84a4089",
            "dd7e572e9c0342ea8ce67e089f535c5c",
            "39533c69371d4b3581a1a66cbbd6124e"
          ]
        },
        "id": "LJJvJtxKoACQ",
        "outputId": "63f36017-a8b1-4dea-dadb-63e59fe81503"
      },
      "source": [
        "alexNet = alexnet(pretrained=True)\n",
        "alexNet = alexNet.to(device)\n",
        "alexNet.classifier[6].out_features = 2\n",
        "alexNet.eval()"
      ],
      "execution_count": 28,
      "outputs": [
        {
          "output_type": "stream",
          "name": "stderr",
          "text": [
            "Downloading: \"https://download.pytorch.org/models/alexnet-owt-7be5be79.pth\" to /root/.cache/torch/hub/checkpoints/alexnet-owt-7be5be79.pth\n"
          ]
        },
        {
          "output_type": "display_data",
          "data": {
            "application/vnd.jupyter.widget-view+json": {
              "model_id": "8c014ab64f884e2bbf7ccd6cad045293",
              "version_minor": 0,
              "version_major": 2
            },
            "text/plain": [
              "  0%|          | 0.00/233M [00:00<?, ?B/s]"
            ]
          },
          "metadata": {}
        },
        {
          "output_type": "execute_result",
          "data": {
            "text/plain": [
              "AlexNet(\n",
              "  (features): Sequential(\n",
              "    (0): Conv2d(3, 64, kernel_size=(11, 11), stride=(4, 4), padding=(2, 2))\n",
              "    (1): ReLU(inplace=True)\n",
              "    (2): MaxPool2d(kernel_size=3, stride=2, padding=0, dilation=1, ceil_mode=False)\n",
              "    (3): Conv2d(64, 192, kernel_size=(5, 5), stride=(1, 1), padding=(2, 2))\n",
              "    (4): ReLU(inplace=True)\n",
              "    (5): MaxPool2d(kernel_size=3, stride=2, padding=0, dilation=1, ceil_mode=False)\n",
              "    (6): Conv2d(192, 384, kernel_size=(3, 3), stride=(1, 1), padding=(1, 1))\n",
              "    (7): ReLU(inplace=True)\n",
              "    (8): Conv2d(384, 256, kernel_size=(3, 3), stride=(1, 1), padding=(1, 1))\n",
              "    (9): ReLU(inplace=True)\n",
              "    (10): Conv2d(256, 256, kernel_size=(3, 3), stride=(1, 1), padding=(1, 1))\n",
              "    (11): ReLU(inplace=True)\n",
              "    (12): MaxPool2d(kernel_size=3, stride=2, padding=0, dilation=1, ceil_mode=False)\n",
              "  )\n",
              "  (avgpool): AdaptiveAvgPool2d(output_size=(6, 6))\n",
              "  (classifier): Sequential(\n",
              "    (0): Dropout(p=0.5, inplace=False)\n",
              "    (1): Linear(in_features=9216, out_features=4096, bias=True)\n",
              "    (2): ReLU(inplace=True)\n",
              "    (3): Dropout(p=0.5, inplace=False)\n",
              "    (4): Linear(in_features=4096, out_features=4096, bias=True)\n",
              "    (5): ReLU(inplace=True)\n",
              "    (6): Linear(in_features=4096, out_features=2, bias=True)\n",
              "  )\n",
              ")"
            ]
          },
          "metadata": {},
          "execution_count": 28
        }
      ]
    },
    {
      "cell_type": "code",
      "metadata": {
        "id": "5GTjyLKcYBcK"
      },
      "source": [
        "state_dict = alexNet.state_dict()\n",
        "weights = state_dict[\"features.0.weight\"]\n",
        "bias = state_dict[\"features.0.bias\"]"
      ],
      "execution_count": 29,
      "outputs": []
    },
    {
      "cell_type": "code",
      "metadata": {
        "id": "wY_FT41OSlvk"
      },
      "source": [
        "criterion = CrossEntropyLoss()\n",
        "trainAccuracy = []\n",
        "testAccuracy = []\n",
        "trainLoss = []\n",
        "testLoss = []"
      ],
      "execution_count": 30,
      "outputs": []
    },
    {
      "cell_type": "code",
      "metadata": {
        "id": "JrpYWfE9P9VP",
        "colab": {
          "base_uri": "https://localhost:8080/"
        },
        "outputId": "fd5350d8-acba-43af-f7f0-2607d66e0713"
      },
      "source": [
        "optimizer = optim.SGD(alexNet.parameters(), lr=0.001, momentum=0.9)\n",
        "for epoch in range(10):  # loop over the dataset multiple times\n",
        "  running_loss = 0.0\n",
        "  total, correct = 0, 0\n",
        "  # for data in trainLoader:\n",
        "  for data in tqdm(trainLoader):\n",
        "\n",
        "    inputs, labels = data\n",
        "    inputs = inputs.to(device)\n",
        "    labels = labels.to(device)\n",
        "\n",
        "    optimizer.zero_grad()\n",
        "\n",
        "    outputs = alexNet(inputs)\n",
        "    loss = criterion(outputs, labels)\n",
        "    loss.backward(retain_graph=True)\n",
        "\n",
        "    optimizer.step()\n",
        "\n",
        "    print(loss.item())\n",
        "    running_loss += loss.item() / len(trainLoader)\n",
        "    _, predicted = torch.max(outputs.data, 1)\n",
        "    total += labels.size(0)\n",
        "    correct += predicted.eq(labels).sum().item()\n",
        "\n",
        "\n",
        "  accuracy = 100 * correct / total\n",
        "  trainAccuracy.append(accuracy)\n",
        "  trainLoss.append(running_loss)\n",
        "  print(\"\\nTRAIN: Epoch {}/{}, Accuracy: {:.3f}, Loss: {:.3f}\".format(epoch+1,10, accuracy, running_loss))\n"
      ],
      "execution_count": null,
      "outputs": [
        {
          "output_type": "stream",
          "name": "stderr",
          "text": [
            "  4%|▍         | 1/26 [00:01<00:46,  1.86s/it]"
          ]
        },
        {
          "output_type": "stream",
          "name": "stdout",
          "text": [
            "10.217782020568848\n"
          ]
        },
        {
          "output_type": "stream",
          "name": "stderr",
          "text": [
            "\r  8%|▊         | 2/26 [00:03<00:43,  1.79s/it]"
          ]
        },
        {
          "output_type": "stream",
          "name": "stdout",
          "text": [
            "4.487980842590332\n"
          ]
        },
        {
          "output_type": "stream",
          "name": "stderr",
          "text": [
            "\r 12%|█▏        | 3/26 [00:05<00:40,  1.74s/it]"
          ]
        },
        {
          "output_type": "stream",
          "name": "stdout",
          "text": [
            "2.896885395050049\n"
          ]
        },
        {
          "output_type": "stream",
          "name": "stderr",
          "text": [
            "\r 15%|█▌        | 4/26 [00:07<00:38,  1.74s/it]"
          ]
        },
        {
          "output_type": "stream",
          "name": "stdout",
          "text": [
            "2.3231918811798096\n"
          ]
        },
        {
          "output_type": "stream",
          "name": "stderr",
          "text": [
            "\r 19%|█▉        | 5/26 [00:08<00:35,  1.71s/it]"
          ]
        },
        {
          "output_type": "stream",
          "name": "stdout",
          "text": [
            "0.6809860467910767\n"
          ]
        },
        {
          "output_type": "stream",
          "name": "stderr",
          "text": [
            "\r 23%|██▎       | 6/26 [00:10<00:33,  1.69s/it]"
          ]
        },
        {
          "output_type": "stream",
          "name": "stdout",
          "text": [
            "2.749999761581421\n"
          ]
        },
        {
          "output_type": "stream",
          "name": "stderr",
          "text": [
            "\r 27%|██▋       | 7/26 [00:11<00:31,  1.68s/it]"
          ]
        },
        {
          "output_type": "stream",
          "name": "stdout",
          "text": [
            "1.0470023155212402\n"
          ]
        },
        {
          "output_type": "stream",
          "name": "stderr",
          "text": [
            "\r 31%|███       | 8/26 [00:13<00:30,  1.67s/it]"
          ]
        },
        {
          "output_type": "stream",
          "name": "stdout",
          "text": [
            "1.0338789224624634\n"
          ]
        },
        {
          "output_type": "stream",
          "name": "stderr",
          "text": [
            "\r 35%|███▍      | 9/26 [00:15<00:27,  1.64s/it]"
          ]
        },
        {
          "output_type": "stream",
          "name": "stdout",
          "text": [
            "1.4372210502624512\n"
          ]
        },
        {
          "output_type": "stream",
          "name": "stderr",
          "text": [
            "\r 38%|███▊      | 10/26 [00:16<00:26,  1.64s/it]"
          ]
        },
        {
          "output_type": "stream",
          "name": "stdout",
          "text": [
            "1.5404542684555054\n"
          ]
        },
        {
          "output_type": "stream",
          "name": "stderr",
          "text": [
            "\r 42%|████▏     | 11/26 [00:18<00:24,  1.63s/it]"
          ]
        },
        {
          "output_type": "stream",
          "name": "stdout",
          "text": [
            "1.217150330543518\n"
          ]
        },
        {
          "output_type": "stream",
          "name": "stderr",
          "text": [
            "\r 46%|████▌     | 12/26 [00:20<00:23,  1.64s/it]"
          ]
        },
        {
          "output_type": "stream",
          "name": "stdout",
          "text": [
            "0.9694744944572449\n"
          ]
        },
        {
          "output_type": "stream",
          "name": "stderr",
          "text": [
            "\r 50%|█████     | 13/26 [00:21<00:21,  1.64s/it]"
          ]
        },
        {
          "output_type": "stream",
          "name": "stdout",
          "text": [
            "0.7781004905700684\n"
          ]
        },
        {
          "output_type": "stream",
          "name": "stderr",
          "text": [
            "\r 54%|█████▍    | 14/26 [00:23<00:19,  1.65s/it]"
          ]
        },
        {
          "output_type": "stream",
          "name": "stdout",
          "text": [
            "0.5972074270248413\n"
          ]
        },
        {
          "output_type": "stream",
          "name": "stderr",
          "text": [
            "\r 58%|█████▊    | 15/26 [00:25<00:18,  1.66s/it]"
          ]
        },
        {
          "output_type": "stream",
          "name": "stdout",
          "text": [
            "0.6751313805580139\n"
          ]
        },
        {
          "output_type": "stream",
          "name": "stderr",
          "text": [
            "\r 62%|██████▏   | 16/26 [00:26<00:16,  1.68s/it]"
          ]
        },
        {
          "output_type": "stream",
          "name": "stdout",
          "text": [
            "0.646822988986969\n"
          ]
        },
        {
          "output_type": "stream",
          "name": "stderr",
          "text": [
            "\r 65%|██████▌   | 17/26 [00:28<00:14,  1.67s/it]"
          ]
        },
        {
          "output_type": "stream",
          "name": "stdout",
          "text": [
            "0.5132747292518616\n"
          ]
        },
        {
          "output_type": "stream",
          "name": "stderr",
          "text": [
            "\r 69%|██████▉   | 18/26 [00:30<00:13,  1.67s/it]"
          ]
        },
        {
          "output_type": "stream",
          "name": "stdout",
          "text": [
            "0.5608541965484619\n"
          ]
        },
        {
          "output_type": "stream",
          "name": "stderr",
          "text": [
            "\r 73%|███████▎  | 19/26 [00:31<00:11,  1.67s/it]"
          ]
        },
        {
          "output_type": "stream",
          "name": "stdout",
          "text": [
            "0.6673777103424072\n"
          ]
        },
        {
          "output_type": "stream",
          "name": "stderr",
          "text": [
            "\r 77%|███████▋  | 20/26 [00:33<00:10,  1.68s/it]"
          ]
        },
        {
          "output_type": "stream",
          "name": "stdout",
          "text": [
            "0.5027914643287659\n"
          ]
        },
        {
          "output_type": "stream",
          "name": "stderr",
          "text": [
            "\r 81%|████████  | 21/26 [00:35<00:08,  1.68s/it]"
          ]
        },
        {
          "output_type": "stream",
          "name": "stdout",
          "text": [
            "0.6037729978561401\n"
          ]
        },
        {
          "output_type": "stream",
          "name": "stderr",
          "text": [
            "\r 85%|████████▍ | 22/26 [00:36<00:06,  1.69s/it]"
          ]
        },
        {
          "output_type": "stream",
          "name": "stdout",
          "text": [
            "0.5317419171333313\n"
          ]
        },
        {
          "output_type": "stream",
          "name": "stderr",
          "text": [
            "\r 88%|████████▊ | 23/26 [00:38<00:05,  1.68s/it]"
          ]
        },
        {
          "output_type": "stream",
          "name": "stdout",
          "text": [
            "0.5335647463798523\n"
          ]
        },
        {
          "output_type": "stream",
          "name": "stderr",
          "text": [
            "\r 92%|█████████▏| 24/26 [00:40<00:03,  1.68s/it]"
          ]
        },
        {
          "output_type": "stream",
          "name": "stdout",
          "text": [
            "0.48617762327194214\n"
          ]
        },
        {
          "output_type": "stream",
          "name": "stderr",
          "text": [
            "\r 96%|█████████▌| 25/26 [00:41<00:01,  1.66s/it]"
          ]
        },
        {
          "output_type": "stream",
          "name": "stdout",
          "text": [
            "0.4460465610027313\n"
          ]
        },
        {
          "output_type": "stream",
          "name": "stderr",
          "text": [
            "100%|██████████| 26/26 [00:43<00:00,  1.67s/it]\n"
          ]
        },
        {
          "output_type": "stream",
          "name": "stdout",
          "text": [
            "0.4654882848262787\n",
            "\n",
            "TRAIN: Epoch 1/10, Accuracy: 64.323, Loss: 1.485\n"
          ]
        },
        {
          "output_type": "stream",
          "name": "stderr",
          "text": [
            "  4%|▍         | 1/26 [00:01<00:41,  1.66s/it]"
          ]
        },
        {
          "output_type": "stream",
          "name": "stdout",
          "text": [
            "0.5070375800132751\n"
          ]
        },
        {
          "output_type": "stream",
          "name": "stderr",
          "text": [
            "\r  8%|▊         | 2/26 [00:03<00:40,  1.67s/it]"
          ]
        },
        {
          "output_type": "stream",
          "name": "stdout",
          "text": [
            "0.4313187301158905\n"
          ]
        },
        {
          "output_type": "stream",
          "name": "stderr",
          "text": [
            "\r 12%|█▏        | 3/26 [00:04<00:38,  1.66s/it]"
          ]
        },
        {
          "output_type": "stream",
          "name": "stdout",
          "text": [
            "0.40644845366477966\n"
          ]
        },
        {
          "output_type": "stream",
          "name": "stderr",
          "text": [
            "\r 15%|█▌        | 4/26 [00:06<00:36,  1.67s/it]"
          ]
        },
        {
          "output_type": "stream",
          "name": "stdout",
          "text": [
            "0.3985053300857544\n"
          ]
        },
        {
          "output_type": "stream",
          "name": "stderr",
          "text": [
            "\r 19%|█▉        | 5/26 [00:08<00:34,  1.66s/it]"
          ]
        },
        {
          "output_type": "stream",
          "name": "stdout",
          "text": [
            "0.38478603959083557\n"
          ]
        },
        {
          "output_type": "stream",
          "name": "stderr",
          "text": [
            "\r 23%|██▎       | 6/26 [00:09<00:33,  1.66s/it]"
          ]
        },
        {
          "output_type": "stream",
          "name": "stdout",
          "text": [
            "0.4116235077381134\n"
          ]
        },
        {
          "output_type": "stream",
          "name": "stderr",
          "text": [
            "\r 27%|██▋       | 7/26 [00:11<00:31,  1.66s/it]"
          ]
        },
        {
          "output_type": "stream",
          "name": "stdout",
          "text": [
            "0.40302371978759766\n"
          ]
        },
        {
          "output_type": "stream",
          "name": "stderr",
          "text": [
            "\r 31%|███       | 8/26 [00:13<00:30,  1.67s/it]"
          ]
        },
        {
          "output_type": "stream",
          "name": "stdout",
          "text": [
            "0.3711572289466858\n"
          ]
        },
        {
          "output_type": "stream",
          "name": "stderr",
          "text": [
            "\r 35%|███▍      | 9/26 [00:14<00:28,  1.66s/it]"
          ]
        },
        {
          "output_type": "stream",
          "name": "stdout",
          "text": [
            "0.3636801838874817\n"
          ]
        },
        {
          "output_type": "stream",
          "name": "stderr",
          "text": [
            "\r 38%|███▊      | 10/26 [00:16<00:26,  1.67s/it]"
          ]
        },
        {
          "output_type": "stream",
          "name": "stdout",
          "text": [
            "0.3015652894973755\n"
          ]
        },
        {
          "output_type": "stream",
          "name": "stderr",
          "text": [
            "\r 42%|████▏     | 11/26 [00:18<00:24,  1.66s/it]"
          ]
        },
        {
          "output_type": "stream",
          "name": "stdout",
          "text": [
            "0.31994882225990295\n"
          ]
        },
        {
          "output_type": "stream",
          "name": "stderr",
          "text": [
            "\r 46%|████▌     | 12/26 [00:19<00:23,  1.67s/it]"
          ]
        },
        {
          "output_type": "stream",
          "name": "stdout",
          "text": [
            "0.3217356503009796\n"
          ]
        },
        {
          "output_type": "stream",
          "name": "stderr",
          "text": [
            "\r 50%|█████     | 13/26 [00:21<00:21,  1.67s/it]"
          ]
        },
        {
          "output_type": "stream",
          "name": "stdout",
          "text": [
            "0.2873665988445282\n"
          ]
        },
        {
          "output_type": "stream",
          "name": "stderr",
          "text": [
            "\r 54%|█████▍    | 14/26 [00:23<00:20,  1.69s/it]"
          ]
        },
        {
          "output_type": "stream",
          "name": "stdout",
          "text": [
            "0.33327680826187134\n"
          ]
        },
        {
          "output_type": "stream",
          "name": "stderr",
          "text": [
            "\r 58%|█████▊    | 15/26 [00:24<00:18,  1.67s/it]"
          ]
        },
        {
          "output_type": "stream",
          "name": "stdout",
          "text": [
            "0.28731390833854675\n"
          ]
        },
        {
          "output_type": "stream",
          "name": "stderr",
          "text": [
            "\r 62%|██████▏   | 16/26 [00:26<00:16,  1.67s/it]"
          ]
        },
        {
          "output_type": "stream",
          "name": "stdout",
          "text": [
            "0.3444133698940277\n"
          ]
        },
        {
          "output_type": "stream",
          "name": "stderr",
          "text": [
            "\r 65%|██████▌   | 17/26 [00:28<00:14,  1.66s/it]"
          ]
        },
        {
          "output_type": "stream",
          "name": "stdout",
          "text": [
            "0.3247678279876709\n"
          ]
        },
        {
          "output_type": "stream",
          "name": "stderr",
          "text": [
            "\r 69%|██████▉   | 18/26 [00:30<00:13,  1.67s/it]"
          ]
        },
        {
          "output_type": "stream",
          "name": "stdout",
          "text": [
            "0.28197726607322693\n"
          ]
        },
        {
          "output_type": "stream",
          "name": "stderr",
          "text": [
            "\r 73%|███████▎  | 19/26 [00:31<00:11,  1.66s/it]"
          ]
        },
        {
          "output_type": "stream",
          "name": "stdout",
          "text": [
            "0.28109946846961975\n"
          ]
        },
        {
          "output_type": "stream",
          "name": "stderr",
          "text": [
            "\r 77%|███████▋  | 20/26 [00:33<00:10,  1.68s/it]"
          ]
        },
        {
          "output_type": "stream",
          "name": "stdout",
          "text": [
            "0.29763707518577576\n"
          ]
        },
        {
          "output_type": "stream",
          "name": "stderr",
          "text": [
            "\r 81%|████████  | 21/26 [00:35<00:08,  1.67s/it]"
          ]
        },
        {
          "output_type": "stream",
          "name": "stdout",
          "text": [
            "0.2738630771636963\n"
          ]
        },
        {
          "output_type": "stream",
          "name": "stderr",
          "text": [
            "\r 85%|████████▍ | 22/26 [00:36<00:06,  1.67s/it]"
          ]
        },
        {
          "output_type": "stream",
          "name": "stdout",
          "text": [
            "0.27956581115722656\n"
          ]
        },
        {
          "output_type": "stream",
          "name": "stderr",
          "text": [
            "\r 88%|████████▊ | 23/26 [00:38<00:04,  1.66s/it]"
          ]
        },
        {
          "output_type": "stream",
          "name": "stdout",
          "text": [
            "0.2886107265949249\n"
          ]
        },
        {
          "output_type": "stream",
          "name": "stderr",
          "text": [
            "\r 92%|█████████▏| 24/26 [00:39<00:03,  1.66s/it]"
          ]
        },
        {
          "output_type": "stream",
          "name": "stdout",
          "text": [
            "0.28106212615966797\n"
          ]
        },
        {
          "output_type": "stream",
          "name": "stderr",
          "text": [
            "\r 96%|█████████▌| 25/26 [00:41<00:01,  1.65s/it]"
          ]
        },
        {
          "output_type": "stream",
          "name": "stdout",
          "text": [
            "0.2551610469818115\n"
          ]
        },
        {
          "output_type": "stream",
          "name": "stderr",
          "text": [
            "100%|██████████| 26/26 [00:43<00:00,  1.66s/it]\n"
          ]
        },
        {
          "output_type": "stream",
          "name": "stdout",
          "text": [
            "0.22227685153484344\n",
            "\n",
            "TRAIN: Epoch 2/10, Accuracy: 85.477, Loss: 0.333\n"
          ]
        },
        {
          "output_type": "stream",
          "name": "stderr",
          "text": [
            "  4%|▍         | 1/26 [00:01<00:40,  1.61s/it]"
          ]
        },
        {
          "output_type": "stream",
          "name": "stdout",
          "text": [
            "0.2843487858772278\n"
          ]
        },
        {
          "output_type": "stream",
          "name": "stderr",
          "text": [
            "\r  8%|▊         | 2/26 [00:03<00:38,  1.62s/it]"
          ]
        },
        {
          "output_type": "stream",
          "name": "stdout",
          "text": [
            "0.21795640885829926\n"
          ]
        },
        {
          "output_type": "stream",
          "name": "stderr",
          "text": [
            "\r 12%|█▏        | 3/26 [00:04<00:36,  1.61s/it]"
          ]
        },
        {
          "output_type": "stream",
          "name": "stdout",
          "text": [
            "0.2327326238155365\n"
          ]
        },
        {
          "output_type": "stream",
          "name": "stderr",
          "text": [
            "\r 15%|█▌        | 4/26 [00:06<00:35,  1.63s/it]"
          ]
        },
        {
          "output_type": "stream",
          "name": "stdout",
          "text": [
            "0.21592208743095398\n"
          ]
        },
        {
          "output_type": "stream",
          "name": "stderr",
          "text": [
            "\r 19%|█▉        | 5/26 [00:08<00:34,  1.62s/it]"
          ]
        },
        {
          "output_type": "stream",
          "name": "stdout",
          "text": [
            "0.228516086935997\n"
          ]
        },
        {
          "output_type": "stream",
          "name": "stderr",
          "text": [
            "\r 23%|██▎       | 6/26 [00:09<00:32,  1.63s/it]"
          ]
        },
        {
          "output_type": "stream",
          "name": "stdout",
          "text": [
            "0.24595904350280762\n"
          ]
        },
        {
          "output_type": "stream",
          "name": "stderr",
          "text": [
            "\r 27%|██▋       | 7/26 [00:11<00:30,  1.63s/it]"
          ]
        },
        {
          "output_type": "stream",
          "name": "stdout",
          "text": [
            "0.23788031935691833\n"
          ]
        },
        {
          "output_type": "stream",
          "name": "stderr",
          "text": [
            "\r 31%|███       | 8/26 [00:13<00:29,  1.64s/it]"
          ]
        },
        {
          "output_type": "stream",
          "name": "stdout",
          "text": [
            "0.2258603870868683\n"
          ]
        },
        {
          "output_type": "stream",
          "name": "stderr",
          "text": [
            "\r 35%|███▍      | 9/26 [00:14<00:27,  1.63s/it]"
          ]
        },
        {
          "output_type": "stream",
          "name": "stdout",
          "text": [
            "0.21383638679981232\n"
          ]
        },
        {
          "output_type": "stream",
          "name": "stderr",
          "text": [
            "\r 38%|███▊      | 10/26 [00:16<00:26,  1.64s/it]"
          ]
        },
        {
          "output_type": "stream",
          "name": "stdout",
          "text": [
            "0.2199975550174713\n"
          ]
        },
        {
          "output_type": "stream",
          "name": "stderr",
          "text": [
            "\r 42%|████▏     | 11/26 [00:17<00:24,  1.63s/it]"
          ]
        },
        {
          "output_type": "stream",
          "name": "stdout",
          "text": [
            "0.23512455821037292\n"
          ]
        },
        {
          "output_type": "stream",
          "name": "stderr",
          "text": [
            "\r 46%|████▌     | 12/26 [00:19<00:22,  1.64s/it]"
          ]
        },
        {
          "output_type": "stream",
          "name": "stdout",
          "text": [
            "0.22082342207431793\n"
          ]
        },
        {
          "output_type": "stream",
          "name": "stderr",
          "text": [
            "\r 50%|█████     | 13/26 [00:21<00:21,  1.63s/it]"
          ]
        },
        {
          "output_type": "stream",
          "name": "stdout",
          "text": [
            "0.22115717828273773\n"
          ]
        },
        {
          "output_type": "stream",
          "name": "stderr",
          "text": [
            "\r 54%|█████▍    | 14/26 [00:22<00:19,  1.63s/it]"
          ]
        },
        {
          "output_type": "stream",
          "name": "stdout",
          "text": [
            "0.18903616070747375\n"
          ]
        },
        {
          "output_type": "stream",
          "name": "stderr",
          "text": [
            "\r 58%|█████▊    | 15/26 [00:24<00:17,  1.62s/it]"
          ]
        },
        {
          "output_type": "stream",
          "name": "stdout",
          "text": [
            "0.18868009746074677\n"
          ]
        },
        {
          "output_type": "stream",
          "name": "stderr",
          "text": [
            "\r 62%|██████▏   | 16/26 [00:26<00:16,  1.62s/it]"
          ]
        },
        {
          "output_type": "stream",
          "name": "stdout",
          "text": [
            "0.22452567517757416\n"
          ]
        },
        {
          "output_type": "stream",
          "name": "stderr",
          "text": [
            "\r 65%|██████▌   | 17/26 [00:27<00:14,  1.62s/it]"
          ]
        },
        {
          "output_type": "stream",
          "name": "stdout",
          "text": [
            "0.19458600878715515\n"
          ]
        },
        {
          "output_type": "stream",
          "name": "stderr",
          "text": [
            "\r 69%|██████▉   | 18/26 [00:29<00:12,  1.62s/it]"
          ]
        },
        {
          "output_type": "stream",
          "name": "stdout",
          "text": [
            "0.23061755299568176\n"
          ]
        },
        {
          "output_type": "stream",
          "name": "stderr",
          "text": [
            "\r 73%|███████▎  | 19/26 [00:30<00:11,  1.62s/it]"
          ]
        },
        {
          "output_type": "stream",
          "name": "stdout",
          "text": [
            "0.1902584582567215\n"
          ]
        },
        {
          "output_type": "stream",
          "name": "stderr",
          "text": [
            "\r 77%|███████▋  | 20/26 [00:32<00:09,  1.63s/it]"
          ]
        },
        {
          "output_type": "stream",
          "name": "stdout",
          "text": [
            "0.2346247136592865\n"
          ]
        },
        {
          "output_type": "stream",
          "name": "stderr",
          "text": [
            "\r 81%|████████  | 21/26 [00:34<00:08,  1.62s/it]"
          ]
        },
        {
          "output_type": "stream",
          "name": "stdout",
          "text": [
            "0.20425504446029663\n"
          ]
        },
        {
          "output_type": "stream",
          "name": "stderr",
          "text": [
            "\r 85%|████████▍ | 22/26 [00:35<00:06,  1.63s/it]"
          ]
        },
        {
          "output_type": "stream",
          "name": "stdout",
          "text": [
            "0.18838626146316528\n"
          ]
        },
        {
          "output_type": "stream",
          "name": "stderr",
          "text": [
            "\r 88%|████████▊ | 23/26 [00:37<00:04,  1.62s/it]"
          ]
        },
        {
          "output_type": "stream",
          "name": "stdout",
          "text": [
            "0.20748727023601532\n"
          ]
        },
        {
          "output_type": "stream",
          "name": "stderr",
          "text": [
            "\r 92%|█████████▏| 24/26 [00:39<00:03,  1.63s/it]"
          ]
        },
        {
          "output_type": "stream",
          "name": "stdout",
          "text": [
            "0.18799841403961182\n"
          ]
        },
        {
          "output_type": "stream",
          "name": "stderr",
          "text": [
            "\r 96%|█████████▌| 25/26 [00:40<00:01,  1.63s/it]"
          ]
        },
        {
          "output_type": "stream",
          "name": "stdout",
          "text": [
            "0.16493463516235352\n"
          ]
        },
        {
          "output_type": "stream",
          "name": "stderr",
          "text": [
            "100%|██████████| 26/26 [00:42<00:00,  1.62s/it]\n"
          ]
        },
        {
          "output_type": "stream",
          "name": "stdout",
          "text": [
            "0.20465870201587677\n",
            "\n",
            "TRAIN: Epoch 3/10, Accuracy: 91.577, Loss: 0.216\n"
          ]
        },
        {
          "output_type": "stream",
          "name": "stderr",
          "text": [
            "  4%|▍         | 1/26 [00:01<00:40,  1.63s/it]"
          ]
        },
        {
          "output_type": "stream",
          "name": "stdout",
          "text": [
            "0.15810295939445496\n"
          ]
        },
        {
          "output_type": "stream",
          "name": "stderr",
          "text": [
            "\r  8%|▊         | 2/26 [00:03<00:39,  1.64s/it]"
          ]
        },
        {
          "output_type": "stream",
          "name": "stdout",
          "text": [
            "0.24117206037044525\n"
          ]
        },
        {
          "output_type": "stream",
          "name": "stderr",
          "text": [
            "\r 12%|█▏        | 3/26 [00:04<00:37,  1.63s/it]"
          ]
        },
        {
          "output_type": "stream",
          "name": "stdout",
          "text": [
            "0.16191110014915466\n"
          ]
        },
        {
          "output_type": "stream",
          "name": "stderr",
          "text": [
            "\r 15%|█▌        | 4/26 [00:06<00:36,  1.64s/it]"
          ]
        },
        {
          "output_type": "stream",
          "name": "stdout",
          "text": [
            "0.25473904609680176\n"
          ]
        },
        {
          "output_type": "stream",
          "name": "stderr",
          "text": [
            "\r 19%|█▉        | 5/26 [00:08<00:34,  1.63s/it]"
          ]
        },
        {
          "output_type": "stream",
          "name": "stdout",
          "text": [
            "0.1760401725769043\n"
          ]
        },
        {
          "output_type": "stream",
          "name": "stderr",
          "text": [
            "\r 23%|██▎       | 6/26 [00:09<00:32,  1.64s/it]"
          ]
        },
        {
          "output_type": "stream",
          "name": "stdout",
          "text": [
            "0.18546715378761292\n"
          ]
        },
        {
          "output_type": "stream",
          "name": "stderr",
          "text": [
            "\r 27%|██▋       | 7/26 [00:11<00:31,  1.63s/it]"
          ]
        },
        {
          "output_type": "stream",
          "name": "stdout",
          "text": [
            "0.17345598340034485\n"
          ]
        },
        {
          "output_type": "stream",
          "name": "stderr",
          "text": [
            "\r 31%|███       | 8/26 [00:13<00:29,  1.64s/it]"
          ]
        },
        {
          "output_type": "stream",
          "name": "stdout",
          "text": [
            "0.22684180736541748\n"
          ]
        },
        {
          "output_type": "stream",
          "name": "stderr",
          "text": [
            "\r 35%|███▍      | 9/26 [00:14<00:27,  1.63s/it]"
          ]
        },
        {
          "output_type": "stream",
          "name": "stdout",
          "text": [
            "0.22895802557468414\n"
          ]
        },
        {
          "output_type": "stream",
          "name": "stderr",
          "text": [
            "\r 38%|███▊      | 10/26 [00:16<00:26,  1.64s/it]"
          ]
        },
        {
          "output_type": "stream",
          "name": "stdout",
          "text": [
            "0.20021282136440277\n"
          ]
        },
        {
          "output_type": "stream",
          "name": "stderr",
          "text": [
            "\r 42%|████▏     | 11/26 [00:17<00:24,  1.64s/it]"
          ]
        },
        {
          "output_type": "stream",
          "name": "stdout",
          "text": [
            "0.2590372562408447\n"
          ]
        },
        {
          "output_type": "stream",
          "name": "stderr",
          "text": [
            "\r 46%|████▌     | 12/26 [00:19<00:23,  1.65s/it]"
          ]
        },
        {
          "output_type": "stream",
          "name": "stdout",
          "text": [
            "0.2084309607744217\n"
          ]
        },
        {
          "output_type": "stream",
          "name": "stderr",
          "text": [
            "\r 50%|█████     | 13/26 [00:21<00:21,  1.65s/it]"
          ]
        },
        {
          "output_type": "stream",
          "name": "stdout",
          "text": [
            "0.14917051792144775\n"
          ]
        },
        {
          "output_type": "stream",
          "name": "stderr",
          "text": [
            "\r 54%|█████▍    | 14/26 [00:22<00:19,  1.66s/it]"
          ]
        },
        {
          "output_type": "stream",
          "name": "stdout",
          "text": [
            "0.1788097321987152\n"
          ]
        },
        {
          "output_type": "stream",
          "name": "stderr",
          "text": [
            "\r 58%|█████▊    | 15/26 [00:24<00:18,  1.65s/it]"
          ]
        },
        {
          "output_type": "stream",
          "name": "stdout",
          "text": [
            "0.1338805854320526\n"
          ]
        },
        {
          "output_type": "stream",
          "name": "stderr",
          "text": [
            "\r 62%|██████▏   | 16/26 [00:26<00:16,  1.66s/it]"
          ]
        },
        {
          "output_type": "stream",
          "name": "stdout",
          "text": [
            "0.16297009587287903\n"
          ]
        },
        {
          "output_type": "stream",
          "name": "stderr",
          "text": [
            "\r 65%|██████▌   | 17/26 [00:27<00:14,  1.64s/it]"
          ]
        },
        {
          "output_type": "stream",
          "name": "stdout",
          "text": [
            "0.25470253825187683\n"
          ]
        },
        {
          "output_type": "stream",
          "name": "stderr",
          "text": [
            "\r 69%|██████▉   | 18/26 [00:29<00:13,  1.65s/it]"
          ]
        },
        {
          "output_type": "stream",
          "name": "stdout",
          "text": [
            "0.16826049983501434\n"
          ]
        },
        {
          "output_type": "stream",
          "name": "stderr",
          "text": [
            "\r 73%|███████▎  | 19/26 [00:31<00:11,  1.65s/it]"
          ]
        },
        {
          "output_type": "stream",
          "name": "stdout",
          "text": [
            "0.17941021919250488\n"
          ]
        },
        {
          "output_type": "stream",
          "name": "stderr",
          "text": [
            "\r 77%|███████▋  | 20/26 [00:32<00:09,  1.66s/it]"
          ]
        },
        {
          "output_type": "stream",
          "name": "stdout",
          "text": [
            "0.11955955624580383\n"
          ]
        },
        {
          "output_type": "stream",
          "name": "stderr",
          "text": [
            "\r 81%|████████  | 21/26 [00:34<00:08,  1.65s/it]"
          ]
        },
        {
          "output_type": "stream",
          "name": "stdout",
          "text": [
            "0.13691331446170807\n"
          ]
        },
        {
          "output_type": "stream",
          "name": "stderr",
          "text": [
            "\r 85%|████████▍ | 22/26 [00:36<00:06,  1.66s/it]"
          ]
        },
        {
          "output_type": "stream",
          "name": "stdout",
          "text": [
            "0.15108059346675873\n"
          ]
        },
        {
          "output_type": "stream",
          "name": "stderr",
          "text": [
            "\r 88%|████████▊ | 23/26 [00:37<00:04,  1.65s/it]"
          ]
        },
        {
          "output_type": "stream",
          "name": "stdout",
          "text": [
            "0.14836415648460388\n"
          ]
        },
        {
          "output_type": "stream",
          "name": "stderr",
          "text": [
            "\r 92%|█████████▏| 24/26 [00:39<00:03,  1.66s/it]"
          ]
        },
        {
          "output_type": "stream",
          "name": "stdout",
          "text": [
            "0.11640048772096634\n"
          ]
        },
        {
          "output_type": "stream",
          "name": "stderr",
          "text": [
            "\r 96%|█████████▌| 25/26 [00:41<00:01,  1.65s/it]"
          ]
        },
        {
          "output_type": "stream",
          "name": "stdout",
          "text": [
            "0.16415056586265564\n"
          ]
        },
        {
          "output_type": "stream",
          "name": "stderr",
          "text": [
            "100%|██████████| 26/26 [00:42<00:00,  1.64s/it]\n"
          ]
        },
        {
          "output_type": "stream",
          "name": "stdout",
          "text": [
            "0.151005819439888\n",
            "\n",
            "TRAIN: Epoch 4/10, Accuracy: 93.112, Loss: 0.180\n"
          ]
        },
        {
          "output_type": "stream",
          "name": "stderr",
          "text": [
            "  4%|▍         | 1/26 [00:01<00:40,  1.63s/it]"
          ]
        },
        {
          "output_type": "stream",
          "name": "stdout",
          "text": [
            "0.10338377952575684\n"
          ]
        },
        {
          "output_type": "stream",
          "name": "stderr",
          "text": [
            "\r  8%|▊         | 2/26 [00:03<00:39,  1.63s/it]"
          ]
        },
        {
          "output_type": "stream",
          "name": "stdout",
          "text": [
            "0.20776119828224182\n"
          ]
        },
        {
          "output_type": "stream",
          "name": "stderr",
          "text": [
            "\r 12%|█▏        | 3/26 [00:04<00:37,  1.63s/it]"
          ]
        },
        {
          "output_type": "stream",
          "name": "stdout",
          "text": [
            "0.12096536159515381\n"
          ]
        },
        {
          "output_type": "stream",
          "name": "stderr",
          "text": [
            "\r 15%|█▌        | 4/26 [00:06<00:36,  1.64s/it]"
          ]
        },
        {
          "output_type": "stream",
          "name": "stdout",
          "text": [
            "0.11793579161167145\n"
          ]
        },
        {
          "output_type": "stream",
          "name": "stderr",
          "text": [
            "\r 19%|█▉        | 5/26 [00:08<00:34,  1.63s/it]"
          ]
        },
        {
          "output_type": "stream",
          "name": "stdout",
          "text": [
            "0.16196057200431824\n"
          ]
        },
        {
          "output_type": "stream",
          "name": "stderr",
          "text": [
            "\r 23%|██▎       | 6/26 [00:09<00:33,  1.65s/it]"
          ]
        },
        {
          "output_type": "stream",
          "name": "stdout",
          "text": [
            "0.16756032407283783\n"
          ]
        },
        {
          "output_type": "stream",
          "name": "stderr",
          "text": [
            "\r 27%|██▋       | 7/26 [00:11<00:31,  1.65s/it]"
          ]
        },
        {
          "output_type": "stream",
          "name": "stdout",
          "text": [
            "0.18918487429618835\n"
          ]
        },
        {
          "output_type": "stream",
          "name": "stderr",
          "text": [
            "\r 31%|███       | 8/26 [00:13<00:29,  1.65s/it]"
          ]
        },
        {
          "output_type": "stream",
          "name": "stdout",
          "text": [
            "0.17818421125411987\n"
          ]
        },
        {
          "output_type": "stream",
          "name": "stderr",
          "text": [
            "\r 35%|███▍      | 9/26 [00:14<00:27,  1.63s/it]"
          ]
        },
        {
          "output_type": "stream",
          "name": "stdout",
          "text": [
            "0.17678454518318176\n"
          ]
        },
        {
          "output_type": "stream",
          "name": "stderr",
          "text": [
            "\r 38%|███▊      | 10/26 [00:16<00:26,  1.64s/it]"
          ]
        },
        {
          "output_type": "stream",
          "name": "stdout",
          "text": [
            "0.2293296605348587\n"
          ]
        },
        {
          "output_type": "stream",
          "name": "stderr",
          "text": [
            "\r 42%|████▏     | 11/26 [00:18<00:24,  1.63s/it]"
          ]
        },
        {
          "output_type": "stream",
          "name": "stdout",
          "text": [
            "0.16586805880069733\n"
          ]
        },
        {
          "output_type": "stream",
          "name": "stderr",
          "text": [
            "\r 46%|████▌     | 12/26 [00:19<00:22,  1.63s/it]"
          ]
        },
        {
          "output_type": "stream",
          "name": "stdout",
          "text": [
            "0.11878085881471634\n"
          ]
        },
        {
          "output_type": "stream",
          "name": "stderr",
          "text": [
            "\r 50%|█████     | 13/26 [00:21<00:21,  1.63s/it]"
          ]
        },
        {
          "output_type": "stream",
          "name": "stdout",
          "text": [
            "0.15147577226161957\n"
          ]
        },
        {
          "output_type": "stream",
          "name": "stderr",
          "text": [
            "\r 54%|█████▍    | 14/26 [00:22<00:19,  1.64s/it]"
          ]
        },
        {
          "output_type": "stream",
          "name": "stdout",
          "text": [
            "0.10524929314851761\n"
          ]
        },
        {
          "output_type": "stream",
          "name": "stderr",
          "text": [
            "\r 58%|█████▊    | 15/26 [00:24<00:18,  1.65s/it]"
          ]
        },
        {
          "output_type": "stream",
          "name": "stdout",
          "text": [
            "0.20031772553920746\n"
          ]
        },
        {
          "output_type": "stream",
          "name": "stderr",
          "text": [
            "\r 62%|██████▏   | 16/26 [00:26<00:16,  1.66s/it]"
          ]
        },
        {
          "output_type": "stream",
          "name": "stdout",
          "text": [
            "0.0960489809513092\n"
          ]
        },
        {
          "output_type": "stream",
          "name": "stderr",
          "text": [
            "\r 65%|██████▌   | 17/26 [00:27<00:14,  1.66s/it]"
          ]
        },
        {
          "output_type": "stream",
          "name": "stdout",
          "text": [
            "0.16133257746696472\n"
          ]
        },
        {
          "output_type": "stream",
          "name": "stderr",
          "text": [
            "\r 69%|██████▉   | 18/26 [00:29<00:13,  1.67s/it]"
          ]
        },
        {
          "output_type": "stream",
          "name": "stdout",
          "text": [
            "0.16568344831466675\n"
          ]
        },
        {
          "output_type": "stream",
          "name": "stderr",
          "text": [
            "\r 73%|███████▎  | 19/26 [00:31<00:11,  1.65s/it]"
          ]
        },
        {
          "output_type": "stream",
          "name": "stdout",
          "text": [
            "0.12269489467144012\n"
          ]
        },
        {
          "output_type": "stream",
          "name": "stderr",
          "text": [
            "\r 77%|███████▋  | 20/26 [00:32<00:09,  1.65s/it]"
          ]
        },
        {
          "output_type": "stream",
          "name": "stdout",
          "text": [
            "0.18299944698810577\n"
          ]
        },
        {
          "output_type": "stream",
          "name": "stderr",
          "text": [
            "\r 81%|████████  | 21/26 [00:34<00:08,  1.64s/it]"
          ]
        },
        {
          "output_type": "stream",
          "name": "stdout",
          "text": [
            "0.10862360894680023\n"
          ]
        },
        {
          "output_type": "stream",
          "name": "stderr",
          "text": [
            "\r 85%|████████▍ | 22/26 [00:36<00:06,  1.64s/it]"
          ]
        },
        {
          "output_type": "stream",
          "name": "stdout",
          "text": [
            "0.16234228014945984\n"
          ]
        },
        {
          "output_type": "stream",
          "name": "stderr",
          "text": [
            "\r 88%|████████▊ | 23/26 [00:37<00:04,  1.63s/it]"
          ]
        },
        {
          "output_type": "stream",
          "name": "stdout",
          "text": [
            "0.09997943788766861\n"
          ]
        },
        {
          "output_type": "stream",
          "name": "stderr",
          "text": [
            "\r 92%|█████████▏| 24/26 [00:39<00:03,  1.63s/it]"
          ]
        },
        {
          "output_type": "stream",
          "name": "stdout",
          "text": [
            "0.13681788742542267\n"
          ]
        },
        {
          "output_type": "stream",
          "name": "stderr",
          "text": [
            "\r 96%|█████████▌| 25/26 [00:40<00:01,  1.62s/it]"
          ]
        },
        {
          "output_type": "stream",
          "name": "stdout",
          "text": [
            "0.21331611275672913\n"
          ]
        },
        {
          "output_type": "stream",
          "name": "stderr",
          "text": [
            "100%|██████████| 26/26 [00:42<00:00,  1.63s/it]\n"
          ]
        },
        {
          "output_type": "stream",
          "name": "stdout",
          "text": [
            "0.16492491960525513\n",
            "\n",
            "TRAIN: Epoch 5/10, Accuracy: 94.093, Loss: 0.154\n"
          ]
        },
        {
          "output_type": "stream",
          "name": "stderr",
          "text": [
            "  4%|▍         | 1/26 [00:01<00:40,  1.61s/it]"
          ]
        },
        {
          "output_type": "stream",
          "name": "stdout",
          "text": [
            "0.15069590508937836\n"
          ]
        },
        {
          "output_type": "stream",
          "name": "stderr",
          "text": [
            "\r  8%|▊         | 2/26 [00:03<00:38,  1.62s/it]"
          ]
        },
        {
          "output_type": "stream",
          "name": "stdout",
          "text": [
            "0.11438992619514465\n"
          ]
        },
        {
          "output_type": "stream",
          "name": "stderr",
          "text": [
            "\r 12%|█▏        | 3/26 [00:04<00:37,  1.61s/it]"
          ]
        },
        {
          "output_type": "stream",
          "name": "stdout",
          "text": [
            "0.16863150894641876\n"
          ]
        },
        {
          "output_type": "stream",
          "name": "stderr",
          "text": [
            "\r 15%|█▌        | 4/26 [00:06<00:36,  1.64s/it]"
          ]
        },
        {
          "output_type": "stream",
          "name": "stdout",
          "text": [
            "0.1378353089094162\n"
          ]
        },
        {
          "output_type": "stream",
          "name": "stderr",
          "text": [
            "\r 19%|█▉        | 5/26 [00:08<00:33,  1.61s/it]"
          ]
        },
        {
          "output_type": "stream",
          "name": "stdout",
          "text": [
            "0.20384393632411957\n"
          ]
        },
        {
          "output_type": "stream",
          "name": "stderr",
          "text": [
            "\r 23%|██▎       | 6/26 [00:09<00:32,  1.62s/it]"
          ]
        },
        {
          "output_type": "stream",
          "name": "stdout",
          "text": [
            "0.09322844445705414\n"
          ]
        },
        {
          "output_type": "stream",
          "name": "stderr",
          "text": [
            "\r 27%|██▋       | 7/26 [00:11<00:30,  1.61s/it]"
          ]
        },
        {
          "output_type": "stream",
          "name": "stdout",
          "text": [
            "0.16386912763118744\n"
          ]
        },
        {
          "output_type": "stream",
          "name": "stderr",
          "text": [
            "\r 31%|███       | 8/26 [00:12<00:29,  1.62s/it]"
          ]
        },
        {
          "output_type": "stream",
          "name": "stdout",
          "text": [
            "0.11105760186910629\n"
          ]
        },
        {
          "output_type": "stream",
          "name": "stderr",
          "text": [
            "\r 35%|███▍      | 9/26 [00:14<00:27,  1.62s/it]"
          ]
        },
        {
          "output_type": "stream",
          "name": "stdout",
          "text": [
            "0.1220509484410286\n"
          ]
        },
        {
          "output_type": "stream",
          "name": "stderr",
          "text": [
            "\r 38%|███▊      | 10/26 [00:16<00:26,  1.63s/it]"
          ]
        },
        {
          "output_type": "stream",
          "name": "stdout",
          "text": [
            "0.14634709060192108\n"
          ]
        },
        {
          "output_type": "stream",
          "name": "stderr",
          "text": [
            "\r 42%|████▏     | 11/26 [00:17<00:24,  1.61s/it]"
          ]
        },
        {
          "output_type": "stream",
          "name": "stdout",
          "text": [
            "0.1006387323141098\n"
          ]
        },
        {
          "output_type": "stream",
          "name": "stderr",
          "text": [
            "\r 46%|████▌     | 12/26 [00:19<00:22,  1.62s/it]"
          ]
        },
        {
          "output_type": "stream",
          "name": "stdout",
          "text": [
            "0.12412387877702713\n"
          ]
        },
        {
          "output_type": "stream",
          "name": "stderr",
          "text": [
            "\r 50%|█████     | 13/26 [00:21<00:20,  1.61s/it]"
          ]
        },
        {
          "output_type": "stream",
          "name": "stdout",
          "text": [
            "0.14833633601665497\n"
          ]
        },
        {
          "output_type": "stream",
          "name": "stderr",
          "text": [
            "\r 54%|█████▍    | 14/26 [00:22<00:19,  1.62s/it]"
          ]
        },
        {
          "output_type": "stream",
          "name": "stdout",
          "text": [
            "0.1247040182352066\n"
          ]
        },
        {
          "output_type": "stream",
          "name": "stderr",
          "text": [
            "\r 58%|█████▊    | 15/26 [00:24<00:17,  1.61s/it]"
          ]
        },
        {
          "output_type": "stream",
          "name": "stdout",
          "text": [
            "0.20027782022953033\n"
          ]
        },
        {
          "output_type": "stream",
          "name": "stderr",
          "text": [
            "\r 62%|██████▏   | 16/26 [00:25<00:16,  1.61s/it]"
          ]
        },
        {
          "output_type": "stream",
          "name": "stdout",
          "text": [
            "0.10737325996160507\n"
          ]
        },
        {
          "output_type": "stream",
          "name": "stderr",
          "text": [
            "\r 65%|██████▌   | 17/26 [00:27<00:14,  1.60s/it]"
          ]
        },
        {
          "output_type": "stream",
          "name": "stdout",
          "text": [
            "0.10716622322797775\n"
          ]
        },
        {
          "output_type": "stream",
          "name": "stderr",
          "text": [
            "\r 69%|██████▉   | 18/26 [00:29<00:12,  1.61s/it]"
          ]
        },
        {
          "output_type": "stream",
          "name": "stdout",
          "text": [
            "0.14630679786205292\n"
          ]
        },
        {
          "output_type": "stream",
          "name": "stderr",
          "text": [
            "\r 73%|███████▎  | 19/26 [00:30<00:11,  1.61s/it]"
          ]
        },
        {
          "output_type": "stream",
          "name": "stdout",
          "text": [
            "0.11358240991830826\n"
          ]
        },
        {
          "output_type": "stream",
          "name": "stderr",
          "text": [
            "\r 77%|███████▋  | 20/26 [00:32<00:09,  1.62s/it]"
          ]
        },
        {
          "output_type": "stream",
          "name": "stdout",
          "text": [
            "0.1228838637471199\n"
          ]
        },
        {
          "output_type": "stream",
          "name": "stderr",
          "text": [
            "\r 81%|████████  | 21/26 [00:33<00:08,  1.62s/it]"
          ]
        },
        {
          "output_type": "stream",
          "name": "stdout",
          "text": [
            "0.0848061591386795\n"
          ]
        },
        {
          "output_type": "stream",
          "name": "stderr",
          "text": [
            "\r 85%|████████▍ | 22/26 [00:35<00:06,  1.63s/it]"
          ]
        },
        {
          "output_type": "stream",
          "name": "stdout",
          "text": [
            "0.11272536963224411\n"
          ]
        },
        {
          "output_type": "stream",
          "name": "stderr",
          "text": [
            "\r 88%|████████▊ | 23/26 [00:37<00:04,  1.62s/it]"
          ]
        },
        {
          "output_type": "stream",
          "name": "stdout",
          "text": [
            "0.16573558747768402\n"
          ]
        },
        {
          "output_type": "stream",
          "name": "stderr",
          "text": [
            "\r 92%|█████████▏| 24/26 [00:38<00:03,  1.63s/it]"
          ]
        },
        {
          "output_type": "stream",
          "name": "stdout",
          "text": [
            "0.09094970673322678\n"
          ]
        },
        {
          "output_type": "stream",
          "name": "stderr",
          "text": [
            "\r 96%|█████████▌| 25/26 [00:40<00:01,  1.63s/it]"
          ]
        },
        {
          "output_type": "stream",
          "name": "stdout",
          "text": [
            "0.12854738533496857\n"
          ]
        },
        {
          "output_type": "stream",
          "name": "stderr",
          "text": [
            "100%|██████████| 26/26 [00:41<00:00,  1.61s/it]\n"
          ]
        },
        {
          "output_type": "stream",
          "name": "stdout",
          "text": [
            "0.14065393805503845\n",
            "\n",
            "TRAIN: Epoch 6/10, Accuracy: 95.021, Loss: 0.132\n"
          ]
        },
        {
          "output_type": "stream",
          "name": "stderr",
          "text": [
            "  4%|▍         | 1/26 [00:01<00:40,  1.61s/it]"
          ]
        },
        {
          "output_type": "stream",
          "name": "stdout",
          "text": [
            "0.0929962545633316\n"
          ]
        },
        {
          "output_type": "stream",
          "name": "stderr",
          "text": [
            "\r  8%|▊         | 2/26 [00:03<00:38,  1.62s/it]"
          ]
        },
        {
          "output_type": "stream",
          "name": "stdout",
          "text": [
            "0.1298138052225113\n"
          ]
        },
        {
          "output_type": "stream",
          "name": "stderr",
          "text": [
            "\r 12%|█▏        | 3/26 [00:04<00:37,  1.61s/it]"
          ]
        },
        {
          "output_type": "stream",
          "name": "stdout",
          "text": [
            "0.1222485601902008\n"
          ]
        },
        {
          "output_type": "stream",
          "name": "stderr",
          "text": [
            "\r 15%|█▌        | 4/26 [00:06<00:35,  1.62s/it]"
          ]
        },
        {
          "output_type": "stream",
          "name": "stdout",
          "text": [
            "0.13390153646469116\n"
          ]
        },
        {
          "output_type": "stream",
          "name": "stderr",
          "text": [
            "\r 19%|█▉        | 5/26 [00:08<00:33,  1.61s/it]"
          ]
        },
        {
          "output_type": "stream",
          "name": "stdout",
          "text": [
            "0.08002666383981705\n"
          ]
        },
        {
          "output_type": "stream",
          "name": "stderr",
          "text": [
            "\r 23%|██▎       | 6/26 [00:09<00:32,  1.62s/it]"
          ]
        },
        {
          "output_type": "stream",
          "name": "stdout",
          "text": [
            "0.09483150392770767\n"
          ]
        },
        {
          "output_type": "stream",
          "name": "stderr",
          "text": [
            "\r 27%|██▋       | 7/26 [00:11<00:30,  1.61s/it]"
          ]
        },
        {
          "output_type": "stream",
          "name": "stdout",
          "text": [
            "0.10502392798662186\n"
          ]
        },
        {
          "output_type": "stream",
          "name": "stderr",
          "text": [
            "\r 31%|███       | 8/26 [00:12<00:29,  1.62s/it]"
          ]
        },
        {
          "output_type": "stream",
          "name": "stdout",
          "text": [
            "0.1112595647573471\n"
          ]
        },
        {
          "output_type": "stream",
          "name": "stderr",
          "text": [
            "\r 35%|███▍      | 9/26 [00:14<00:27,  1.62s/it]"
          ]
        },
        {
          "output_type": "stream",
          "name": "stdout",
          "text": [
            "0.11494612693786621\n"
          ]
        },
        {
          "output_type": "stream",
          "name": "stderr",
          "text": [
            "\r 38%|███▊      | 10/26 [00:16<00:25,  1.62s/it]"
          ]
        },
        {
          "output_type": "stream",
          "name": "stdout",
          "text": [
            "0.10207706689834595\n"
          ]
        },
        {
          "output_type": "stream",
          "name": "stderr",
          "text": [
            "\r 42%|████▏     | 11/26 [00:17<00:24,  1.62s/it]"
          ]
        },
        {
          "output_type": "stream",
          "name": "stdout",
          "text": [
            "0.08461809158325195\n"
          ]
        },
        {
          "output_type": "stream",
          "name": "stderr",
          "text": [
            "\r 46%|████▌     | 12/26 [00:19<00:23,  1.64s/it]"
          ]
        },
        {
          "output_type": "stream",
          "name": "stdout",
          "text": [
            "0.10163341462612152\n"
          ]
        },
        {
          "output_type": "stream",
          "name": "stderr",
          "text": [
            "\r 50%|█████     | 13/26 [00:21<00:21,  1.63s/it]"
          ]
        },
        {
          "output_type": "stream",
          "name": "stdout",
          "text": [
            "0.08374898135662079\n"
          ]
        },
        {
          "output_type": "stream",
          "name": "stderr",
          "text": [
            "\r 54%|█████▍    | 14/26 [00:22<00:19,  1.63s/it]"
          ]
        },
        {
          "output_type": "stream",
          "name": "stdout",
          "text": [
            "0.09479346126317978\n"
          ]
        },
        {
          "output_type": "stream",
          "name": "stderr",
          "text": [
            "\r 58%|█████▊    | 15/26 [00:24<00:17,  1.63s/it]"
          ]
        },
        {
          "output_type": "stream",
          "name": "stdout",
          "text": [
            "0.09498696774244308\n"
          ]
        },
        {
          "output_type": "stream",
          "name": "stderr",
          "text": [
            "\r 62%|██████▏   | 16/26 [00:25<00:16,  1.63s/it]"
          ]
        },
        {
          "output_type": "stream",
          "name": "stdout",
          "text": [
            "0.08080597221851349\n"
          ]
        },
        {
          "output_type": "stream",
          "name": "stderr",
          "text": [
            "\r 65%|██████▌   | 17/26 [00:27<00:14,  1.61s/it]"
          ]
        },
        {
          "output_type": "stream",
          "name": "stdout",
          "text": [
            "0.10616049915552139\n"
          ]
        },
        {
          "output_type": "stream",
          "name": "stderr",
          "text": [
            "\r 69%|██████▉   | 18/26 [00:29<00:12,  1.62s/it]"
          ]
        },
        {
          "output_type": "stream",
          "name": "stdout",
          "text": [
            "0.10703343898057938\n"
          ]
        },
        {
          "output_type": "stream",
          "name": "stderr",
          "text": [
            "\r 73%|███████▎  | 19/26 [00:30<00:11,  1.62s/it]"
          ]
        },
        {
          "output_type": "stream",
          "name": "stdout",
          "text": [
            "0.11777287721633911\n"
          ]
        },
        {
          "output_type": "stream",
          "name": "stderr",
          "text": [
            "\r 77%|███████▋  | 20/26 [00:32<00:09,  1.63s/it]"
          ]
        },
        {
          "output_type": "stream",
          "name": "stdout",
          "text": [
            "0.10827594995498657\n"
          ]
        },
        {
          "output_type": "stream",
          "name": "stderr",
          "text": [
            "\r 81%|████████  | 21/26 [00:34<00:08,  1.62s/it]"
          ]
        },
        {
          "output_type": "stream",
          "name": "stdout",
          "text": [
            "0.07359489798545837\n"
          ]
        },
        {
          "output_type": "stream",
          "name": "stderr",
          "text": [
            "\r 85%|████████▍ | 22/26 [00:35<00:06,  1.62s/it]"
          ]
        },
        {
          "output_type": "stream",
          "name": "stdout",
          "text": [
            "0.1301286667585373\n"
          ]
        },
        {
          "output_type": "stream",
          "name": "stderr",
          "text": [
            "\r 88%|████████▊ | 23/26 [00:37<00:04,  1.63s/it]"
          ]
        },
        {
          "output_type": "stream",
          "name": "stdout",
          "text": [
            "0.09272973239421844\n"
          ]
        },
        {
          "output_type": "stream",
          "name": "stderr",
          "text": [
            "\r 92%|█████████▏| 24/26 [00:38<00:03,  1.63s/it]"
          ]
        },
        {
          "output_type": "stream",
          "name": "stdout",
          "text": [
            "0.08091781288385391\n"
          ]
        },
        {
          "output_type": "stream",
          "name": "stderr",
          "text": [
            "\r 96%|█████████▌| 25/26 [00:40<00:01,  1.62s/it]"
          ]
        },
        {
          "output_type": "stream",
          "name": "stdout",
          "text": [
            "0.11579517275094986\n"
          ]
        },
        {
          "output_type": "stream",
          "name": "stderr",
          "text": [
            "100%|██████████| 26/26 [00:41<00:00,  1.61s/it]\n"
          ]
        },
        {
          "output_type": "stream",
          "name": "stdout",
          "text": [
            "0.0795738622546196\n",
            "\n",
            "TRAIN: Epoch 7/10, Accuracy: 96.363, Loss: 0.102\n"
          ]
        },
        {
          "output_type": "stream",
          "name": "stderr",
          "text": [
            "  4%|▍         | 1/26 [00:01<00:40,  1.60s/it]"
          ]
        },
        {
          "output_type": "stream",
          "name": "stdout",
          "text": [
            "0.12620656192302704\n"
          ]
        },
        {
          "output_type": "stream",
          "name": "stderr",
          "text": [
            "\r  8%|▊         | 2/26 [00:03<00:39,  1.63s/it]"
          ]
        },
        {
          "output_type": "stream",
          "name": "stdout",
          "text": [
            "0.09680923074483871\n"
          ]
        },
        {
          "output_type": "stream",
          "name": "stderr",
          "text": [
            "\r 12%|█▏        | 3/26 [00:04<00:37,  1.62s/it]"
          ]
        },
        {
          "output_type": "stream",
          "name": "stdout",
          "text": [
            "0.1495618373155594\n"
          ]
        },
        {
          "output_type": "stream",
          "name": "stderr",
          "text": [
            "\r 15%|█▌        | 4/26 [00:06<00:35,  1.63s/it]"
          ]
        },
        {
          "output_type": "stream",
          "name": "stdout",
          "text": [
            "0.13062329590320587\n"
          ]
        },
        {
          "output_type": "stream",
          "name": "stderr",
          "text": [
            "\r 19%|█▉        | 5/26 [00:08<00:33,  1.61s/it]"
          ]
        },
        {
          "output_type": "stream",
          "name": "stdout",
          "text": [
            "0.05520535632967949\n"
          ]
        },
        {
          "output_type": "stream",
          "name": "stderr",
          "text": [
            "\r 23%|██▎       | 6/26 [00:09<00:32,  1.62s/it]"
          ]
        },
        {
          "output_type": "stream",
          "name": "stdout",
          "text": [
            "0.12369951605796814\n"
          ]
        },
        {
          "output_type": "stream",
          "name": "stderr",
          "text": [
            "\r 27%|██▋       | 7/26 [00:11<00:30,  1.63s/it]"
          ]
        },
        {
          "output_type": "stream",
          "name": "stdout",
          "text": [
            "0.05644292011857033\n"
          ]
        },
        {
          "output_type": "stream",
          "name": "stderr",
          "text": [
            "\r 31%|███       | 8/26 [00:13<00:29,  1.65s/it]"
          ]
        },
        {
          "output_type": "stream",
          "name": "stdout",
          "text": [
            "0.12453974038362503\n"
          ]
        },
        {
          "output_type": "stream",
          "name": "stderr",
          "text": [
            "\r 35%|███▍      | 9/26 [00:14<00:27,  1.64s/it]"
          ]
        },
        {
          "output_type": "stream",
          "name": "stdout",
          "text": [
            "0.10149841010570526\n"
          ]
        },
        {
          "output_type": "stream",
          "name": "stderr",
          "text": [
            "\r 38%|███▊      | 10/26 [00:16<00:26,  1.65s/it]"
          ]
        },
        {
          "output_type": "stream",
          "name": "stdout",
          "text": [
            "0.08282642066478729\n"
          ]
        },
        {
          "output_type": "stream",
          "name": "stderr",
          "text": [
            "\r 42%|████▏     | 11/26 [00:18<00:24,  1.65s/it]"
          ]
        },
        {
          "output_type": "stream",
          "name": "stdout",
          "text": [
            "0.1219952255487442\n"
          ]
        },
        {
          "output_type": "stream",
          "name": "stderr",
          "text": [
            "\r 46%|████▌     | 12/26 [00:19<00:23,  1.65s/it]"
          ]
        },
        {
          "output_type": "stream",
          "name": "stdout",
          "text": [
            "0.0832161009311676\n"
          ]
        },
        {
          "output_type": "stream",
          "name": "stderr",
          "text": [
            "\r 50%|█████     | 13/26 [00:21<00:21,  1.64s/it]"
          ]
        },
        {
          "output_type": "stream",
          "name": "stdout",
          "text": [
            "0.10798829048871994\n"
          ]
        },
        {
          "output_type": "stream",
          "name": "stderr",
          "text": [
            "\r 54%|█████▍    | 14/26 [00:22<00:19,  1.64s/it]"
          ]
        },
        {
          "output_type": "stream",
          "name": "stdout",
          "text": [
            "0.10221140831708908\n"
          ]
        },
        {
          "output_type": "stream",
          "name": "stderr",
          "text": [
            "\r 58%|█████▊    | 15/26 [00:24<00:17,  1.63s/it]"
          ]
        },
        {
          "output_type": "stream",
          "name": "stdout",
          "text": [
            "0.09811486303806305\n"
          ]
        },
        {
          "output_type": "stream",
          "name": "stderr",
          "text": [
            "\r 62%|██████▏   | 16/26 [00:26<00:16,  1.64s/it]"
          ]
        },
        {
          "output_type": "stream",
          "name": "stdout",
          "text": [
            "0.11416938900947571\n"
          ]
        },
        {
          "output_type": "stream",
          "name": "stderr",
          "text": [
            "\r 65%|██████▌   | 17/26 [00:27<00:14,  1.63s/it]"
          ]
        },
        {
          "output_type": "stream",
          "name": "stdout",
          "text": [
            "0.1049690768122673\n"
          ]
        },
        {
          "output_type": "stream",
          "name": "stderr",
          "text": [
            "\r 69%|██████▉   | 18/26 [00:29<00:13,  1.65s/it]"
          ]
        },
        {
          "output_type": "stream",
          "name": "stdout",
          "text": [
            "0.1214558407664299\n"
          ]
        },
        {
          "output_type": "stream",
          "name": "stderr",
          "text": [
            "\r 73%|███████▎  | 19/26 [00:31<00:11,  1.63s/it]"
          ]
        },
        {
          "output_type": "stream",
          "name": "stdout",
          "text": [
            "0.1161445900797844\n"
          ]
        },
        {
          "output_type": "stream",
          "name": "stderr",
          "text": [
            "\r 77%|███████▋  | 20/26 [00:32<00:09,  1.65s/it]"
          ]
        },
        {
          "output_type": "stream",
          "name": "stdout",
          "text": [
            "0.06495351344347\n"
          ]
        },
        {
          "output_type": "stream",
          "name": "stderr",
          "text": [
            "\r 81%|████████  | 21/26 [00:34<00:08,  1.66s/it]"
          ]
        },
        {
          "output_type": "stream",
          "name": "stdout",
          "text": [
            "0.1591167002916336\n"
          ]
        },
        {
          "output_type": "stream",
          "name": "stderr",
          "text": [
            "\r 85%|████████▍ | 22/26 [00:36<00:06,  1.65s/it]"
          ]
        },
        {
          "output_type": "stream",
          "name": "stdout",
          "text": [
            "0.08790131658315659\n"
          ]
        },
        {
          "output_type": "stream",
          "name": "stderr",
          "text": [
            "\r 88%|████████▊ | 23/26 [00:37<00:04,  1.64s/it]"
          ]
        },
        {
          "output_type": "stream",
          "name": "stdout",
          "text": [
            "0.08584840595722198\n"
          ]
        },
        {
          "output_type": "stream",
          "name": "stderr",
          "text": [
            "\r 92%|█████████▏| 24/26 [00:39<00:03,  1.65s/it]"
          ]
        },
        {
          "output_type": "stream",
          "name": "stdout",
          "text": [
            "0.10881886631250381\n"
          ]
        },
        {
          "output_type": "stream",
          "name": "stderr",
          "text": [
            "\r 96%|█████████▌| 25/26 [00:40<00:01,  1.64s/it]"
          ]
        },
        {
          "output_type": "stream",
          "name": "stdout",
          "text": [
            "0.07007694244384766\n"
          ]
        },
        {
          "output_type": "stream",
          "name": "stderr",
          "text": [
            "100%|██████████| 26/26 [00:42<00:00,  1.63s/it]\n"
          ]
        },
        {
          "output_type": "stream",
          "name": "stdout",
          "text": [
            "0.10423814505338669\n",
            "\n",
            "TRAIN: Epoch 8/10, Accuracy: 96.118, Loss: 0.104\n"
          ]
        },
        {
          "output_type": "stream",
          "name": "stderr",
          "text": [
            "  4%|▍         | 1/26 [00:01<00:40,  1.62s/it]"
          ]
        },
        {
          "output_type": "stream",
          "name": "stdout",
          "text": [
            "0.08893180638551712\n"
          ]
        },
        {
          "output_type": "stream",
          "name": "stderr",
          "text": [
            "\r  8%|▊         | 2/26 [00:03<00:39,  1.64s/it]"
          ]
        },
        {
          "output_type": "stream",
          "name": "stdout",
          "text": [
            "0.06704270839691162\n"
          ]
        },
        {
          "output_type": "stream",
          "name": "stderr",
          "text": [
            "\r 12%|█▏        | 3/26 [00:04<00:37,  1.62s/it]"
          ]
        },
        {
          "output_type": "stream",
          "name": "stdout",
          "text": [
            "0.09006234258413315\n"
          ]
        },
        {
          "output_type": "stream",
          "name": "stderr",
          "text": [
            "\r 15%|█▌        | 4/26 [00:06<00:35,  1.63s/it]"
          ]
        },
        {
          "output_type": "stream",
          "name": "stdout",
          "text": [
            "0.09504008293151855\n"
          ]
        },
        {
          "output_type": "stream",
          "name": "stderr",
          "text": [
            "\r 19%|█▉        | 5/26 [00:08<00:33,  1.62s/it]"
          ]
        },
        {
          "output_type": "stream",
          "name": "stdout",
          "text": [
            "0.06910168379545212\n"
          ]
        },
        {
          "output_type": "stream",
          "name": "stderr",
          "text": [
            "\r 23%|██▎       | 6/26 [00:09<00:32,  1.63s/it]"
          ]
        },
        {
          "output_type": "stream",
          "name": "stdout",
          "text": [
            "0.05487419664859772\n"
          ]
        },
        {
          "output_type": "stream",
          "name": "stderr",
          "text": [
            "\r 27%|██▋       | 7/26 [00:11<00:30,  1.62s/it]"
          ]
        },
        {
          "output_type": "stream",
          "name": "stdout",
          "text": [
            "0.04867912456393242\n"
          ]
        },
        {
          "output_type": "stream",
          "name": "stderr",
          "text": [
            "\r 31%|███       | 8/26 [00:12<00:29,  1.63s/it]"
          ]
        },
        {
          "output_type": "stream",
          "name": "stdout",
          "text": [
            "0.09243952482938766\n"
          ]
        },
        {
          "output_type": "stream",
          "name": "stderr",
          "text": [
            "\r 35%|███▍      | 9/26 [00:14<00:27,  1.62s/it]"
          ]
        },
        {
          "output_type": "stream",
          "name": "stdout",
          "text": [
            "0.0818784311413765\n"
          ]
        },
        {
          "output_type": "stream",
          "name": "stderr",
          "text": [
            "\r 38%|███▊      | 10/26 [00:16<00:26,  1.63s/it]"
          ]
        },
        {
          "output_type": "stream",
          "name": "stdout",
          "text": [
            "0.05498757213354111\n"
          ]
        },
        {
          "output_type": "stream",
          "name": "stderr",
          "text": [
            "\r 42%|████▏     | 11/26 [00:17<00:24,  1.62s/it]"
          ]
        },
        {
          "output_type": "stream",
          "name": "stdout",
          "text": [
            "0.07689880579710007\n"
          ]
        },
        {
          "output_type": "stream",
          "name": "stderr",
          "text": [
            "\r 46%|████▌     | 12/26 [00:19<00:22,  1.63s/it]"
          ]
        },
        {
          "output_type": "stream",
          "name": "stdout",
          "text": [
            "0.05143715813755989\n"
          ]
        },
        {
          "output_type": "stream",
          "name": "stderr",
          "text": [
            "\r 50%|█████     | 13/26 [00:21<00:21,  1.63s/it]"
          ]
        },
        {
          "output_type": "stream",
          "name": "stdout",
          "text": [
            "0.041670337319374084\n"
          ]
        },
        {
          "output_type": "stream",
          "name": "stderr",
          "text": [
            "\r 54%|█████▍    | 14/26 [00:22<00:19,  1.65s/it]"
          ]
        },
        {
          "output_type": "stream",
          "name": "stdout",
          "text": [
            "0.048275481909513474\n"
          ]
        },
        {
          "output_type": "stream",
          "name": "stderr",
          "text": [
            "\r 58%|█████▊    | 15/26 [00:24<00:17,  1.63s/it]"
          ]
        },
        {
          "output_type": "stream",
          "name": "stdout",
          "text": [
            "0.054478734731674194\n"
          ]
        },
        {
          "output_type": "stream",
          "name": "stderr",
          "text": [
            "\r 62%|██████▏   | 16/26 [00:26<00:16,  1.64s/it]"
          ]
        },
        {
          "output_type": "stream",
          "name": "stdout",
          "text": [
            "0.05317480117082596\n"
          ]
        },
        {
          "output_type": "stream",
          "name": "stderr",
          "text": [
            "\r 65%|██████▌   | 17/26 [00:27<00:14,  1.63s/it]"
          ]
        },
        {
          "output_type": "stream",
          "name": "stdout",
          "text": [
            "0.08440208435058594\n"
          ]
        },
        {
          "output_type": "stream",
          "name": "stderr",
          "text": [
            "\r 69%|██████▉   | 18/26 [00:29<00:13,  1.64s/it]"
          ]
        },
        {
          "output_type": "stream",
          "name": "stdout",
          "text": [
            "0.06052607670426369\n"
          ]
        },
        {
          "output_type": "stream",
          "name": "stderr",
          "text": [
            "\r 73%|███████▎  | 19/26 [00:30<00:11,  1.62s/it]"
          ]
        },
        {
          "output_type": "stream",
          "name": "stdout",
          "text": [
            "0.06592068821191788\n"
          ]
        },
        {
          "output_type": "stream",
          "name": "stderr",
          "text": [
            "\r 77%|███████▋  | 20/26 [00:32<00:09,  1.63s/it]"
          ]
        },
        {
          "output_type": "stream",
          "name": "stdout",
          "text": [
            "0.07642621546983719\n"
          ]
        },
        {
          "output_type": "stream",
          "name": "stderr",
          "text": [
            "\r 81%|████████  | 21/26 [00:34<00:08,  1.63s/it]"
          ]
        },
        {
          "output_type": "stream",
          "name": "stdout",
          "text": [
            "0.041373979300260544\n"
          ]
        },
        {
          "output_type": "stream",
          "name": "stderr",
          "text": [
            "\r 85%|████████▍ | 22/26 [00:35<00:06,  1.64s/it]"
          ]
        },
        {
          "output_type": "stream",
          "name": "stdout",
          "text": [
            "0.08885606378316879\n"
          ]
        },
        {
          "output_type": "stream",
          "name": "stderr",
          "text": [
            "\r 88%|████████▊ | 23/26 [00:37<00:04,  1.63s/it]"
          ]
        },
        {
          "output_type": "stream",
          "name": "stdout",
          "text": [
            "0.06580551713705063\n"
          ]
        },
        {
          "output_type": "stream",
          "name": "stderr",
          "text": [
            "\r 92%|█████████▏| 24/26 [00:39<00:03,  1.62s/it]"
          ]
        },
        {
          "output_type": "stream",
          "name": "stdout",
          "text": [
            "0.06406503170728683\n"
          ]
        },
        {
          "output_type": "stream",
          "name": "stderr",
          "text": [
            "\r 96%|█████████▌| 25/26 [00:40<00:01,  1.63s/it]"
          ]
        },
        {
          "output_type": "stream",
          "name": "stdout",
          "text": [
            "0.05038570240139961\n"
          ]
        },
        {
          "output_type": "stream",
          "name": "stderr",
          "text": [
            "100%|██████████| 26/26 [00:42<00:00,  1.62s/it]\n"
          ]
        },
        {
          "output_type": "stream",
          "name": "stdout",
          "text": [
            "0.05322641506791115\n",
            "\n",
            "TRAIN: Epoch 9/10, Accuracy: 98.104, Loss: 0.066\n"
          ]
        },
        {
          "output_type": "stream",
          "name": "stderr",
          "text": [
            "  4%|▍         | 1/26 [00:01<00:40,  1.62s/it]"
          ]
        },
        {
          "output_type": "stream",
          "name": "stdout",
          "text": [
            "0.035778529942035675\n"
          ]
        },
        {
          "output_type": "stream",
          "name": "stderr",
          "text": [
            "\r  8%|▊         | 2/26 [00:03<00:39,  1.64s/it]"
          ]
        },
        {
          "output_type": "stream",
          "name": "stdout",
          "text": [
            "0.035376083105802536\n"
          ]
        },
        {
          "output_type": "stream",
          "name": "stderr",
          "text": [
            "\r 12%|█▏        | 3/26 [00:04<00:37,  1.64s/it]"
          ]
        },
        {
          "output_type": "stream",
          "name": "stdout",
          "text": [
            "0.06617948412895203\n"
          ]
        },
        {
          "output_type": "stream",
          "name": "stderr",
          "text": [
            "\r 15%|█▌        | 4/26 [00:06<00:36,  1.66s/it]"
          ]
        },
        {
          "output_type": "stream",
          "name": "stdout",
          "text": [
            "0.06432916969060898\n"
          ]
        },
        {
          "output_type": "stream",
          "name": "stderr",
          "text": [
            "\r 19%|█▉        | 5/26 [00:08<00:34,  1.65s/it]"
          ]
        },
        {
          "output_type": "stream",
          "name": "stdout",
          "text": [
            "0.06341209262609482\n"
          ]
        },
        {
          "output_type": "stream",
          "name": "stderr",
          "text": [
            "\r 23%|██▎       | 6/26 [00:09<00:33,  1.68s/it]"
          ]
        },
        {
          "output_type": "stream",
          "name": "stdout",
          "text": [
            "0.04823167994618416\n"
          ]
        },
        {
          "output_type": "stream",
          "name": "stderr",
          "text": [
            "\r 27%|██▋       | 7/26 [00:11<00:31,  1.66s/it]"
          ]
        },
        {
          "output_type": "stream",
          "name": "stdout",
          "text": [
            "0.04253256320953369\n"
          ]
        },
        {
          "output_type": "stream",
          "name": "stderr",
          "text": [
            "\r 31%|███       | 8/26 [00:13<00:29,  1.66s/it]"
          ]
        },
        {
          "output_type": "stream",
          "name": "stdout",
          "text": [
            "0.048753105103969574\n"
          ]
        },
        {
          "output_type": "stream",
          "name": "stderr",
          "text": [
            "\r 35%|███▍      | 9/26 [00:14<00:28,  1.65s/it]"
          ]
        },
        {
          "output_type": "stream",
          "name": "stdout",
          "text": [
            "0.04401642084121704\n"
          ]
        },
        {
          "output_type": "stream",
          "name": "stderr",
          "text": [
            "\r 38%|███▊      | 10/26 [00:16<00:26,  1.65s/it]"
          ]
        },
        {
          "output_type": "stream",
          "name": "stdout",
          "text": [
            "0.031144822016358376\n"
          ]
        },
        {
          "output_type": "stream",
          "name": "stderr",
          "text": [
            "\r 42%|████▏     | 11/26 [00:18<00:24,  1.65s/it]"
          ]
        },
        {
          "output_type": "stream",
          "name": "stdout",
          "text": [
            "0.04629947617650032\n"
          ]
        },
        {
          "output_type": "stream",
          "name": "stderr",
          "text": [
            "\r 46%|████▌     | 12/26 [00:19<00:23,  1.65s/it]"
          ]
        },
        {
          "output_type": "stream",
          "name": "stdout",
          "text": [
            "0.0571182519197464\n"
          ]
        },
        {
          "output_type": "stream",
          "name": "stderr",
          "text": [
            "\r 50%|█████     | 13/26 [00:21<00:21,  1.65s/it]"
          ]
        },
        {
          "output_type": "stream",
          "name": "stdout",
          "text": [
            "0.04140482097864151\n"
          ]
        },
        {
          "output_type": "stream",
          "name": "stderr",
          "text": [
            "\r 54%|█████▍    | 14/26 [00:23<00:19,  1.66s/it]"
          ]
        },
        {
          "output_type": "stream",
          "name": "stdout",
          "text": [
            "0.03644989803433418\n"
          ]
        },
        {
          "output_type": "stream",
          "name": "stderr",
          "text": [
            "\r 58%|█████▊    | 15/26 [00:24<00:18,  1.65s/it]"
          ]
        },
        {
          "output_type": "stream",
          "name": "stdout",
          "text": [
            "0.02710598334670067\n"
          ]
        },
        {
          "output_type": "stream",
          "name": "stderr",
          "text": [
            "\r 62%|██████▏   | 16/26 [00:26<00:16,  1.65s/it]"
          ]
        },
        {
          "output_type": "stream",
          "name": "stdout",
          "text": [
            "0.03542005270719528\n"
          ]
        },
        {
          "output_type": "stream",
          "name": "stderr",
          "text": [
            "\r 65%|██████▌   | 17/26 [00:28<00:14,  1.64s/it]"
          ]
        },
        {
          "output_type": "stream",
          "name": "stdout",
          "text": [
            "0.07238464802503586\n"
          ]
        },
        {
          "output_type": "stream",
          "name": "stderr",
          "text": [
            "\r 69%|██████▉   | 18/26 [00:29<00:13,  1.65s/it]"
          ]
        },
        {
          "output_type": "stream",
          "name": "stdout",
          "text": [
            "0.02953251451253891\n"
          ]
        },
        {
          "output_type": "stream",
          "name": "stderr",
          "text": [
            "\r 73%|███████▎  | 19/26 [00:31<00:11,  1.64s/it]"
          ]
        },
        {
          "output_type": "stream",
          "name": "stdout",
          "text": [
            "0.08100973814725876\n"
          ]
        },
        {
          "output_type": "stream",
          "name": "stderr",
          "text": [
            "\r 77%|███████▋  | 20/26 [00:33<00:09,  1.65s/it]"
          ]
        },
        {
          "output_type": "stream",
          "name": "stdout",
          "text": [
            "0.05327419191598892\n"
          ]
        },
        {
          "output_type": "stream",
          "name": "stderr",
          "text": [
            "\r 81%|████████  | 21/26 [00:34<00:08,  1.64s/it]"
          ]
        },
        {
          "output_type": "stream",
          "name": "stdout",
          "text": [
            "0.04276314005255699\n"
          ]
        },
        {
          "output_type": "stream",
          "name": "stderr",
          "text": [
            "\r 85%|████████▍ | 22/26 [00:36<00:06,  1.64s/it]"
          ]
        },
        {
          "output_type": "stream",
          "name": "stdout",
          "text": [
            "0.04861724004149437\n"
          ]
        },
        {
          "output_type": "stream",
          "name": "stderr",
          "text": [
            "\r 88%|████████▊ | 23/26 [00:37<00:04,  1.64s/it]"
          ]
        },
        {
          "output_type": "stream",
          "name": "stdout",
          "text": [
            "0.044181548058986664\n"
          ]
        },
        {
          "output_type": "stream",
          "name": "stderr",
          "text": [
            "\r 92%|█████████▏| 24/26 [00:39<00:03,  1.65s/it]"
          ]
        },
        {
          "output_type": "stream",
          "name": "stdout",
          "text": [
            "0.05598052218556404\n"
          ]
        },
        {
          "output_type": "stream",
          "name": "stderr",
          "text": [
            "\r 96%|█████████▌| 25/26 [00:41<00:01,  1.64s/it]"
          ]
        },
        {
          "output_type": "stream",
          "name": "stdout",
          "text": [
            "0.027615871280431747\n"
          ]
        },
        {
          "output_type": "stream",
          "name": "stderr",
          "text": [
            "100%|██████████| 26/26 [00:42<00:00,  1.64s/it]"
          ]
        },
        {
          "output_type": "stream",
          "name": "stdout",
          "text": [
            "0.044458016753196716\n",
            "\n",
            "TRAIN: Epoch 10/10, Accuracy: 98.633, Loss: 0.047\n"
          ]
        },
        {
          "output_type": "stream",
          "name": "stderr",
          "text": [
            "\n"
          ]
        }
      ]
    },
    {
      "cell_type": "code",
      "metadata": {
        "id": "Fle_DUsESyvx",
        "colab": {
          "base_uri": "https://localhost:8080/",
          "height": 295
        },
        "outputId": "5a409f20-7ee1-402a-9d0a-cf8264707cce"
      },
      "source": [
        "plt.plot(trainAccuracy,'-o')\n",
        "# plt.plot(testAccuracy,'-o')\n",
        "plt.xlabel('epoch')\n",
        "plt.ylabel('accuracy')\n",
        "plt.legend(['Train','Test'])\n",
        "plt.title('Train vs Test Accuracy')\n",
        " \n",
        "plt.show()"
      ],
      "execution_count": null,
      "outputs": [
        {
          "output_type": "display_data",
          "data": {
            "image/png": "[encoded data removed]",
            "text/plain": [
              "<Figure size 432x288 with 1 Axes>"
            ]
          },
          "metadata": {
            "needs_background": "light"
          }
        }
      ]
    },
    {
      "cell_type": "code",
      "metadata": {
        "id": "nfUaIOD4Syvx",
        "colab": {
          "base_uri": "https://localhost:8080/",
          "height": 295
        },
        "outputId": "512fe3a7-9270-4399-b9bc-73e85272e624"
      },
      "source": [
        "plt.plot(trainLoss,'-o')\n",
        "# plt.plot(testLoss,'-o')\n",
        "plt.xlabel('epoch')\n",
        "plt.ylabel('losses')\n",
        "plt.legend(['Train','Test'])\n",
        "plt.title('Train vs Test Losses')\n",
        " \n",
        "plt.show()"
      ],
      "execution_count": null,
      "outputs": [
        {
          "output_type": "display_data",
          "data": {
            "image/png": "[encoded data removed]",
            "text/plain": [
              "<Figure size 432x288 with 1 Axes>"
            ]
          },
          "metadata": {
            "needs_background": "light"
          }
        }
      ]
    },
    {
      "cell_type": "code",
      "metadata": {
        "id": "d_7-rYPfqsF7",
        "colab": {
          "base_uri": "https://localhost:8080/",
          "height": 164
        },
        "outputId": "6c15b407-6426-4364-d304-8d645323b612"
      },
      "source": [
        "zzz"
      ],
      "execution_count": null,
      "outputs": [
        {
          "output_type": "error",
          "ename": "NameError",
          "evalue": "ignored",
          "traceback": [
            "\u001b[0;31m---------------------------------------------------------------------------\u001b[0m",
            "\u001b[0;31mNameError\u001b[0m                                 Traceback (most recent call last)",
            "\u001b[0;32m<ipython-input-129-131521d12231>\u001b[0m in \u001b[0;36m<module>\u001b[0;34m()\u001b[0m\n\u001b[0;32m----> 1\u001b[0;31m \u001b[0mzzz\u001b[0m\u001b[0;34m\u001b[0m\u001b[0;34m\u001b[0m\u001b[0m\n\u001b[0m",
            "\u001b[0;31mNameError\u001b[0m: name 'zzz' is not defined"
          ]
        }
      ]
    },
    {
      "cell_type": "code",
      "metadata": {
        "id": "uvITW5X3XIwR"
      },
      "source": [
        "# class Net(nn.Module):\n",
        "#     layers = []\n",
        "#     def __init__(self, alexNet):\n",
        "#         super(Net, self).__init__()\n",
        "#         self.conv2d1 = Conv2d(3, 64, 11, stride=3, padding=0)\n",
        "#         self.relu1 = alexNet.features[1]\n",
        "#         self.pool1 = alexNet.features[2]\n",
        "#         self.conv2d2 = alexNet.features[3]\n",
        "#         self.relu2 = alexNet.features[4]\n",
        "#         self.pool2 = alexNet.features[5]\n",
        "#         self.conv2d3 = alexNet.features[6]\n",
        "#         self.relu3 = alexNet.features[7]\n",
        "#         self.conv2d4 = alexNet.features[8]\n",
        "#         self.relu4 = alexNet.features[9]\n",
        "#         self.conv2d5 = Conv2d(256, 256, 11, stride=1, padding=1)\n",
        "#         self.relu5 = alexNet.features[11]\n",
        "#         self.pool5 = alexNet.features[12]\n",
        "#         self.fc6 = Linear(256 * 4 * 4, 4096,bias=True)\n",
        "#         self.relu6 = alexNet.classifier[2]\n",
        "#         self.drop6 = alexNet.classifier[0]\n",
        "#         self.fc7 = Linear(4096,2048,bias=True)\n",
        "#         self.relu7 = alexNet.classifier[2]\n",
        "#         self.drop7 = alexNet.classifier[0]\n",
        "#         self.fc8 = Linear(2048,1024,bias=True)\n",
        "#         self.relu8 = alexNet.classifier[2]\n",
        "#         self.drop8 = alexNet.classifier[0]\n",
        "#         self.fc9 = Linear(1024,2,True)\n",
        "#         # self.cl = Softmax(dim = -1) #error\n",
        "#         self.layers = [self.conv2d1,self.relu1,self.pool1,\n",
        "#                        self.conv2d2,self.relu2,self.pool2,\n",
        "#                        self.conv2d3,self.relu3,\n",
        "#                        self.conv2d4,self.relu4,\n",
        "#                        self.conv2d5,self.relu5,self.pool5,\n",
        "#                        self.fc6,self.relu6,self.drop6,\n",
        "#                        self.fc7,self.relu7,self.drop7,\n",
        "#                        self.fc8, self.relu8,self.drop8,\n",
        "#                        self.fc9]\n",
        "\n",
        "#     def forward(self, x):\n",
        "#         x = self.pool1(self.relu1(self.conv2d1(x)))\n",
        "#         x = self.pool2(self.relu2(self.conv2d2(x)))\n",
        "#         x = self.relu3(self.conv2d3(x))\n",
        "#         x = self.relu4(self.conv2d4(x))\n",
        "#         x = self.pool5(self.relu5(self.conv2d5(x)))\n",
        "\n",
        "#         x = x.view(-1,256 * 4 * 4)\n",
        "#         x = self.drop6(self.relu6(self.fc6(x)))\n",
        "#         x = self.drop7(self.relu7(self.fc7(x)))\n",
        "#         x = self.drop8(self.relu8(self.fc8(x)))\n",
        "#         x = self.fc9(x)\n",
        "\n",
        "#         x = softmax(x, dim = 1)\n",
        "#         # print(x)\n",
        "#         return x"
      ],
      "execution_count": 35,
      "outputs": []
    },
    {
      "cell_type": "code",
      "metadata": {
        "id": "Cct80MFO9Ic7"
      },
      "source": [
        "net1 = alexNet\n",
        "net1.features[0] = Conv2d(3, 64, 11, stride=3, padding=0)\n",
        "net1.classifier[4].out_features = 2048\n",
        "net1.classifier[6].in_features = 2048\n",
        "net1 = net1.to(device)"
      ],
      "execution_count": 37,
      "outputs": []
    },
    {
      "cell_type": "code",
      "metadata": {
        "colab": {
          "base_uri": "https://localhost:8080/"
        },
        "id": "ych4E1L6A8Yy",
        "outputId": "c78f6d59-9466-4b07-d2d3-6cae40c55d2d"
      },
      "source": [
        "alexNet.eval()"
      ],
      "execution_count": 38,
      "outputs": [
        {
          "output_type": "execute_result",
          "data": {
            "text/plain": [
              "AlexNet(\n",
              "  (features): Sequential(\n",
              "    (0): Conv2d(3, 64, kernel_size=(11, 11), stride=(3, 3))\n",
              "    (1): ReLU(inplace=True)\n",
              "    (2): MaxPool2d(kernel_size=3, stride=2, padding=0, dilation=1, ceil_mode=False)\n",
              "    (3): Conv2d(64, 192, kernel_size=(5, 5), stride=(1, 1), padding=(2, 2))\n",
              "    (4): ReLU(inplace=True)\n",
              "    (5): MaxPool2d(kernel_size=3, stride=2, padding=0, dilation=1, ceil_mode=False)\n",
              "    (6): Conv2d(192, 384, kernel_size=(3, 3), stride=(1, 1), padding=(1, 1))\n",
              "    (7): ReLU(inplace=True)\n",
              "    (8): Conv2d(384, 256, kernel_size=(3, 3), stride=(1, 1), padding=(1, 1))\n",
              "    (9): ReLU(inplace=True)\n",
              "    (10): Conv2d(256, 256, kernel_size=(3, 3), stride=(1, 1), padding=(1, 1))\n",
              "    (11): ReLU(inplace=True)\n",
              "    (12): MaxPool2d(kernel_size=3, stride=2, padding=0, dilation=1, ceil_mode=False)\n",
              "  )\n",
              "  (avgpool): AdaptiveAvgPool2d(output_size=(6, 6))\n",
              "  (classifier): Sequential(\n",
              "    (0): Dropout(p=0.5, inplace=False)\n",
              "    (1): Linear(in_features=9216, out_features=4096, bias=True)\n",
              "    (2): ReLU(inplace=True)\n",
              "    (3): Dropout(p=0.5, inplace=False)\n",
              "    (4): Linear(in_features=4096, out_features=2048, bias=True)\n",
              "    (5): ReLU(inplace=True)\n",
              "    (6): Linear(in_features=2048, out_features=2, bias=True)\n",
              "  )\n",
              ")"
            ]
          },
          "metadata": {},
          "execution_count": 38
        }
      ]
    },
    {
      "cell_type": "code",
      "metadata": {
        "id": "rN_NUyogDZBC",
        "colab": {
          "base_uri": "https://localhost:8080/"
        },
        "outputId": "c61744cd-af22-4368-ff82-f53361764696"
      },
      "source": [
        "# net1 = Net(alexNet).to(device)\n",
        "# net1 = Net(alexNet)\n",
        "net1.eval()"
      ],
      "execution_count": 39,
      "outputs": [
        {
          "output_type": "execute_result",
          "data": {
            "text/plain": [
              "AlexNet(\n",
              "  (features): Sequential(\n",
              "    (0): Conv2d(3, 64, kernel_size=(11, 11), stride=(3, 3))\n",
              "    (1): ReLU(inplace=True)\n",
              "    (2): MaxPool2d(kernel_size=3, stride=2, padding=0, dilation=1, ceil_mode=False)\n",
              "    (3): Conv2d(64, 192, kernel_size=(5, 5), stride=(1, 1), padding=(2, 2))\n",
              "    (4): ReLU(inplace=True)\n",
              "    (5): MaxPool2d(kernel_size=3, stride=2, padding=0, dilation=1, ceil_mode=False)\n",
              "    (6): Conv2d(192, 384, kernel_size=(3, 3), stride=(1, 1), padding=(1, 1))\n",
              "    (7): ReLU(inplace=True)\n",
              "    (8): Conv2d(384, 256, kernel_size=(3, 3), stride=(1, 1), padding=(1, 1))\n",
              "    (9): ReLU(inplace=True)\n",
              "    (10): Conv2d(256, 256, kernel_size=(3, 3), stride=(1, 1), padding=(1, 1))\n",
              "    (11): ReLU(inplace=True)\n",
              "    (12): MaxPool2d(kernel_size=3, stride=2, padding=0, dilation=1, ceil_mode=False)\n",
              "  )\n",
              "  (avgpool): AdaptiveAvgPool2d(output_size=(6, 6))\n",
              "  (classifier): Sequential(\n",
              "    (0): Dropout(p=0.5, inplace=False)\n",
              "    (1): Linear(in_features=9216, out_features=4096, bias=True)\n",
              "    (2): ReLU(inplace=True)\n",
              "    (3): Dropout(p=0.5, inplace=False)\n",
              "    (4): Linear(in_features=4096, out_features=2048, bias=True)\n",
              "    (5): ReLU(inplace=True)\n",
              "    (6): Linear(in_features=2048, out_features=2, bias=True)\n",
              "  )\n",
              ")"
            ]
          },
          "metadata": {},
          "execution_count": 39
        }
      ]
    },
    {
      "cell_type": "code",
      "metadata": {
        "id": "kbbc6uWpLWnK",
        "colab": {
          "base_uri": "https://localhost:8080/"
        },
        "outputId": "8275ce69-a820-485a-ab90-87421051efd0"
      },
      "source": [
        "net1.features"
      ],
      "execution_count": 41,
      "outputs": [
        {
          "output_type": "execute_result",
          "data": {
            "text/plain": [
              "Sequential(\n",
              "  (0): Conv2d(3, 64, kernel_size=(11, 11), stride=(3, 3))\n",
              "  (1): ReLU(inplace=True)\n",
              "  (2): MaxPool2d(kernel_size=3, stride=2, padding=0, dilation=1, ceil_mode=False)\n",
              "  (3): Conv2d(64, 192, kernel_size=(5, 5), stride=(1, 1), padding=(2, 2))\n",
              "  (4): ReLU(inplace=True)\n",
              "  (5): MaxPool2d(kernel_size=3, stride=2, padding=0, dilation=1, ceil_mode=False)\n",
              "  (6): Conv2d(192, 384, kernel_size=(3, 3), stride=(1, 1), padding=(1, 1))\n",
              "  (7): ReLU(inplace=True)\n",
              "  (8): Conv2d(384, 256, kernel_size=(3, 3), stride=(1, 1), padding=(1, 1))\n",
              "  (9): ReLU(inplace=True)\n",
              "  (10): Conv2d(256, 256, kernel_size=(3, 3), stride=(1, 1), padding=(1, 1))\n",
              "  (11): ReLU(inplace=True)\n",
              "  (12): MaxPool2d(kernel_size=3, stride=2, padding=0, dilation=1, ceil_mode=False)\n",
              ")"
            ]
          },
          "metadata": {},
          "execution_count": 41
        }
      ]
    },
    {
      "cell_type": "code",
      "metadata": {
        "id": "tR09Pu4LMLgo"
      },
      "source": [
        "learnRate = .001\n",
        "weight_decay = .1"
      ],
      "execution_count": 42,
      "outputs": []
    },
    {
      "cell_type": "code",
      "metadata": {
        "id": "CLkyFjbdkvzN"
      },
      "source": [
        "opt = SGD(net1.parameters(), lr=0.001, momentum=0.9)\n",
        "\n",
        "opt1 = Adam([\n",
        "                {'params': net1.features[0].weight, 'lr': learnRate * 2},\n",
        "                {'params': net1.features[0].bias, 'lr': learnRate}]\n",
        "                , weight_decay=weight_decay)\n",
        "opt2 = Adam([\n",
        "                {'params': net1.classifier[1].weight, 'lr': learnRate * 2},\n",
        "                {'params': net1.classifier[1].bias, 'lr': learnRate * 2}]\n",
        "                , weight_decay=weight_decay)\n",
        "opt3 = Adam([\n",
        "                {'params': net1.classifier[4].weight, 'lr': learnRate * 2},\n",
        "                {'params': net1.classifier[4].bias, 'lr': learnRate * 2}]\n",
        "                , weight_decay=weight_decay)\n",
        "opt4 = Adam([\n",
        "                {'params': net1.classifier[6].weight, 'lr': learnRate * 2},\n",
        "                {'params': net1.classifier[6].bias, 'lr': learnRate * 2}]\n",
        "                , weight_decay=weight_decay)\n"
      ],
      "execution_count": 44,
      "outputs": []
    },
    {
      "cell_type": "code",
      "metadata": {
        "id": "KkMVvGnJ0BjP",
        "colab": {
          "base_uri": "https://localhost:8080/"
        },
        "outputId": "72b175f8-31f4-4c43-d74d-89c4a2455cfd"
      },
      "source": [
        "torch.cuda.is_available()"
      ],
      "execution_count": 45,
      "outputs": [
        {
          "output_type": "execute_result",
          "data": {
            "text/plain": [
              "True"
            ]
          },
          "metadata": {},
          "execution_count": 45
        }
      ]
    },
    {
      "cell_type": "code",
      "metadata": {
        "id": "cYPF0k6Ek3Le"
      },
      "source": [
        "def train(epoch,epochs, net1,trainLoader,trainAccuracy,trainLoss,opt1,opt2,opt3,opt4,opt,criterion):\n",
        "    running_loss = 0\n",
        "    total, correct = 0, 0\n",
        "    # for data in trainLoader:\n",
        "    for data in tqdm(trainLoader):\n",
        "\n",
        "      inputs, labels = data\n",
        "      inputs = inputs.to(device)\n",
        "      labels = labels.to(device)\n",
        "\n",
        "      # opt1.zero_grad()\n",
        "      # opt2.zero_grad()\n",
        "      # opt3.zero_grad()\n",
        "      # opt4.zero_grad()\n",
        "      opt.zero_grad()\n",
        "\n",
        "      outputs = net1(inputs)\n",
        "      loss = criterion(outputs, labels)\n",
        "      loss.backward(retain_graph=True)\n",
        "\n",
        "      # opt1.step()\n",
        "      # opt2.step()\n",
        "      # opt3.step()\n",
        "      # opt4.step()\n",
        "      opt.step()\n",
        "\n",
        "      running_loss += loss.item() / len(trainLoader)\n",
        "      _, predicted = torch.max(outputs.data, 1)\n",
        "      total += labels.size(0)\n",
        "      correct += predicted.eq(labels).sum().item()\n",
        "\n",
        "    # print(\"weight of first layer is \", net1.layers[0].weight)\n",
        "\n",
        "\n",
        "    accuracy = 100 * correct / total\n",
        "    trainAccuracy.append(accuracy)\n",
        "    trainLoss.append(running_loss)\n",
        "    print(\"\\nTRAIN: Epoch {}/{}, Accuracy: {:.3f}, Loss: {:.3f}\".format(epoch+1,epochs, accuracy, running_loss))\n"
      ],
      "execution_count": 65,
      "outputs": []
    },
    {
      "cell_type": "code",
      "metadata": {
        "id": "huwJA-KRk7Vw"
      },
      "source": [
        "def test(epoch, epochs, net1,testLoader,testAccuracy,testLoss,criterion):    \n",
        "  running_loss = 0\n",
        "  total, correct = 0, 0\n",
        "  with torch.no_grad():\n",
        "    # for data in testLoader:\n",
        "    for data in tqdm(testLoader):\n",
        "      inputs, labels = data\n",
        "      inputs = inputs.to(device)\n",
        "      labels = labels.to(device)\n",
        "\n",
        "      outputs = net1(inputs)\n",
        "      loss = criterion(outputs, labels)\n",
        "      running_loss += loss.item() / len(testLoader)\n",
        "      \n",
        "      _, predicted = torch.max(outputs.data, 1)\n",
        "      total += labels.size(0)\n",
        "      correct += predicted.eq(labels).sum().item()\n",
        "\n",
        "    accuracy = 100 * correct / total\n",
        "    testAccuracy.append(accuracy)\n",
        "    testLoss.append(running_loss)\n",
        "\n",
        "    print(\"\\nTEST: Epoch {}/{}, Accuracy: {:.3f}, Loss: {:.3f}\".format(epoch+1,epochs, accuracy, running_loss))\n"
      ],
      "execution_count": 66,
      "outputs": []
    },
    {
      "cell_type": "code",
      "metadata": {
        "id": "jJOvRJjJY-C-",
        "colab": {
          "base_uri": "https://localhost:8080/"
        },
        "outputId": "1c7af847-ba5f-4f81-aca2-a24058ee62f7"
      },
      "source": [
        "epochs = 10\n",
        "criterion = CrossEntropyLoss()\n",
        "trainAccuracy = []\n",
        "testAccuracy = []\n",
        "trainLoss = []\n",
        "testLoss = []\n",
        "\n",
        "for epoch in range(epochs):  # loop over the dataset multiple times\n",
        "  train(epoch, epochs, net1, trainLoader,trainAccuracy,trainLoss,opt1,opt2,opt3,opt4,opt,criterion)\n",
        "  test(epoch, epochs, net1,testLoader,testAccuracy,testLoss,criterion)"
      ],
      "execution_count": 67,
      "outputs": [
        {
          "output_type": "stream",
          "name": "stderr",
          "text": [
            "100%|██████████| 26/26 [01:00<00:00,  2.32s/it]\n"
          ]
        },
        {
          "output_type": "stream",
          "name": "stdout",
          "text": [
            "\n",
            "TRAIN: Epoch 1/10, Accuracy: 71.766, Loss: 0.645\n"
          ]
        },
        {
          "output_type": "stream",
          "name": "stderr",
          "text": [
            "100%|██████████| 12/12 [00:16<00:00,  1.39s/it]\n"
          ]
        },
        {
          "output_type": "stream",
          "name": "stdout",
          "text": [
            "\n",
            "TEST: Epoch 1/10, Accuracy: 46.494, Loss: 0.861\n"
          ]
        },
        {
          "output_type": "stream",
          "name": "stderr",
          "text": [
            "100%|██████████| 26/26 [00:59<00:00,  2.29s/it]\n"
          ]
        },
        {
          "output_type": "stream",
          "name": "stdout",
          "text": [
            "\n",
            "TRAIN: Epoch 2/10, Accuracy: 71.766, Loss: 0.626\n"
          ]
        },
        {
          "output_type": "stream",
          "name": "stderr",
          "text": [
            "100%|██████████| 12/12 [00:16<00:00,  1.38s/it]\n"
          ]
        },
        {
          "output_type": "stream",
          "name": "stdout",
          "text": [
            "\n",
            "TEST: Epoch 2/10, Accuracy: 46.494, Loss: 0.871\n"
          ]
        },
        {
          "output_type": "stream",
          "name": "stderr",
          "text": [
            "100%|██████████| 26/26 [00:59<00:00,  2.29s/it]\n"
          ]
        },
        {
          "output_type": "stream",
          "name": "stdout",
          "text": [
            "\n",
            "TRAIN: Epoch 3/10, Accuracy: 71.766, Loss: 0.617\n"
          ]
        },
        {
          "output_type": "stream",
          "name": "stderr",
          "text": [
            "100%|██████████| 12/12 [00:16<00:00,  1.39s/it]\n"
          ]
        },
        {
          "output_type": "stream",
          "name": "stdout",
          "text": [
            "\n",
            "TEST: Epoch 3/10, Accuracy: 46.494, Loss: 0.848\n"
          ]
        },
        {
          "output_type": "stream",
          "name": "stderr",
          "text": [
            "100%|██████████| 26/26 [00:59<00:00,  2.29s/it]\n"
          ]
        },
        {
          "output_type": "stream",
          "name": "stdout",
          "text": [
            "\n",
            "TRAIN: Epoch 4/10, Accuracy: 71.766, Loss: 0.613\n"
          ]
        },
        {
          "output_type": "stream",
          "name": "stderr",
          "text": [
            "100%|██████████| 12/12 [00:16<00:00,  1.40s/it]\n"
          ]
        },
        {
          "output_type": "stream",
          "name": "stdout",
          "text": [
            "\n",
            "TEST: Epoch 4/10, Accuracy: 46.494, Loss: 0.858\n"
          ]
        },
        {
          "output_type": "stream",
          "name": "stderr",
          "text": [
            "100%|██████████| 26/26 [00:59<00:00,  2.29s/it]\n"
          ]
        },
        {
          "output_type": "stream",
          "name": "stdout",
          "text": [
            "\n",
            "TRAIN: Epoch 5/10, Accuracy: 71.766, Loss: 0.610\n"
          ]
        },
        {
          "output_type": "stream",
          "name": "stderr",
          "text": [
            "100%|██████████| 12/12 [00:16<00:00,  1.38s/it]\n"
          ]
        },
        {
          "output_type": "stream",
          "name": "stdout",
          "text": [
            "\n",
            "TEST: Epoch 5/10, Accuracy: 46.494, Loss: 0.847\n"
          ]
        },
        {
          "output_type": "stream",
          "name": "stderr",
          "text": [
            "100%|██████████| 26/26 [00:59<00:00,  2.28s/it]\n"
          ]
        },
        {
          "output_type": "stream",
          "name": "stdout",
          "text": [
            "\n",
            "TRAIN: Epoch 6/10, Accuracy: 71.766, Loss: 0.608\n"
          ]
        },
        {
          "output_type": "stream",
          "name": "stderr",
          "text": [
            "100%|██████████| 12/12 [00:16<00:00,  1.37s/it]\n"
          ]
        },
        {
          "output_type": "stream",
          "name": "stdout",
          "text": [
            "\n",
            "TEST: Epoch 6/10, Accuracy: 46.494, Loss: 0.851\n"
          ]
        },
        {
          "output_type": "stream",
          "name": "stderr",
          "text": [
            "100%|██████████| 26/26 [00:59<00:00,  2.28s/it]\n"
          ]
        },
        {
          "output_type": "stream",
          "name": "stdout",
          "text": [
            "\n",
            "TRAIN: Epoch 7/10, Accuracy: 71.766, Loss: 0.606\n"
          ]
        },
        {
          "output_type": "stream",
          "name": "stderr",
          "text": [
            "100%|██████████| 12/12 [00:16<00:00,  1.38s/it]\n"
          ]
        },
        {
          "output_type": "stream",
          "name": "stdout",
          "text": [
            "\n",
            "TEST: Epoch 7/10, Accuracy: 46.494, Loss: 0.815\n"
          ]
        },
        {
          "output_type": "stream",
          "name": "stderr",
          "text": [
            "100%|██████████| 26/26 [00:59<00:00,  2.29s/it]\n"
          ]
        },
        {
          "output_type": "stream",
          "name": "stdout",
          "text": [
            "\n",
            "TRAIN: Epoch 8/10, Accuracy: 71.766, Loss: 0.605\n"
          ]
        },
        {
          "output_type": "stream",
          "name": "stderr",
          "text": [
            "100%|██████████| 12/12 [00:16<00:00,  1.39s/it]\n"
          ]
        },
        {
          "output_type": "stream",
          "name": "stdout",
          "text": [
            "\n",
            "TEST: Epoch 8/10, Accuracy: 46.494, Loss: 0.834\n"
          ]
        },
        {
          "output_type": "stream",
          "name": "stderr",
          "text": [
            "100%|██████████| 26/26 [00:58<00:00,  2.27s/it]\n"
          ]
        },
        {
          "output_type": "stream",
          "name": "stdout",
          "text": [
            "\n",
            "TRAIN: Epoch 9/10, Accuracy: 71.766, Loss: 0.604\n"
          ]
        },
        {
          "output_type": "stream",
          "name": "stderr",
          "text": [
            "100%|██████████| 12/12 [00:16<00:00,  1.38s/it]\n"
          ]
        },
        {
          "output_type": "stream",
          "name": "stdout",
          "text": [
            "\n",
            "TEST: Epoch 9/10, Accuracy: 46.494, Loss: 0.864\n"
          ]
        },
        {
          "output_type": "stream",
          "name": "stderr",
          "text": [
            "100%|██████████| 26/26 [00:59<00:00,  2.30s/it]\n"
          ]
        },
        {
          "output_type": "stream",
          "name": "stdout",
          "text": [
            "\n",
            "TRAIN: Epoch 10/10, Accuracy: 71.766, Loss: 0.603\n"
          ]
        },
        {
          "output_type": "stream",
          "name": "stderr",
          "text": [
            "100%|██████████| 12/12 [00:16<00:00,  1.40s/it]"
          ]
        },
        {
          "output_type": "stream",
          "name": "stdout",
          "text": [
            "\n",
            "TEST: Epoch 10/10, Accuracy: 46.494, Loss: 0.816\n"
          ]
        },
        {
          "output_type": "stream",
          "name": "stderr",
          "text": [
            "\n"
          ]
        }
      ]
    },
    {
      "cell_type": "code",
      "metadata": {
        "id": "kw_NADSe1nkx",
        "colab": {
          "base_uri": "https://localhost:8080/",
          "height": 295
        },
        "outputId": "1850351a-b664-4efc-f4ec-f924a6da935e"
      },
      "source": [
        "plt.plot(trainAccuracy,'-o')\n",
        "plt.plot(testAccuracy,'-o')\n",
        "plt.xlabel('epoch')\n",
        "plt.ylabel('accuracy')\n",
        "plt.legend(['Train','Test'])\n",
        "plt.title('Train vs Test Accuracy')\n",
        " \n",
        "plt.show()"
      ],
      "execution_count": 68,
      "outputs": [
        {
          "output_type": "display_data",
          "data": {
            "image/png": "[encoded data removed]",
            "text/plain": [
              "<Figure size 432x288 with 1 Axes>"
            ]
          },
          "metadata": {
            "needs_background": "light"
          }
        }
      ]
    },
    {
      "cell_type": "code",
      "metadata": {
        "id": "nrEnKTln3daY",
        "colab": {
          "base_uri": "https://localhost:8080/",
          "height": 295
        },
        "outputId": "51161205-40cb-489f-f6a5-05611af0d39c"
      },
      "source": [
        "plt.plot(trainLoss,'-o')\n",
        "plt.plot(testLoss,'-o')\n",
        "plt.xlabel('epoch')\n",
        "plt.ylabel('losses')\n",
        "plt.legend(['Train','Test'])\n",
        "plt.title('Train vs Test Losses')\n",
        " \n",
        "plt.show()"
      ],
      "execution_count": 69,
      "outputs": [
        {
          "output_type": "display_data",
          "data": {
            "image/png": "[encoded data removed]",
            "text/plain": [
              "<Figure size 432x288 with 1 Axes>"
            ]
          },
          "metadata": {
            "needs_background": "light"
          }
        }
      ]
    },
    {
      "cell_type": "code",
      "metadata": {
        "id": "MH5jDbGiMl1b"
      },
      "source": [
        "zzz"
      ],
      "execution_count": null,
      "outputs": []
    },
    {
      "cell_type": "code",
      "metadata": {
        "id": "TJtHJ_5KrcNf"
      },
      "source": [
        "transform = transforms.Compose(\n",
        "    [transforms.ToTensor(),\n",
        "     transforms.Normalize((mean), (1))])"
      ],
      "execution_count": null,
      "outputs": []
    },
    {
      "cell_type": "code",
      "metadata": {
        "id": "EdK-O_4gh0QK"
      },
      "source": [
        "class CustomDataset(Dataset):\n",
        "    def __init__(self, csv_path, images_folder, transform = None):\n",
        "        self.df = read_csv(csv_path)\n",
        "        self.imagesFolder = images_folder\n",
        "        self.transform = transform\n",
        "        self.class2index = {\"male\":0, \"female\":1}\n",
        "\n",
        "    def __len__(self):\n",
        "        return len(self.df)\n",
        "        \n",
        "    def __getitem__(self, index):\n",
        "        filename = self.df[\"imageName\"][index]\n",
        "        label = self.class2index[self.df[\"gender\"][index]]\n",
        "        image = getPartOfMat(loadmat(self.imagesFolder + \"/\" + filename[:-3] + \"mat\"), \"high\")\n",
        "        if self.transform is not None:\n",
        "          image = self.transform(image)\n",
        "        return image, label\n",
        "      \n",
        "    def images(self):\n",
        "      return glob(self.imagesFolder + \"/*.mat\")\n",
        "        "
      ],
      "execution_count": null,
      "outputs": []
    },
    {
      "cell_type": "code",
      "metadata": {
        "id": "jMu7IRXfh0QK"
      },
      "source": [
        "def getMean(outs):\n",
        "  sum = 0\n",
        "  for out in range(len(outs)):\n",
        "    if out % 100 == 0: print(out)\n",
        "    mat = loadmat(outs[out])\n",
        "    image = mat['O'][:,:,3]\n",
        "    sum += image[:,:].mean()\n",
        "  mean = sum / len(outs)\n",
        "  return mean\n",
        "# mean = getMean(outs)\n"
      ],
      "execution_count": null,
      "outputs": []
    },
    {
      "cell_type": "code",
      "metadata": {
        "id": "yavhTVHoh0QL"
      },
      "source": [
        "dataset = CustomDataset(LABEL_PATH, OUT_PATH, transform)\n",
        "img, label = dataset[100]\n",
        "img.shape"
      ],
      "execution_count": null,
      "outputs": []
    },
    {
      "cell_type": "code",
      "metadata": {
        "id": "H6tz8o70h0QL"
      },
      "source": [
        "batch_size = 80\n",
        "validation_split = 0.7\n",
        "shuffle_dataset = True\n",
        "dataset_size = len(dataset)\n",
        "split = int(np.floor(validation_split * dataset_size))\n",
        "indices = list(range(dataset_size))\n",
        "\n",
        "train_indices, test_indices = indices[:split], indices[split:]\n",
        "\n",
        "train_sampler = SubsetRandomSampler(train_indices)\n",
        "test_sampler = SubsetRandomSampler(test_indices)\n",
        "\n",
        "trainLoader = DataLoader(dataset, batch_size=batch_size, sampler=train_sampler)\n",
        "testLoader = DataLoader(dataset, batch_size=batch_size, sampler=test_sampler)"
      ],
      "execution_count": null,
      "outputs": []
    },
    {
      "cell_type": "code",
      "metadata": {
        "id": "bQWOaJe6h0QL"
      },
      "source": [
        "len(trainLoader)"
      ],
      "execution_count": null,
      "outputs": []
    },
    {
      "cell_type": "code",
      "metadata": {
        "id": "w0MsUV9mh0QL"
      },
      "source": [
        "len(testLoader)"
      ],
      "execution_count": null,
      "outputs": []
    },
    {
      "cell_type": "code",
      "metadata": {
        "id": "bkdeTxq0h0QM"
      },
      "source": [
        "class Net(nn.Module):\n",
        "    def __init__(self, alexNet):\n",
        "        super(Net, self).__init__()\n",
        "        self.conv2d1 = Conv2d(1, 64, 11, stride=3, padding=0)\n",
        "        self.relu1 = alexNet.features[1]\n",
        "        self.pool1 = alexNet.features[2]\n",
        "        self.conv2d2 = alexNet.features[3]\n",
        "        self.relu2 = alexNet.features[4]\n",
        "        self.pool2 = alexNet.features[5]\n",
        "        self.conv2d3 = alexNet.features[6]\n",
        "        self.relu3 = alexNet.features[7]\n",
        "        self.conv2d4 = alexNet.features[8]\n",
        "        self.relu4 = alexNet.features[9]\n",
        "        self.conv2d5 = Conv2d(256, 256, 11, stride=1, padding=1)\n",
        "        self.relu5 = alexNet.features[11]\n",
        "        self.pool5 = alexNet.features[12]\n",
        "        self.fc6 = Linear(256 * 4 * 4, 4096,bias=True)\n",
        "        self.relu6 = alexNet.classifier[2]\n",
        "        self.drop6 = alexNet.classifier[0]\n",
        "        self.fc7 = Linear(4096,4096,bias=True)\n",
        "        self.relu7 = alexNet.classifier[2]\n",
        "        self.drop7 = alexNet.classifier[0]\n",
        "        self.fc8 = Linear(4096,2048,bias=True)\n",
        "        self.relu8 = alexNet.classifier[2]\n",
        "        self.drop8 = alexNet.classifier[0]\n",
        "        self.fc9 = Linear(2048,2048,True)\n",
        "        self.relu9 = alexNet.classifier[2]\n",
        "        self.drop9 = alexNet.classifier[0]\n",
        "        self.fc9_ = Linear(2048, 2, True)\n",
        "        \n",
        "        self.layers = [self.conv2d1,self.relu1,self.pool1,\n",
        "                       self.conv2d2,self.relu2,self.pool2,\n",
        "                       self.conv2d3,self.relu3,\n",
        "                       self.conv2d4,self.relu4,\n",
        "                       self.conv2d5,self.relu5,self.pool5,\n",
        "                       self.fc6,self.relu6,self.drop6,\n",
        "                       self.fc7,self.relu7,self.drop7,\n",
        "                       self.fc8,self.relu8,self.drop8,\n",
        "                       self.fc9,self.relu9,self.drop9,self.fc9_]\n",
        "\n",
        "    def forward(self, x):\n",
        "        x = self.pool1(self.relu1(self.conv2d1(x)))\n",
        "        x = self.pool2(self.relu2(self.conv2d2(x)))\n",
        "        x = self.relu3(self.conv2d3(x))\n",
        "        x = self.relu4(self.conv2d4(x))\n",
        "        x = self.pool5(self.relu5(self.conv2d5(x)))\n",
        "        x = x.view(-1,256 * 4 * 4)\n",
        "        x = self.drop6(self.relu6(self.fc6(x)))\n",
        "        x = self.drop7(self.relu7(self.fc7(x)))\n",
        "        x = self.drop8(self.relu8(self.fc8(x)))\n",
        "        x = self.drop9(self.relu9(self.fc9(x)))\n",
        "        x = self.fc9_(x)\n",
        "        x = softmax(x, dim = 1)\n",
        "        return x"
      ],
      "execution_count": null,
      "outputs": []
    },
    {
      "cell_type": "code",
      "metadata": {
        "id": "29IlA1h4DGcc"
      },
      "source": [
        "learnRate = .01"
      ],
      "execution_count": null,
      "outputs": []
    },
    {
      "cell_type": "code",
      "metadata": {
        "id": "cMnm7l_iDOUh"
      },
      "source": [
        "net2 = Net(alexNet).to(device)\n",
        "net2"
      ],
      "execution_count": null,
      "outputs": []
    },
    {
      "cell_type": "code",
      "metadata": {
        "id": "SuaUPp9gh0QM"
      },
      "source": [
        "opt1 = Adam([\n",
        "                {'params': net2.conv2d1.weight, 'lr': learnRate},\n",
        "                {'params': net2.conv2d1.bias, 'lr': learnRate}]\n",
        "                , weight_decay=0.8)\n",
        "opt2 = Adam([\n",
        "                {'params': net2.fc6.weight, 'lr': learnRate * 2},\n",
        "                {'params': net2.fc6.bias, 'lr': learnRate * 2}]\n",
        "                , weight_decay=0.8)\n",
        "opt3 = Adam([\n",
        "                {'params': net2.fc7.weight, 'lr': learnRate * 2},\n",
        "                {'params': net2.fc7.bias, 'lr': learnRate * 2}]\n",
        "                , weight_decay=0.8)\n",
        "opt4 = Adam([\n",
        "                {'params': net2.fc8.weight, 'lr': learnRate * 2},\n",
        "                {'params': net2.fc8.bias, 'lr': learnRate * 2}]\n",
        "                , weight_decay=0.8)\n",
        "opt5 = Adam([\n",
        "                {'params': net2.fc9.weight, 'lr': learnRate * 2},\n",
        "                {'params': net2.fc9.bias, 'lr': learnRate * 2}]\n",
        "                , weight_decay=0.8)\n",
        "\n",
        "opt6 = Adam([\n",
        "                {'params': net2.fc9_.weight, 'lr': learnRate * 2},\n",
        "                {'params': net2.fc9_.bias, 'lr': learnRate * 2}]\n",
        "                , weight_decay=0.8)\n",
        "\n",
        "opt = SGD(net2.parameters(), lr=0.0001)"
      ],
      "execution_count": null,
      "outputs": []
    },
    {
      "cell_type": "code",
      "metadata": {
        "id": "6X67hqjwBcFz"
      },
      "source": [
        "criterion = CrossEntropyLoss()\n",
        "trainAccuracy = []\n",
        "testAccuracy = []\n",
        "trainLoss = []\n",
        "testLoss = []"
      ],
      "execution_count": null,
      "outputs": []
    },
    {
      "cell_type": "code",
      "metadata": {
        "id": "LBIfoIwkCgp5"
      },
      "source": [
        "def train(epoch, epochs, net2, trainLoader,trainAccuracy,trainLoss,opt1,opt2,opt3,opt4,opt5,opt6,opt,criterion)\n",
        "    running_loss = 0\n",
        "    total, correct = 0, 0\n",
        "    for data in trainLoader:\n",
        "    # for data in tqdm(trainLoader):\n",
        "      inputs, labels = data\n",
        "      inputs = inputs.to(device)\n",
        "      labels = labels.to(device)\n",
        "\n",
        "      opt1.zero_grad()\n",
        "      opt2.zero_grad()\n",
        "      opt3.zero_grad()\n",
        "      opt4.zero_grad()\n",
        "      opt5.zero_grad()\n",
        "      opt6.zero_grad()\n",
        "      opt.zero_grad()\n",
        "\n",
        "      outputs = net2(inputs)\n",
        "      loss = criterion(outputs, labels)\n",
        "      loss.backward()\n",
        "\n",
        "      opt1.step()\n",
        "      opt2.step()\n",
        "      opt3.step()\n",
        "      opt4.step()\n",
        "      opt5.step()\n",
        "      opt6.step()\n",
        "      opt.step()\n",
        "\n",
        "      running_loss += loss.item()\n",
        "      _, predicted = torch.max(outputs.data, 1)\n",
        "      total += labels.size(0)\n",
        "      correct += predicted.eq(labels).sum().item()\n",
        "\n",
        "    accuracy = 100 * correct / total\n",
        "    loss = running_loss / len(trainLoader)\n",
        "    trainAccuracy.append(accuracy)\n",
        "    trainLoss.append(loss)\n",
        "\n",
        "    print(\"\\nTRAIN: Epoch {}/{}, Accuracy: {:.3f}\".format(epoch+1,epochs, 100 * correct/total))\n"
      ],
      "execution_count": null,
      "outputs": []
    },
    {
      "cell_type": "code",
      "metadata": {
        "id": "wHndpIPaCnPA"
      },
      "source": [
        "def test(epoch, epochs, net2,testLoader,testAccuracy,testLoss,criterion):    \n",
        "  running_loss = 0\n",
        "  total, correct = 0, 0\n",
        "  with torch.no_grad():\n",
        "    for data in testLoader:\n",
        "    # for data in tqdm(testLoader):\n",
        "      inputs, labels = data\n",
        "      inputs = inputs.to(device)\n",
        "      labels = labels.to(device)\n",
        "\n",
        "      outputs = net2(inputs)\n",
        "      loss = criterion(outputs, labels)\n",
        "      running_loss += loss.item()\n",
        "      \n",
        "      _, predicted = torch.max(outputs.data, 1)\n",
        "      total += labels.size(0)\n",
        "      correct += predicted.eq(labels).sum().item()\n",
        "\n",
        "    accuracy = 100 * correct / total\n",
        "    loss = running_loss / len(testLoader)\n",
        "    testAccuracy.append(accuracy)\n",
        "    testLoss.append(loss)\n",
        "\n",
        "    print(\"\\nTEST: Epoch {}/{}, Accuracy: {:.3f}, Loss: {:.3f}\".format(epoch+1,epochs, accuracy,loss))\n"
      ],
      "execution_count": null,
      "outputs": []
    },
    {
      "cell_type": "code",
      "metadata": {
        "id": "Qgi6x_fPh0QN"
      },
      "source": [
        "for epoch in tqdm(range(epochs)):  # loop over the dataset multiple times\n",
        "  train(epoch, epochs, net2, trainLoader,trainAccuracy,trainLoss,opt1,opt2,opt3,opt4,opt5,opt6,opt,criterion)\n",
        "  test(epoch, epochs, net2,testLoader,testAccuracy,testLoss,criterion)  "
      ],
      "execution_count": null,
      "outputs": []
    },
    {
      "cell_type": "code",
      "metadata": {
        "id": "lJfJ0yD0M35W"
      },
      "source": [
        "plt.plot(trainAccuracy,'-o')\n",
        "plt.plot(testAccuracy,'-o')\n",
        "plt.xlabel('epoch')\n",
        "plt.ylabel('accuracy')\n",
        "plt.legend(['Train','Test'])\n",
        "plt.title('Train vs Test Accuracy')\n",
        " \n",
        "plt.show()"
      ],
      "execution_count": null,
      "outputs": []
    },
    {
      "cell_type": "code",
      "metadata": {
        "id": "DXMOxvTmM35W"
      },
      "source": [
        "plt.plot(trainLoss,'-o')\n",
        "plt.plot(testLoss,'-o')\n",
        "plt.xlabel('epoch')\n",
        "plt.ylabel('losses')\n",
        "plt.legend(['Train','Test'])\n",
        "plt.title('Train vs Valid Losses')\n",
        " \n",
        "plt.show()"
      ],
      "execution_count": null,
      "outputs": []
    },
    {
      "cell_type": "code",
      "metadata": {
        "id": "fxyCKIGR5PPQ"
      },
      "source": [
        "zzz"
      ],
      "execution_count": null,
      "outputs": []
    },
    {
      "cell_type": "code",
      "metadata": {
        "id": "kyZXEFKF4HXQ"
      },
      "source": [
        "transform = transforms.Compose(\n",
        "    [transforms.ToTensor(),\n",
        "     transforms.Normalize((mean1, mean2, mean3, mean), (1, 1, 1, 1))])"
      ],
      "execution_count": null,
      "outputs": []
    },
    {
      "cell_type": "code",
      "metadata": {
        "id": "70zUHMxT5AG_"
      },
      "source": [
        "class CustomDataset(Dataset):\n",
        "    def __init__(self, csv_path, images_folder, transform = None):\n",
        "        self.df = read_csv(csv_path)\n",
        "        self.imagesFolder = images_folder\n",
        "        self.transform = transform\n",
        "        self.class2index = {\"male\":0, \"female\":1}\n",
        "\n",
        "    def __len__(self):\n",
        "        return len(self.df)\n",
        "        \n",
        "    def __getitem__(self, index):\n",
        "        filename = self.df[\"imageName\"][index]\n",
        "        label = self.class2index[self.df[\"gender\"][index]]\n",
        "        image = getPartOfMat(loadmat(self.imagesFolder + \"/\" + filename[:-3] + \"mat\"), \"normal\")\n",
        "        if self.transform is not None:\n",
        "          image = self.transform(image)\n",
        "        return image, label\n",
        "      \n",
        "    def images(self):\n",
        "      return glob(self.imagesFolder + \"/*.mat\")\n",
        "        "
      ],
      "execution_count": null,
      "outputs": []
    },
    {
      "cell_type": "code",
      "metadata": {
        "id": "53WGVUJR5AG_"
      },
      "source": [
        "dataset = CustomDataset(LABEL_PATH, OUT_PATH, transform)\n",
        "img, label = dataset[100]\n",
        "img.shape"
      ],
      "execution_count": null,
      "outputs": []
    },
    {
      "cell_type": "code",
      "metadata": {
        "id": "h9njkyqS5AHA"
      },
      "source": [
        "epochs = 20\n",
        "batch_size = 80\n",
        "validation_split = 0.7\n",
        "shuffle_dataset = True\n",
        "dataset_size = len(dataset)\n",
        "split = int(np.floor(validation_split * dataset_size))\n",
        "indices = list(range(dataset_size))\n",
        "\n",
        "train_indices, test_indices = indices[:split], indices[split:]\n",
        "\n",
        "train_sampler = SubsetRandomSampler(train_indices)\n",
        "test_sampler = SubsetRandomSampler(test_indices)\n",
        "\n",
        "trainLoader = DataLoader(dataset, batch_size=batch_size, sampler=train_sampler)\n",
        "testLoader = DataLoader(dataset, batch_size=batch_size, sampler=test_sampler)"
      ],
      "execution_count": null,
      "outputs": []
    },
    {
      "cell_type": "code",
      "metadata": {
        "id": "BxKeZEYr5AHA"
      },
      "source": [
        "len(trainLoader)"
      ],
      "execution_count": null,
      "outputs": []
    },
    {
      "cell_type": "code",
      "metadata": {
        "id": "ZNwvU8Po5AHA"
      },
      "source": [
        "len(testLoader)"
      ],
      "execution_count": null,
      "outputs": []
    },
    {
      "cell_type": "code",
      "metadata": {
        "id": "J414_bOt5AHA"
      },
      "source": [
        "class Net(nn.Module):\n",
        "    def __init__(self,alexNet, net1, net2):\n",
        "        super(Net, self).__init__()\n",
        "        self.skipConv1 = Conv2d(4, 64, 11, stride=3, padding=2)\n",
        "        self.skipConv2 = Conv2d(4, 64, 11, stride=3, padding=2)\n",
        "        self.relu1 = net1.layers[1]\n",
        "        self.pool1 = net1.layers[2]\n",
        "        self.conv2d2 = net1.layers[3]\n",
        "        self.relu2 = net1.layers[4]\n",
        "        self.pool2 = net1.layers[5]\n",
        "        self.conv2d3 = net1.layers[6]\n",
        "        self.relu3 = net1.layers[7]\n",
        "        self.conv2d4 = net1.layers[8]\n",
        "        self.relu4 = net1.layers[9]\n",
        "        self.conv2d5 = net1.layers[10]\n",
        "        self.relu5 = net1.layers[11]\n",
        "        self.pool5 = net1.layers[12]\n",
        "        self.fc6 = net1.layers[13]\n",
        "        self.relu6 = alexNet.classifier[2]\n",
        "        self.drop6 = alexNet.classifier[0]\n",
        "        self.fc7 = Linear(4096,4096,bias=True)\n",
        "        self.relu7 = alexNet.classifier[2]\n",
        "        self.drop7 = alexNet.classifier[0]\n",
        "        self.fc8 = Linear(4096,2048,bias=True)\n",
        "        self.relu8 = alexNet.classifier[2]\n",
        "        self.drop8 = alexNet.classifier[0]\n",
        "        self.fc9 = Linear(2048,2,True)\n",
        "        #\n",
        "        \n",
        "        self.relu9 = alexNet.classifier[2]\n",
        "        self.drop9 = alexNet.classifier[0]\n",
        "        # self.cl = Softmax(dim = -1) #error\n",
        "\n",
        "    def forward(self, x):\n",
        "        x = self.pool1(self.relu1(self.conv2d1(x)))\n",
        "        x = self.pool2(self.relu2(self.conv2d2(x)))\n",
        "        x = self.relu3(self.conv2d3(x))\n",
        "        x = self.relu4(self.conv2d4(x))\n",
        "        x = self.pool5(self.relu5(self.conv2d5(x)))\n",
        "\n",
        "        x = x.view(-1,256 * 4 * 4)\n",
        "        x = self.drop6(self.relu6(self.fc6(x)))\n",
        "        x = self.drop7(self.relu7(self.fc7(x)))\n",
        "        x = self.drop8(self.relu8(self.fc8(x)))\n",
        "        x = self.drop9(self.relu9(self.fc9(x)))\n",
        "\n",
        "        x = softmax(x, dim = 1)\n",
        "        # print(x)\n",
        "        return x"
      ],
      "execution_count": null,
      "outputs": []
    },
    {
      "cell_type": "code",
      "metadata": {
        "id": "UVQ6rNvi5AHA"
      },
      "source": [
        "twoStream = Net(alexNet).to(device)\n",
        "opt1 = Adam([\n",
        "                {'params': net1.skipConv1.weight, 'lr': 0},\n",
        "                {'params': net1.skipConv1.bias, 'lr': 0}]\n",
        "                , weight_decay=1)\n",
        "opt2 = Adam([\n",
        "                {'params': net1.skipConv2.weight, 'lr': 0},\n",
        "                {'params': net1.skipConv2.bias, 'lr': 0}]\n",
        "                , weight_decay=1)\n",
        "# opt2 = Adam([\n",
        "#                 {'params': net1.fc6.weight, 'lr': 20 * 2},\n",
        "#                 {'params': net1.fc6.bias, 'lr': 20 * 2}]\n",
        "#                 , weight_decay=0.8)\n",
        "# opt3 = Adam([\n",
        "#                 {'params': net1.fc7.weight, 'lr': 20 * 2},\n",
        "#                 {'params': net1.fc7.bias, 'lr': 20 * 2}]\n",
        "#                 , weight_decay=0.8)\n",
        "# opt4 = Adam([\n",
        "#                 {'params': net1.fc8.weight, 'lr': 20 * 2},\n",
        "#                 {'params': net1.fc8.bias, 'lr': 20 * 2}]\n",
        "#                 , weight_decay=0.8)\n",
        "# opt5 = Adam([\n",
        "#                 {'params': net1.fc9.weight, 'lr': 20 * 2},\n",
        "#                 {'params': net1.fc9.bias, 'lr': 20 * 2}]\n",
        "#                 , weight_decay=0.8)\n",
        "\n",
        "# opt = SGD(net1.parameters(), lr=0.0001)\n"
      ],
      "execution_count": null,
      "outputs": []
    },
    {
      "cell_type": "code",
      "metadata": {
        "id": "N774j-r_5AHB"
      },
      "source": [
        "twoStream"
      ],
      "execution_count": null,
      "outputs": []
    },
    {
      "cell_type": "code",
      "metadata": {
        "id": "wsJ_90-75AHB"
      },
      "source": [
        "criterion = CrossEntropyLoss()\n",
        "trainAccuracy = []\n",
        "testAccuracy = []\n",
        "trainLoss = []\n",
        "testLoss = []"
      ],
      "execution_count": null,
      "outputs": []
    },
    {
      "cell_type": "code",
      "metadata": {
        "id": "riZD8vTe5AHB"
      },
      "source": [
        "for epoch in tqdm(range(epochs)):  # loop over the dataset multiple times\n",
        "    running_loss = 0\n",
        "    total, correct = 0, 0\n",
        "    for data in trainLoader:\n",
        "      inputs, labels = data\n",
        "      inputs = inputs.to(device)\n",
        "      labels = labels.to(device)\n",
        "\n",
        "      opt1.zero_grad()\n",
        "      opt2.zero_grad()\n",
        "      opt3.zero_grad()\n",
        "      opt4.zero_grad()\n",
        "      opt5.zero_grad()\n",
        "      opt.zero_grad()\n",
        "\n",
        "      outputs = net1(inputs)\n",
        "      loss = criterion(outputs, labels)\n",
        "      loss.backward()\n",
        "\n",
        "      opt1.step()\n",
        "      opt2.step()\n",
        "      opt3.step()\n",
        "      opt4.step()\n",
        "      opt5.step()\n",
        "      opt.step()\n",
        "\n",
        "      running_loss += loss.item()\n",
        "      _, predicted = torch.max(outputs.data, 1)\n",
        "      total += labels.size(0)\n",
        "      correct += predicted.eq(labels).sum().item()\n",
        "\n",
        "    accuracy = 100 * correct / total\n",
        "    loss = running_loss / len(trainLoader)\n",
        "    trainAccuracy.append(accuracy)\n",
        "    trainLoss.append(loss)\n",
        "    print(\"\\nEpoch {}/{}, Accuracy: {:.3f}, Loss: {:.3f}\".format(epoch+1,epochs, accuracy,loss))\n",
        "\n",
        "print('Finished Training')"
      ],
      "execution_count": null,
      "outputs": []
    },
    {
      "cell_type": "code",
      "metadata": {
        "id": "VqtAME1Y5AHB"
      },
      "source": [
        "for epoch in tqdm(range(epochs)):  # loop over the dataset multiple times\n",
        "    running_loss = 0\n",
        "    total, correct = 0, 0\n",
        "    with torch.no_grad():\n",
        "      for data in testLoader:\n",
        "        inputs, labels = data\n",
        "        inputs = inputs.to(device)\n",
        "        labels = labels.to(device)\n",
        "\n",
        "        outputs = net1(inputs)\n",
        "        loss = criterion(outputs, labels)\n",
        "        running_loss+=loss.item()\n",
        "        \n",
        "        _, predicted = torch.max(outputs.data, 1)\n",
        "        total += labels.size(0)\n",
        "        correct += predicted.eq(labels).sum().item()\n",
        "\n",
        "      accuracy = 100 * correct / total\n",
        "      loss = running_loss / len(testLoader)\n",
        "      testAccuracy.append(accuracy)\n",
        "      testLoss.append(loss)\n",
        "\n",
        "      print(\"\\nEpoch {}/{}, Accuracy: {:.3f}, Loss: {:.3f}\".format(epoch+1,num_epochs, accuracy,loss))\n",
        "\n",
        "print('Finished Testing')"
      ],
      "execution_count": null,
      "outputs": []
    },
    {
      "cell_type": "code",
      "metadata": {
        "id": "tKx2tgUo5AHB"
      },
      "source": [
        "plt.plot(trainAccuracy,'-o')\n",
        "plt.plot(testAccuracy,'-o')\n",
        "plt.xlabel('epoch')\n",
        "plt.ylabel('accuracy')\n",
        "plt.legend(['Train','Test'])\n",
        "plt.title('Train vs Test Accuracy')\n",
        " \n",
        "plt.show()"
      ],
      "execution_count": null,
      "outputs": []
    },
    {
      "cell_type": "code",
      "metadata": {
        "id": "kL9os0hP5AHC"
      },
      "source": [
        "plt.plot(trainLoss,'-o')\n",
        "plt.plot(testLoss,'-o')\n",
        "plt.xlabel('epoch')\n",
        "plt.ylabel('losses')\n",
        "plt.legend(['Train','Test'])\n",
        "plt.title('Train vs Valid Losses')\n",
        " \n",
        "plt.show()"
      ],
      "execution_count": null,
      "outputs": []
    }
  ]
}