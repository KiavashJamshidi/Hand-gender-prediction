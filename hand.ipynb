{
  "nbformat": 4,
  "nbformat_minor": 0,
  "metadata": {
    "colab": {
      "name": "hand.ipynb",
      "provenance": [],
      "collapsed_sections": [],
      "mount_file_id": "1zRPZ8I9gSxIBoIoG7kmOopuHHiQvNFgr",
      "authorship_tag": "ABX9TyNLDdqTBhQs2RQGz8DOPkh1",
      "include_colab_link": true
    },
    "kernelspec": {
      "display_name": "Python 3",
      "name": "python3"
    },
    "language_info": {
      "name": "python"
    },
    "accelerator": "GPU"
  },
  "cells": [
    {
      "cell_type": "markdown",
      "metadata": {
        "id": "view-in-github",
        "colab_type": "text"
      },
      "source": [
        "<a href=\"https://colab.research.google.com/github/KiavashJamshidi/Hand-gender-prediction/blob/main/hand.ipynb\" target=\"_parent\"><img src=\"https://colab.research.google.com/assets/colab-badge.svg\" alt=\"Open In Colab\"/></a>"
      ]
    },
    {
      "cell_type": "code",
      "metadata": {
        "id": "IjFKr4ejT6NT"
      },
      "source": [
        "import os\n",
        "import torch\n",
        "import torchvision\n",
        "import numpy as np\n",
        "import pandas as pd\n",
        "from copy import copy\n",
        "import torch.nn as nn\n",
        "import torch.optim as optim\n",
        "import matplotlib.pyplot as plt\n",
        "from torch import nn\n",
        "from tqdm import tqdm\n",
        "from glob import glob\n",
        "from pandas import read_csv\n",
        "from scipy.io import loadmat\n",
        "from google.colab import drive\n",
        "from torch.optim import Adam, SGD\n",
        "from torch.autograd import Variable\n",
        "from torchvision.models import alexnet\n",
        "from torch.nn.functional import softmax\n",
        "from torchvision import datasets, transforms\n",
        "from torch.utils.data import DataLoader, Dataset\n",
        "from torchvision.utils import make_grid, save_image\n",
        "from torch.utils.data.sampler import SubsetRandomSampler\n",
        "from torch.nn import ReLU, Linear, Conv2d, Softmax, CrossEntropyLoss"
      ],
      "execution_count": 38,
      "outputs": []
    },
    {
      "cell_type": "code",
      "metadata": {
        "id": "4xfMpQH7pICj"
      },
      "source": [
        "IMG_PATH = \"/content/drive/MyDrive/Hands/\"\n",
        "LABEL_PATH = \"/content/drive/MyDrive/HandInfo.csv\"\n",
        "OUT_PATH =  \"/content/drive/MyDrive/Outs/\""
      ],
      "execution_count": 39,
      "outputs": []
    },
    {
      "cell_type": "code",
      "metadata": {
        "id": "yMde62HhHgb5"
      },
      "source": [
        "mean1, mean2, mean3 = 240.45/255, 229.64/255, 223.24/255 #low\n",
        "mean = 245.56/255 #high"
      ],
      "execution_count": 40,
      "outputs": []
    },
    {
      "cell_type": "code",
      "metadata": {
        "id": "vitp_NYck7xM"
      },
      "source": [
        "std1, std2, std3 = 32.38/255, 48.41/255, 58.85/255 #low\n",
        "std = 28.11/255 #high"
      ],
      "execution_count": 41,
      "outputs": []
    },
    {
      "cell_type": "code",
      "metadata": {
        "id": "EZ3Op6CY-WrS"
      },
      "source": [
        "device = torch.device(\"cuda:0\")"
      ],
      "execution_count": 42,
      "outputs": []
    },
    {
      "cell_type": "code",
      "metadata": {
        "id": "WHzqyNHbJDLe"
      },
      "source": [
        "def getPartOfMat(mat,status):\n",
        "  if status == 'low':\n",
        "    return mat['O'][:,:,:3]\n",
        "  elif status == 'high':\n",
        "    return mat['O'][:,:,3]\n",
        "  elif status == \"normal\":\n",
        "    return mat['O']"
      ],
      "execution_count": 43,
      "outputs": []
    },
    {
      "cell_type": "code",
      "metadata": {
        "id": "UYIUinRRWsO-"
      },
      "source": [
        "images = glob(IMG_PATH + '*.jpg')"
      ],
      "execution_count": 44,
      "outputs": []
    },
    {
      "cell_type": "code",
      "metadata": {
        "id": "IBszix0w_3w5"
      },
      "source": [
        "images.sort()"
      ],
      "execution_count": 45,
      "outputs": []
    },
    {
      "cell_type": "code",
      "metadata": {
        "colab": {
          "base_uri": "https://localhost:8080/"
        },
        "id": "Tf41ETGMz9oj",
        "outputId": "a0e5b652-edeb-4a4b-9bbf-8adc2f2ea1e4"
      },
      "source": [
        "print(len(images))"
      ],
      "execution_count": 46,
      "outputs": [
        {
          "output_type": "stream",
          "name": "stdout",
          "text": [
            "11076\n"
          ]
        }
      ]
    },
    {
      "cell_type": "code",
      "metadata": {
        "id": "1km6D-F60DIJ"
      },
      "source": [
        "details = read_csv(LABEL_PATH)"
      ],
      "execution_count": 47,
      "outputs": []
    },
    {
      "cell_type": "code",
      "metadata": {
        "colab": {
          "base_uri": "https://localhost:8080/"
        },
        "id": "H59151Yz2MRW",
        "outputId": "43e77d6a-35c1-4239-d8f2-d5d62b08d573"
      },
      "source": [
        "print(details)"
      ],
      "execution_count": 48,
      "outputs": [
        {
          "output_type": "stream",
          "name": "stdout",
          "text": [
            "         id  age  gender  ...  aspectOfHand         imageName  irregularities\n",
            "0         0   27    male  ...  dorsal right  Hand_0000002.jpg               0\n",
            "1         0   27    male  ...  dorsal right  Hand_0000003.jpg               0\n",
            "2         0   27    male  ...  dorsal right  Hand_0000004.jpg               0\n",
            "3         0   27    male  ...  dorsal right  Hand_0000005.jpg               0\n",
            "4         0   27    male  ...  dorsal right  Hand_0000006.jpg               0\n",
            "...     ...  ...     ...  ...           ...               ...             ...\n",
            "11071  1589   22  female  ...   palmar left  Hand_0011740.jpg               0\n",
            "11072  1589   22  female  ...   palmar left  Hand_0011741.jpg               0\n",
            "11073  1589   22  female  ...   palmar left  Hand_0011742.jpg               0\n",
            "11074  1589   22  female  ...   palmar left  Hand_0011743.jpg               0\n",
            "11075  1589   22  female  ...   palmar left  Hand_0011744.jpg               0\n",
            "\n",
            "[11076 rows x 9 columns]\n"
          ]
        }
      ]
    },
    {
      "cell_type": "code",
      "metadata": {
        "colab": {
          "base_uri": "https://localhost:8080/",
          "height": 1000
        },
        "id": "FqvFEHvMYCgL",
        "outputId": "f64791d3-f6fa-44a7-e52d-046611353393"
      },
      "source": [
        "for col in details.columns:\n",
        "  if col == \"id\" or col == \"imageName\" or col == \"age\": continue\n",
        "  types = {}\n",
        "  for row in details[col]:\n",
        "    if row in types:\n",
        "      types[row] += 1\n",
        "      continue\n",
        "    else:\n",
        "      types[row] = 0\n",
        "  plt.bar(range(len(types)), list(types.values()), tick_label=list(types.keys()), color = 'purple')\n",
        "  plt.title(\"Information of \" + col + \"s\")\n",
        "  plt.xlabel(col.capitalize() + \"s\")\n",
        "  plt.ylabel('Number')\n",
        "  plt.show()"
      ],
      "execution_count": 49,
      "outputs": [
        {
          "output_type": "display_data",
          "data": {
            "image/png": "[encoded data removed]",
            "text/plain": [
              "<Figure size 432x288 with 1 Axes>"
            ]
          },
          "metadata": {
            "needs_background": "light"
          }
        },
        {
          "output_type": "display_data",
          "data": {
            "image/png": "[encoded data removed]",
            "text/plain": [
              "<Figure size 432x288 with 1 Axes>"
            ]
          },
          "metadata": {
            "needs_background": "light"
          }
        },
        {
          "output_type": "display_data",
          "data": {
            "image/png": "[encoded data removed]",
            "text/plain": [
              "<Figure size 432x288 with 1 Axes>"
            ]
          },
          "metadata": {
            "needs_background": "light"
          }
        },
        {
          "output_type": "display_data",
          "data": {
            "image/png": "[encoded data removed]",
            "text/plain": [
              "<Figure size 432x288 with 1 Axes>"
            ]
          },
          "metadata": {
            "needs_background": "light"
          }
        },
        {
          "output_type": "display_data",
          "data": {
            "image/png": "[encoded data removed]",
            "text/plain": [
              "<Figure size 432x288 with 1 Axes>"
            ]
          },
          "metadata": {
            "needs_background": "light"
          }
        },
        {
          "output_type": "display_data",
          "data": {
            "image/png": "[encoded data removed]",
            "text/plain": [
              "<Figure size 432x288 with 1 Axes>"
            ]
          },
          "metadata": {
            "needs_background": "light"
          }
        }
      ]
    },
    {
      "cell_type": "code",
      "metadata": {
        "id": "jAutHfLa-T1K"
      },
      "source": [
        "outs = glob(OUT_PATH + '*.mat')"
      ],
      "execution_count": 50,
      "outputs": []
    },
    {
      "cell_type": "code",
      "metadata": {
        "id": "cdcWhSUa_5Kc"
      },
      "source": [
        "outs.sort()"
      ],
      "execution_count": 51,
      "outputs": []
    },
    {
      "cell_type": "code",
      "metadata": {
        "id": "NDI4bgclwra_"
      },
      "source": [
        "def checkImgOut(images,outs):\n",
        "  errorFound = len(images) != len(outs)\n",
        "  for i in range(len(images)):\n",
        "    a = images[i].split('/')[-1].split('.')[0].split('_')[1]\n",
        "    b = outs[i].split('/')[-1].split('.')[0].split('_')[1]\n",
        "    if a != b:\n",
        "      errorFound = True\n",
        "  return errorFound"
      ],
      "execution_count": 52,
      "outputs": []
    },
    {
      "cell_type": "code",
      "metadata": {
        "colab": {
          "base_uri": "https://localhost:8080/"
        },
        "id": "Y8cqi4mnqFTt",
        "outputId": "73c1bc0d-2214-42cd-e315-37295e46d765"
      },
      "source": [
        "if checkImgOut(images,outs):\n",
        "  print(\"There is an error! fix it.\")\n",
        "  input()\n",
        "else:\n",
        "  print(\"Congrats! There is no error.\")"
      ],
      "execution_count": 53,
      "outputs": [
        {
          "output_type": "stream",
          "name": "stdout",
          "text": [
            "Congrats! There is no error.\n"
          ]
        }
      ]
    },
    {
      "cell_type": "code",
      "metadata": {
        "id": "R-750KGVbrOi"
      },
      "source": [
        "class CustomDataset(Dataset):\n",
        "    def __init__(self, csv_path, images_folder, transform = None):\n",
        "        self.df = read_csv(csv_path)\n",
        "        self.imagesFolder = images_folder\n",
        "        self.transform = transform\n",
        "        self.class2index = {\"male\":0, \"female\":1}\n",
        "\n",
        "    def __len__(self):\n",
        "        return len(self.df)\n",
        "        \n",
        "    def __getitem__(self, index):\n",
        "        filename = self.df[\"imageName\"][index]\n",
        "        label = self.class2index[self.df[\"gender\"][index]]\n",
        "        image = getPartOfMat(loadmat(self.imagesFolder + \"/\" + filename[:-3] + \"mat\"), \"low\")\n",
        "        if self.transform is not None:\n",
        "          image = self.transform(image)\n",
        "        return image, label\n",
        "      \n",
        "    def images(self):\n",
        "      return glob(self.imagesFolder + \"/*.mat\")\n",
        "        "
      ],
      "execution_count": 54,
      "outputs": []
    },
    {
      "cell_type": "code",
      "metadata": {
        "id": "5KW9RB-xGc2b"
      },
      "source": [
        "def getMean(outs):\n",
        "  sum1, sum2, sum3 = 0, 0, 0\n",
        "  for out in tqdm(outs):\n",
        "    mat = loadmat(out)\n",
        "    image = mat['O'][:,:,:3]\n",
        "    sum1 += image[:,:,0].mean()\n",
        "    sum2 += image[:,:,1].mean()\n",
        "    sum3 += image[:,:,2].mean()\n",
        "  mean1 = sum1 / len(outs)\n",
        "  mean2 = sum2 / len(outs)\n",
        "  mean3 = sum3 / len(outs)\n",
        "  print(mean1, mean2, mean3)\n",
        "  return mean1, mean2, mean3"
      ],
      "execution_count": 55,
      "outputs": []
    },
    {
      "cell_type": "code",
      "metadata": {
        "id": "3tvalwNX6HwF"
      },
      "source": [
        "def getMean(outs):\n",
        "  sum = 0\n",
        "  for out in tqdm(outs):\n",
        "    mat = loadmat(out)\n",
        "    image = mat['O'][:,:,:3]\n",
        "    sum += image[:,:].mean()\n",
        "  mean = sum / len(outs)\n",
        "  print(mean)\n",
        "  return mean"
      ],
      "execution_count": 56,
      "outputs": []
    },
    {
      "cell_type": "code",
      "metadata": {
        "id": "ROWFtuIjd4PI"
      },
      "source": [
        "def getStd(outs):\n",
        "  mean1Tmp, mean2Tmp, mean3Tmp = mean1*255, mean2*255, mean3*255\n",
        "  sum1, sum2, sum3 = 0, 0, 0\n",
        "  for out in tqdm(outs):\n",
        "    mat = loadmat(out)\n",
        "    image = mat['O'][:,:,:3]\n",
        "    sum1 += np.power(image[:,:,0] - mean1Tmp, 2).sum()\n",
        "    sum2 += np.power(image[:,:,1] - mean2Tmp, 2).sum()\n",
        "    sum3 += np.power(image[:,:,2] - mean3Tmp, 2).sum()\n",
        "  std1 = np.sqrt(sum1 / len(outs) / 224 / 224)\n",
        "  std2 = np.sqrt(sum2 / len(outs) / 224 / 224)\n",
        "  std3 = np.sqrt(sum3 / len(outs) / 224 / 224)\n",
        "  print(std1, std2, std3)\n",
        "  return std1, std2, std3"
      ],
      "execution_count": 57,
      "outputs": []
    },
    {
      "cell_type": "code",
      "metadata": {
        "id": "rPJYgral6O1o"
      },
      "source": [
        "def getStd(outs):\n",
        "  meanTmp = mean*255\n",
        "  sum = 0\n",
        "  for out in tqdm(outs):\n",
        "    mat = loadmat(out)\n",
        "    image = mat['O'][:,:,3]\n",
        "    sum += np.power(image[:,:] - meanTmp, 2).sum()\n",
        "  std = np.sqrt(sum / len(outs) / 224 / 224)\n",
        "  print(std)\n",
        "  return std\n",
        "# std = getStd(outs)"
      ],
      "execution_count": 58,
      "outputs": []
    },
    {
      "cell_type": "markdown",
      "metadata": {
        "id": "MuPRE6_RuzSy"
      },
      "source": [
        "**Part below is for net1! (for low)**"
      ]
    },
    {
      "cell_type": "code",
      "metadata": {
        "id": "xtqrlgYVvtNQ"
      },
      "source": [
        "transform = transforms.Compose([\n",
        "    transforms.ToTensor(),\n",
        "    transforms.Normalize((mean1, mean2, mean3), (std1, std2, std3))\n",
        "])"
      ],
      "execution_count": 59,
      "outputs": []
    },
    {
      "cell_type": "code",
      "metadata": {
        "colab": {
          "base_uri": "https://localhost:8080/"
        },
        "id": "bEFJ9BOF91yZ",
        "outputId": "612da6e6-cb3a-4e39-c6cf-2cdd7ac83461"
      },
      "source": [
        "dataset = CustomDataset(LABEL_PATH, OUT_PATH, transform)\n",
        "img, label = dataset[100]\n",
        "img.shape"
      ],
      "execution_count": 60,
      "outputs": [
        {
          "output_type": "execute_result",
          "data": {
            "text/plain": [
              "torch.Size([3, 224, 224])"
            ]
          },
          "metadata": {},
          "execution_count": 60
        }
      ]
    },
    {
      "cell_type": "code",
      "metadata": {
        "id": "3MbHOrtaBtT4"
      },
      "source": [
        "batch_size = 300\n",
        "validation_split = 0.7\n",
        "shuffle_dataset = True\n",
        "dataset_size = len(dataset)\n",
        "split = int(np.floor(validation_split * dataset_size))\n",
        "indices = list(range(dataset_size))\n",
        "\n",
        "train_indices, test_indices = indices[:split], indices[split:]\n",
        "\n",
        "train_sampler = SubsetRandomSampler(train_indices)\n",
        "test_sampler = SubsetRandomSampler(test_indices)\n",
        "\n",
        "trainLoader = DataLoader(dataset, batch_size=batch_size, sampler=train_sampler)\n",
        "testLoader = DataLoader(dataset, batch_size=batch_size, sampler=test_sampler)"
      ],
      "execution_count": 61,
      "outputs": []
    },
    {
      "cell_type": "code",
      "metadata": {
        "colab": {
          "base_uri": "https://localhost:8080/"
        },
        "id": "9dQqllSdO3hc",
        "outputId": "4c5ae586-ee7c-4d5f-a8d3-81843a84f706"
      },
      "source": [
        "len(trainLoader)"
      ],
      "execution_count": 62,
      "outputs": [
        {
          "output_type": "execute_result",
          "data": {
            "text/plain": [
              "26"
            ]
          },
          "metadata": {},
          "execution_count": 62
        }
      ]
    },
    {
      "cell_type": "code",
      "metadata": {
        "colab": {
          "base_uri": "https://localhost:8080/"
        },
        "id": "2dMWr-8ECXIf",
        "outputId": "3a055fb4-0078-42aa-b129-952fb7e9b638"
      },
      "source": [
        "len(testLoader)"
      ],
      "execution_count": 63,
      "outputs": [
        {
          "output_type": "execute_result",
          "data": {
            "text/plain": [
              "12"
            ]
          },
          "metadata": {},
          "execution_count": 63
        }
      ]
    },
    {
      "cell_type": "code",
      "metadata": {
        "colab": {
          "base_uri": "https://localhost:8080/"
        },
        "id": "LJJvJtxKoACQ",
        "outputId": "d5acbcd9-0d98-4a4b-e8ff-3ad5c7bdcb16"
      },
      "source": [
        "alexNet = alexnet(pretrained=True)\n",
        "# alexNet = alexNet.to(device)\n",
        "alexNet.classifier[6].out_features = 2\n",
        "alexNet.eval()"
      ],
      "execution_count": 64,
      "outputs": [
        {
          "output_type": "execute_result",
          "data": {
            "text/plain": [
              "AlexNet(\n",
              "  (features): Sequential(\n",
              "    (0): Conv2d(3, 64, kernel_size=(11, 11), stride=(4, 4), padding=(2, 2))\n",
              "    (1): ReLU(inplace=True)\n",
              "    (2): MaxPool2d(kernel_size=3, stride=2, padding=0, dilation=1, ceil_mode=False)\n",
              "    (3): Conv2d(64, 192, kernel_size=(5, 5), stride=(1, 1), padding=(2, 2))\n",
              "    (4): ReLU(inplace=True)\n",
              "    (5): MaxPool2d(kernel_size=3, stride=2, padding=0, dilation=1, ceil_mode=False)\n",
              "    (6): Conv2d(192, 384, kernel_size=(3, 3), stride=(1, 1), padding=(1, 1))\n",
              "    (7): ReLU(inplace=True)\n",
              "    (8): Conv2d(384, 256, kernel_size=(3, 3), stride=(1, 1), padding=(1, 1))\n",
              "    (9): ReLU(inplace=True)\n",
              "    (10): Conv2d(256, 256, kernel_size=(3, 3), stride=(1, 1), padding=(1, 1))\n",
              "    (11): ReLU(inplace=True)\n",
              "    (12): MaxPool2d(kernel_size=3, stride=2, padding=0, dilation=1, ceil_mode=False)\n",
              "  )\n",
              "  (avgpool): AdaptiveAvgPool2d(output_size=(6, 6))\n",
              "  (classifier): Sequential(\n",
              "    (0): Dropout(p=0.5, inplace=False)\n",
              "    (1): Linear(in_features=9216, out_features=4096, bias=True)\n",
              "    (2): ReLU(inplace=True)\n",
              "    (3): Dropout(p=0.5, inplace=False)\n",
              "    (4): Linear(in_features=4096, out_features=4096, bias=True)\n",
              "    (5): ReLU(inplace=True)\n",
              "    (6): Linear(in_features=4096, out_features=2, bias=True)\n",
              "  )\n",
              ")"
            ]
          },
          "metadata": {},
          "execution_count": 64
        }
      ]
    },
    {
      "cell_type": "code",
      "metadata": {
        "id": "5GTjyLKcYBcK"
      },
      "source": [
        "state_dict = alexNet.state_dict()\n",
        "weights = state_dict[\"features.0.weight\"]\n",
        "bias = state_dict[\"features.0.bias\"]"
      ],
      "execution_count": 65,
      "outputs": []
    },
    {
      "cell_type": "code",
      "metadata": {
        "id": "uvITW5X3XIwR"
      },
      "source": [
        "# class Net(nn.Module):\n",
        "#     layers = []\n",
        "#     def __init__(self, alexNet):\n",
        "#         super(Net, self).__init__()\n",
        "#         self.conv2d1 = Conv2d(3, 64, 11, stride=3, padding=0)\n",
        "#         self.relu1 = alexNet.features[1]\n",
        "#         self.pool1 = alexNet.features[2]\n",
        "#         self.conv2d2 = alexNet.features[3]\n",
        "#         self.relu2 = alexNet.features[4]\n",
        "#         self.pool2 = alexNet.features[5]\n",
        "#         self.conv2d3 = alexNet.features[6]\n",
        "#         self.relu3 = alexNet.features[7]\n",
        "#         self.conv2d4 = alexNet.features[8]\n",
        "#         self.relu4 = alexNet.features[9]\n",
        "#         self.conv2d5 = Conv2d(256, 256, 11, stride=1, padding=1)\n",
        "#         self.relu5 = alexNet.features[11]\n",
        "#         self.pool5 = alexNet.features[12]\n",
        "#         self.fc6 = Linear(256 * 4 * 4, 4096,bias=True)\n",
        "#         self.relu6 = alexNet.classifier[2]\n",
        "#         self.drop6 = alexNet.classifier[0]\n",
        "#         self.fc7 = Linear(4096,2048,bias=True)\n",
        "#         self.relu7 = alexNet.classifier[2]\n",
        "#         self.drop7 = alexNet.classifier[0]\n",
        "#         self.fc8 = Linear(2048,1024,bias=True)\n",
        "#         self.relu8 = alexNet.classifier[2]\n",
        "#         self.drop8 = alexNet.classifier[0]\n",
        "#         self.fc9 = Linear(1024,2,True)\n",
        "#         # self.cl = Softmax(dim = -1) #error\n",
        "#         self.layers = [self.conv2d1,self.relu1,self.pool1,\n",
        "#                        self.conv2d2,self.relu2,self.pool2,\n",
        "#                        self.conv2d3,self.relu3,\n",
        "#                        self.conv2d4,self.relu4,\n",
        "#                        self.conv2d5,self.relu5,self.pool5,\n",
        "#                        self.fc6,self.relu6,self.drop6,\n",
        "#                        self.fc7,self.relu7,self.drop7,\n",
        "#                        self.fc8, self.relu8,self.drop8,\n",
        "#                        self.fc9]\n",
        "\n",
        "#     def forward(self, x):\n",
        "#         x = self.pool1(self.relu1(self.conv2d1(x)))\n",
        "#         x = self.pool2(self.relu2(self.conv2d2(x)))\n",
        "#         x = self.relu3(self.conv2d3(x))\n",
        "#         x = self.relu4(self.conv2d4(x))\n",
        "#         x = self.pool5(self.relu5(self.conv2d5(x)))\n",
        "\n",
        "#         x = x.view(-1,256 * 4 * 4)\n",
        "#         x = self.drop6(self.relu6(self.fc6(x)))\n",
        "#         x = self.drop7(self.relu7(self.fc7(x)))\n",
        "#         x = self.drop8(self.relu8(self.fc8(x)))\n",
        "#         x = self.fc9(x)\n",
        "\n",
        "#         x = softmax(x, dim = 1)\n",
        "#         # print(x)\n",
        "#         return x"
      ],
      "execution_count": 34,
      "outputs": []
    },
    {
      "cell_type": "code",
      "metadata": {
        "id": "Cct80MFO9Ic7"
      },
      "source": [
        "net1 = copy(alexNet)\n",
        "net1.features[0] = Conv2d(3, 64, 11, stride=3, padding=0)\n",
        "net1.features[10].kernel_size = 11\n",
        "\n",
        "net1.classifier[6].out_features = 2048\n",
        "net1.classifier.add_module('7',ReLU(inplace=True))\n",
        "net1.classifier.add_module('8',Linear(in_features=2048, out_features=2, bias=True))\n",
        "\n",
        "# net1 = net1.to(device)"
      ],
      "execution_count": 35,
      "outputs": []
    },
    {
      "cell_type": "code",
      "metadata": {
        "colab": {
          "base_uri": "https://localhost:8080/"
        },
        "id": "ych4E1L6A8Yy",
        "outputId": "131e5b8c-f6fe-495b-dfb0-d0de417426f1"
      },
      "source": [
        "alexNet.eval()"
      ],
      "execution_count": 36,
      "outputs": [
        {
          "output_type": "execute_result",
          "data": {
            "text/plain": [
              "AlexNet(\n",
              "  (features): Sequential(\n",
              "    (0): Conv2d(3, 64, kernel_size=(11, 11), stride=(3, 3))\n",
              "    (1): ReLU(inplace=True)\n",
              "    (2): MaxPool2d(kernel_size=3, stride=2, padding=0, dilation=1, ceil_mode=False)\n",
              "    (3): Conv2d(64, 192, kernel_size=(5, 5), stride=(1, 1), padding=(2, 2))\n",
              "    (4): ReLU(inplace=True)\n",
              "    (5): MaxPool2d(kernel_size=3, stride=2, padding=0, dilation=1, ceil_mode=False)\n",
              "    (6): Conv2d(192, 384, kernel_size=(3, 3), stride=(1, 1), padding=(1, 1))\n",
              "    (7): ReLU(inplace=True)\n",
              "    (8): Conv2d(384, 256, kernel_size=(3, 3), stride=(1, 1), padding=(1, 1))\n",
              "    (9): ReLU(inplace=True)\n",
              "    (10): Conv2d(256, 256, kernel_size=11, stride=(1, 1), padding=(1, 1))\n",
              "    (11): ReLU(inplace=True)\n",
              "    (12): MaxPool2d(kernel_size=3, stride=2, padding=0, dilation=1, ceil_mode=False)\n",
              "  )\n",
              "  (avgpool): AdaptiveAvgPool2d(output_size=(6, 6))\n",
              "  (classifier): Sequential(\n",
              "    (0): Dropout(p=0.5, inplace=False)\n",
              "    (1): Linear(in_features=9216, out_features=4096, bias=True)\n",
              "    (2): ReLU(inplace=True)\n",
              "    (3): Dropout(p=0.5, inplace=False)\n",
              "    (4): Linear(in_features=4096, out_features=4096, bias=True)\n",
              "    (5): ReLU(inplace=True)\n",
              "    (6): Linear(in_features=4096, out_features=2048, bias=True)\n",
              "    (7): ReLU(inplace=True)\n",
              "    (8): Linear(in_features=2048, out_features=2, bias=True)\n",
              "  )\n",
              ")"
            ]
          },
          "metadata": {},
          "execution_count": 36
        }
      ]
    },
    {
      "cell_type": "code",
      "metadata": {
        "id": "rN_NUyogDZBC",
        "colab": {
          "base_uri": "https://localhost:8080/"
        },
        "outputId": "4dfea80a-d41f-4f5f-b639-5942b5c491a6"
      },
      "source": [
        "net1.eval()"
      ],
      "execution_count": 37,
      "outputs": [
        {
          "output_type": "execute_result",
          "data": {
            "text/plain": [
              "AlexNet(\n",
              "  (features): Sequential(\n",
              "    (0): Conv2d(3, 64, kernel_size=(11, 11), stride=(3, 3))\n",
              "    (1): ReLU(inplace=True)\n",
              "    (2): MaxPool2d(kernel_size=3, stride=2, padding=0, dilation=1, ceil_mode=False)\n",
              "    (3): Conv2d(64, 192, kernel_size=(5, 5), stride=(1, 1), padding=(2, 2))\n",
              "    (4): ReLU(inplace=True)\n",
              "    (5): MaxPool2d(kernel_size=3, stride=2, padding=0, dilation=1, ceil_mode=False)\n",
              "    (6): Conv2d(192, 384, kernel_size=(3, 3), stride=(1, 1), padding=(1, 1))\n",
              "    (7): ReLU(inplace=True)\n",
              "    (8): Conv2d(384, 256, kernel_size=(3, 3), stride=(1, 1), padding=(1, 1))\n",
              "    (9): ReLU(inplace=True)\n",
              "    (10): Conv2d(256, 256, kernel_size=11, stride=(1, 1), padding=(1, 1))\n",
              "    (11): ReLU(inplace=True)\n",
              "    (12): MaxPool2d(kernel_size=3, stride=2, padding=0, dilation=1, ceil_mode=False)\n",
              "  )\n",
              "  (avgpool): AdaptiveAvgPool2d(output_size=(6, 6))\n",
              "  (classifier): Sequential(\n",
              "    (0): Dropout(p=0.5, inplace=False)\n",
              "    (1): Linear(in_features=9216, out_features=4096, bias=True)\n",
              "    (2): ReLU(inplace=True)\n",
              "    (3): Dropout(p=0.5, inplace=False)\n",
              "    (4): Linear(in_features=4096, out_features=4096, bias=True)\n",
              "    (5): ReLU(inplace=True)\n",
              "    (6): Linear(in_features=4096, out_features=2048, bias=True)\n",
              "    (7): ReLU(inplace=True)\n",
              "    (8): Linear(in_features=2048, out_features=2, bias=True)\n",
              "  )\n",
              ")"
            ]
          },
          "metadata": {},
          "execution_count": 37
        }
      ]
    },
    {
      "cell_type": "code",
      "metadata": {
        "id": "tR09Pu4LMLgo"
      },
      "source": [
        "learnRate = .001\n",
        "weight_decay = .1"
      ],
      "execution_count": null,
      "outputs": []
    },
    {
      "cell_type": "code",
      "metadata": {
        "id": "CLkyFjbdkvzN"
      },
      "source": [
        "opt = SGD(net1.parameters(), lr=0.001, momentum=0.9)\n",
        "\n",
        "opt1 = Adam([\n",
        "                {'params': net1.features[0].weight, 'lr': learnRate * 2},\n",
        "                {'params': net1.features[0].bias, 'lr': learnRate}]\n",
        "                , weight_decay=weight_decay)\n",
        "opt2 = Adam([\n",
        "                {'params': net1.classifier[1].weight, 'lr': learnRate * 2},\n",
        "                {'params': net1.classifier[1].bias, 'lr': learnRate * 2}]\n",
        "                , weight_decay=weight_decay)\n",
        "opt3 = Adam([\n",
        "                {'params': net1.classifier[4].weight, 'lr': learnRate * 2},\n",
        "                {'params': net1.classifier[4].bias, 'lr': learnRate * 2}]\n",
        "                , weight_decay=weight_decay)\n",
        "opt4 = Adam([\n",
        "                {'params': net1.classifier[6].weight, 'lr': learnRate * 2},\n",
        "                {'params': net1.classifier[6].bias, 'lr': learnRate * 2}]\n",
        "                , weight_decay=weight_decay)\n",
        "\n",
        "opt5 = Adam([\n",
        "                {'params': net1.classifier[8].weight, 'lr': learnRate * 2},\n",
        "                {'params': net1.classifier[8].bias, 'lr': learnRate * 2}]\n",
        "                , weight_decay=weight_decay) \n"
      ],
      "execution_count": null,
      "outputs": []
    },
    {
      "cell_type": "code",
      "metadata": {
        "id": "KkMVvGnJ0BjP"
      },
      "source": [
        "torch.cuda.is_available()"
      ],
      "execution_count": null,
      "outputs": []
    },
    {
      "cell_type": "code",
      "metadata": {
        "id": "cYPF0k6Ek3Le"
      },
      "source": [
        "def train(epoch,epochs, net1,trainLoader,trainAccuracy,trainLoss,opt1,opt2,opt3,opt4,opt5,opt,criterion):\n",
        "    running_loss = 0\n",
        "    total, correct = 0, 0\n",
        "    # for data in trainLoader:\n",
        "    for data in tqdm(trainLoader ,desc=\"Train\"):\n",
        "\n",
        "      inputs, labels = data\n",
        "      inputs = inputs.to(device)\n",
        "      labels = labels.to(device)\n",
        "\n",
        "      opt1.zero_grad()\n",
        "      opt2.zero_grad()\n",
        "      opt3.zero_grad()\n",
        "      opt4.zero_grad()\n",
        "      opt5.zero_grad()\n",
        "      opt.zero_grad()\n",
        "\n",
        "      outputs = net1(inputs)\n",
        "      loss = criterion(outputs, labels)\n",
        "      loss.backward(retain_graph=True)\n",
        "\n",
        "      opt1.step()\n",
        "      opt2.step()\n",
        "      opt3.step()\n",
        "      opt4.step()\n",
        "      opt5.step()\n",
        "      opt.step()\n",
        "\n",
        "      running_loss += loss.item() / len(trainLoader)\n",
        "      _, predicted = torch.max(outputs.data, 1)\n",
        "      total += labels.size(0)\n",
        "      correct += predicted.eq(labels).sum().item()\n",
        "\n",
        "    # print(\"weight of first layer is \", net1.layers[0].weight)\n",
        "\n",
        "\n",
        "    accuracy = 100 * correct / total\n",
        "    trainAccuracy.append(accuracy)\n",
        "    trainLoss.append(running_loss)\n",
        "    print(\"\\nTRAIN: Epoch {}/{}, Accuracy: {:.3f}, Loss: {:.3f}\".format(epoch+1,epochs, accuracy, running_loss))\n"
      ],
      "execution_count": null,
      "outputs": []
    },
    {
      "cell_type": "code",
      "metadata": {
        "id": "huwJA-KRk7Vw"
      },
      "source": [
        "def test(epoch, epochs, net1,testLoader,testAccuracy,testLoss,criterion):    \n",
        "  running_loss = 0\n",
        "  total, correct = 0, 0\n",
        "  with torch.no_grad():\n",
        "    # for data in testLoader:\n",
        "    for data in tqdm(testLoader, desc=\"Test\"):\n",
        "      inputs, labels = data\n",
        "      inputs = inputs.to(device)\n",
        "      labels = labels.to(device)\n",
        "\n",
        "      outputs = net1(inputs)\n",
        "      loss = criterion(outputs, labels)\n",
        "      running_loss += loss.item() / len(testLoader)\n",
        "      \n",
        "      _, predicted = torch.max(outputs.data, 1)\n",
        "      total += labels.size(0)\n",
        "      correct += predicted.eq(labels).sum().item()\n",
        "\n",
        "    accuracy = 100 * correct / total\n",
        "    testAccuracy.append(accuracy)\n",
        "    testLoss.append(running_loss)\n",
        "\n",
        "    print(\"\\nTEST: Epoch {}/{}, Accuracy: {:.3f}, Loss: {:.3f}\".format(epoch+1,epochs, accuracy, running_loss))\n"
      ],
      "execution_count": null,
      "outputs": []
    },
    {
      "cell_type": "code",
      "metadata": {
        "id": "jJOvRJjJY-C-",
        "colab": {
          "base_uri": "https://localhost:8080/"
        },
        "outputId": "42c93044-a6da-4f84-c4b1-7aa2c6d71dd3"
      },
      "source": [
        "epochs = 10\n",
        "criterion = CrossEntropyLoss()\n",
        "trainAccuracy = []\n",
        "testAccuracy = []\n",
        "trainLoss = []\n",
        "testLoss = []\n",
        "\n",
        "for epoch in range(epochs):  # loop over the dataset multiple times\n",
        "  train(epoch, epochs, net1, trainLoader,trainAccuracy,trainLoss,opt1,opt2,opt3,opt4,opt5,opt,criterion)\n",
        "  test(epoch, epochs, net1,testLoader,testAccuracy,testLoss,criterion)"
      ],
      "execution_count": null,
      "outputs": [
        {
          "output_type": "stream",
          "name": "stderr",
          "text": [
            "\rTrain:   0%|          | 0/26 [00:00<?, ?it/s]/usr/local/lib/python3.7/dist-packages/torch/nn/functional.py:718: UserWarning: Named tensors and all their associated APIs are an experimental feature and subject to change. Please do not use them for anything important until they are released as stable. (Triggered internally at  /pytorch/c10/core/TensorImpl.h:1156.)\n",
            "  return torch.max_pool2d(input, kernel_size, stride, padding, dilation, ceil_mode)\n",
            "Train: 100%|██████████| 26/26 [20:24<00:00, 47.10s/it]\n"
          ]
        },
        {
          "output_type": "stream",
          "name": "stdout",
          "text": [
            "\n",
            "TRAIN: Epoch 1/10, Accuracy: 59.512, Loss: 4.801\n"
          ]
        },
        {
          "output_type": "stream",
          "name": "stderr",
          "text": [
            "Test: 100%|██████████| 12/12 [08:23<00:00, 41.98s/it]\n"
          ]
        },
        {
          "output_type": "stream",
          "name": "stdout",
          "text": [
            "\n",
            "TEST: Epoch 1/10, Accuracy: 46.494, Loss: 1.100\n"
          ]
        },
        {
          "output_type": "stream",
          "name": "stderr",
          "text": [
            "Train: 100%|██████████| 26/26 [01:04<00:00,  2.46s/it]\n"
          ]
        },
        {
          "output_type": "stream",
          "name": "stdout",
          "text": [
            "\n",
            "TRAIN: Epoch 2/10, Accuracy: 68.941, Loss: 0.701\n"
          ]
        },
        {
          "output_type": "stream",
          "name": "stderr",
          "text": [
            "Test: 100%|██████████| 12/12 [00:17<00:00,  1.47s/it]\n"
          ]
        },
        {
          "output_type": "stream",
          "name": "stdout",
          "text": [
            "\n",
            "TEST: Epoch 2/10, Accuracy: 80.500, Loss: 0.470\n"
          ]
        },
        {
          "output_type": "stream",
          "name": "stderr",
          "text": [
            "Train: 100%|██████████| 26/26 [01:03<00:00,  2.43s/it]\n"
          ]
        },
        {
          "output_type": "stream",
          "name": "stdout",
          "text": [
            "\n",
            "TRAIN: Epoch 3/10, Accuracy: 71.108, Loss: 0.674\n"
          ]
        },
        {
          "output_type": "stream",
          "name": "stderr",
          "text": [
            "Test: 100%|██████████| 12/12 [00:17<00:00,  1.44s/it]\n"
          ]
        },
        {
          "output_type": "stream",
          "name": "stdout",
          "text": [
            "\n",
            "TEST: Epoch 3/10, Accuracy: 81.914, Loss: 0.421\n"
          ]
        },
        {
          "output_type": "stream",
          "name": "stderr",
          "text": [
            "Train: 100%|██████████| 26/26 [01:03<00:00,  2.44s/it]\n"
          ]
        },
        {
          "output_type": "stream",
          "name": "stdout",
          "text": [
            "\n",
            "TRAIN: Epoch 4/10, Accuracy: 78.318, Loss: 0.448\n"
          ]
        },
        {
          "output_type": "stream",
          "name": "stderr",
          "text": [
            "Test: 100%|██████████| 12/12 [00:17<00:00,  1.44s/it]\n"
          ]
        },
        {
          "output_type": "stream",
          "name": "stdout",
          "text": [
            "\n",
            "TEST: Epoch 4/10, Accuracy: 80.048, Loss: 0.446\n"
          ]
        },
        {
          "output_type": "stream",
          "name": "stderr",
          "text": [
            "Train: 100%|██████████| 26/26 [01:03<00:00,  2.43s/it]\n"
          ]
        },
        {
          "output_type": "stream",
          "name": "stdout",
          "text": [
            "\n",
            "TRAIN: Epoch 5/10, Accuracy: 78.950, Loss: 0.460\n"
          ]
        },
        {
          "output_type": "stream",
          "name": "stderr",
          "text": [
            "Test: 100%|██████████| 12/12 [00:17<00:00,  1.47s/it]\n"
          ]
        },
        {
          "output_type": "stream",
          "name": "stdout",
          "text": [
            "\n",
            "TEST: Epoch 5/10, Accuracy: 70.900, Loss: 0.665\n"
          ]
        },
        {
          "output_type": "stream",
          "name": "stderr",
          "text": [
            "Train: 100%|██████████| 26/26 [01:03<00:00,  2.44s/it]\n"
          ]
        },
        {
          "output_type": "stream",
          "name": "stdout",
          "text": [
            "\n",
            "TRAIN: Epoch 6/10, Accuracy: 80.988, Loss: 0.413\n"
          ]
        },
        {
          "output_type": "stream",
          "name": "stderr",
          "text": [
            "Test: 100%|██████████| 12/12 [00:17<00:00,  1.45s/it]\n"
          ]
        },
        {
          "output_type": "stream",
          "name": "stdout",
          "text": [
            "\n",
            "TEST: Epoch 6/10, Accuracy: 81.583, Loss: 0.451\n"
          ]
        },
        {
          "output_type": "stream",
          "name": "stderr",
          "text": [
            "Train: 100%|██████████| 26/26 [01:03<00:00,  2.44s/it]\n"
          ]
        },
        {
          "output_type": "stream",
          "name": "stdout",
          "text": [
            "\n",
            "TRAIN: Epoch 7/10, Accuracy: 84.728, Loss: 0.351\n"
          ]
        },
        {
          "output_type": "stream",
          "name": "stderr",
          "text": [
            "Test: 100%|██████████| 12/12 [00:17<00:00,  1.45s/it]\n"
          ]
        },
        {
          "output_type": "stream",
          "name": "stdout",
          "text": [
            "\n",
            "TEST: Epoch 7/10, Accuracy: 79.506, Loss: 0.514\n"
          ]
        },
        {
          "output_type": "stream",
          "name": "stderr",
          "text": [
            "Train: 100%|██████████| 26/26 [01:03<00:00,  2.44s/it]\n"
          ]
        },
        {
          "output_type": "stream",
          "name": "stdout",
          "text": [
            "\n",
            "TRAIN: Epoch 8/10, Accuracy: 86.547, Loss: 0.309\n"
          ]
        },
        {
          "output_type": "stream",
          "name": "stderr",
          "text": [
            "Test: 100%|██████████| 12/12 [00:17<00:00,  1.46s/it]\n"
          ]
        },
        {
          "output_type": "stream",
          "name": "stdout",
          "text": [
            "\n",
            "TEST: Epoch 8/10, Accuracy: 83.689, Loss: 0.430\n"
          ]
        },
        {
          "output_type": "stream",
          "name": "stderr",
          "text": [
            "Train: 100%|██████████| 26/26 [01:03<00:00,  2.44s/it]\n"
          ]
        },
        {
          "output_type": "stream",
          "name": "stdout",
          "text": [
            "\n",
            "TRAIN: Epoch 9/10, Accuracy: 85.244, Loss: 0.336\n"
          ]
        },
        {
          "output_type": "stream",
          "name": "stderr",
          "text": [
            "Test: 100%|██████████| 12/12 [00:17<00:00,  1.48s/it]\n"
          ]
        },
        {
          "output_type": "stream",
          "name": "stdout",
          "text": [
            "\n",
            "TEST: Epoch 9/10, Accuracy: 81.523, Loss: 0.467\n"
          ]
        },
        {
          "output_type": "stream",
          "name": "stderr",
          "text": [
            "Train: 100%|██████████| 26/26 [01:03<00:00,  2.44s/it]\n"
          ]
        },
        {
          "output_type": "stream",
          "name": "stdout",
          "text": [
            "\n",
            "TRAIN: Epoch 10/10, Accuracy: 89.694, Loss: 0.257\n"
          ]
        },
        {
          "output_type": "stream",
          "name": "stderr",
          "text": [
            "Test: 100%|██████████| 12/12 [00:17<00:00,  1.46s/it]"
          ]
        },
        {
          "output_type": "stream",
          "name": "stdout",
          "text": [
            "\n",
            "TEST: Epoch 10/10, Accuracy: 82.787, Loss: 0.450\n"
          ]
        },
        {
          "output_type": "stream",
          "name": "stderr",
          "text": [
            "\n"
          ]
        }
      ]
    },
    {
      "cell_type": "code",
      "metadata": {
        "id": "kw_NADSe1nkx",
        "colab": {
          "base_uri": "https://localhost:8080/",
          "height": 295
        },
        "outputId": "77367384-f178-4606-f58d-bd6aea354d54"
      },
      "source": [
        "plt.plot(trainAccuracy,'-o')\n",
        "plt.plot(testAccuracy,'-o')\n",
        "plt.xlabel('epoch')\n",
        "plt.ylabel('accuracy')\n",
        "plt.legend(['Train','Test'])\n",
        "plt.title('Accuracy')\n",
        " \n",
        "plt.show()"
      ],
      "execution_count": null,
      "outputs": [
        {
          "output_type": "display_data",
          "data": {
            "image/png": "[encoded data removed]",
            "text/plain": [
              "<Figure size 432x288 with 1 Axes>"
            ]
          },
          "metadata": {
            "needs_background": "light"
          }
        }
      ]
    },
    {
      "cell_type": "code",
      "metadata": {
        "id": "nrEnKTln3daY",
        "colab": {
          "base_uri": "https://localhost:8080/",
          "height": 295
        },
        "outputId": "ce411ec3-e41d-4f1f-88d6-5ca7f1dabd1f"
      },
      "source": [
        "plt.plot(trainLoss,'-o')\n",
        "plt.plot(testLoss,'-o')\n",
        "plt.xlabel('epoch')\n",
        "plt.ylabel('losses')\n",
        "plt.legend(['Train','Test'])\n",
        "plt.title('Loss')\n",
        " \n",
        "plt.show()"
      ],
      "execution_count": null,
      "outputs": [
        {
          "output_type": "display_data",
          "data": {
            "image/png": "[encoded data removed]",
            "text/plain": [
              "<Figure size 432x288 with 1 Axes>"
            ]
          },
          "metadata": {
            "needs_background": "light"
          }
        }
      ]
    },
    {
      "cell_type": "code",
      "metadata": {
        "id": "MH5jDbGiMl1b",
        "colab": {
          "base_uri": "https://localhost:8080/",
          "height": 167
        },
        "outputId": "0666eb78-8f41-4e02-bab5-2f28d52fbd86"
      },
      "source": [
        "zzz"
      ],
      "execution_count": null,
      "outputs": [
        {
          "output_type": "error",
          "ename": "NameError",
          "evalue": "ignored",
          "traceback": [
            "\u001b[0;31m---------------------------------------------------------------------------\u001b[0m",
            "\u001b[0;31mNameError\u001b[0m                                 Traceback (most recent call last)",
            "\u001b[0;32m<ipython-input-48-131521d12231>\u001b[0m in \u001b[0;36m<module>\u001b[0;34m()\u001b[0m\n\u001b[0;32m----> 1\u001b[0;31m \u001b[0mzzz\u001b[0m\u001b[0;34m\u001b[0m\u001b[0;34m\u001b[0m\u001b[0m\n\u001b[0m",
            "\u001b[0;31mNameError\u001b[0m: name 'zzz' is not defined"
          ]
        }
      ]
    },
    {
      "cell_type": "markdown",
      "metadata": {
        "id": "QILBYzSmwtBC"
      },
      "source": [
        "**Part below is for net2! (for high)**"
      ]
    },
    {
      "cell_type": "code",
      "metadata": {
        "id": "TJtHJ_5KrcNf"
      },
      "source": [
        "transform = transforms.Compose(\n",
        "    [transforms.ToTensor(),\n",
        "     transforms.Normalize((mean), (std))])"
      ],
      "execution_count": 71,
      "outputs": []
    },
    {
      "cell_type": "code",
      "metadata": {
        "id": "EdK-O_4gh0QK"
      },
      "source": [
        "class CustomDataset(Dataset):\n",
        "    def __init__(self, csv_path, images_folder, transform = None):\n",
        "        self.df = read_csv(csv_path)\n",
        "        self.imagesFolder = images_folder\n",
        "        self.transform = transform\n",
        "        self.class2index = {\"male\":0, \"female\":1}\n",
        "\n",
        "    def __len__(self):\n",
        "        return len(self.df)\n",
        "        \n",
        "    def __getitem__(self, index):\n",
        "        filename = self.df[\"imageName\"][index]\n",
        "        label = self.class2index[self.df[\"gender\"][index]]\n",
        "        image = getPartOfMat(loadmat(self.imagesFolder + \"/\" + filename[:-3] + \"mat\"), \"high\")\n",
        "        if self.transform is not None:\n",
        "          image = self.transform(image)\n",
        "        return image, label\n",
        "      \n",
        "    def images(self):\n",
        "      return glob(self.imagesFolder + \"/*.mat\")\n",
        "        "
      ],
      "execution_count": 72,
      "outputs": []
    },
    {
      "cell_type": "code",
      "metadata": {
        "id": "yavhTVHoh0QL",
        "colab": {
          "base_uri": "https://localhost:8080/"
        },
        "outputId": "5cd60197-28ed-4ff8-9d23-a43f5113e5ac"
      },
      "source": [
        "dataset = CustomDataset(LABEL_PATH, OUT_PATH, transform)\n",
        "img, label = dataset[100]\n",
        "img.shape"
      ],
      "execution_count": 73,
      "outputs": [
        {
          "output_type": "execute_result",
          "data": {
            "text/plain": [
              "torch.Size([1, 224, 224])"
            ]
          },
          "metadata": {},
          "execution_count": 73
        }
      ]
    },
    {
      "cell_type": "code",
      "metadata": {
        "id": "H6tz8o70h0QL"
      },
      "source": [
        "batch_size = 300\n",
        "validation_split = 0.7\n",
        "shuffle_dataset = True\n",
        "dataset_size = len(dataset)\n",
        "split = int(np.floor(validation_split * dataset_size))\n",
        "indices = list(range(dataset_size))\n",
        "\n",
        "train_indices, test_indices = indices[:split], indices[split:]\n",
        "\n",
        "train_sampler = SubsetRandomSampler(train_indices)\n",
        "test_sampler = SubsetRandomSampler(test_indices)\n",
        "\n",
        "trainLoader = DataLoader(dataset, batch_size=batch_size, sampler=train_sampler)\n",
        "testLoader = DataLoader(dataset, batch_size=batch_size, sampler=test_sampler)"
      ],
      "execution_count": 74,
      "outputs": []
    },
    {
      "cell_type": "code",
      "metadata": {
        "id": "bQWOaJe6h0QL",
        "colab": {
          "base_uri": "https://localhost:8080/"
        },
        "outputId": "b5642478-1fc0-459c-fd43-100ef3bf5db9"
      },
      "source": [
        "len(trainLoader)"
      ],
      "execution_count": 75,
      "outputs": [
        {
          "output_type": "execute_result",
          "data": {
            "text/plain": [
              "26"
            ]
          },
          "metadata": {},
          "execution_count": 75
        }
      ]
    },
    {
      "cell_type": "code",
      "metadata": {
        "id": "w0MsUV9mh0QL",
        "colab": {
          "base_uri": "https://localhost:8080/"
        },
        "outputId": "aa8c5914-50e5-4f41-adff-4e489a8656bd"
      },
      "source": [
        "len(testLoader)"
      ],
      "execution_count": 76,
      "outputs": [
        {
          "output_type": "execute_result",
          "data": {
            "text/plain": [
              "12"
            ]
          },
          "metadata": {},
          "execution_count": 76
        }
      ]
    },
    {
      "cell_type": "code",
      "metadata": {
        "id": "bkdeTxq0h0QM"
      },
      "source": [
        "# class Net(nn.Module):\n",
        "#     def __init__(self, alexNet):\n",
        "#         super(Net, self).__init__()\n",
        "#         self.conv2d1 = Conv2d(1, 64, 11, stride=3, padding=0)\n",
        "#         self.relu1 = alexNet.features[1]\n",
        "#         self.pool1 = alexNet.features[2]\n",
        "#         self.conv2d2 = alexNet.features[3]\n",
        "#         self.relu2 = alexNet.features[4]\n",
        "#         self.pool2 = alexNet.features[5]\n",
        "#         self.conv2d3 = alexNet.features[6]\n",
        "#         self.relu3 = alexNet.features[7]\n",
        "#         self.conv2d4 = alexNet.features[8]\n",
        "#         self.relu4 = alexNet.features[9]\n",
        "#         self.conv2d5 = Conv2d(256, 256, 11, stride=1, padding=1)\n",
        "#         self.relu5 = alexNet.features[11]\n",
        "#         self.pool5 = alexNet.features[12]\n",
        "#         self.fc6 = Linear(256 * 4 * 4, 4096,bias=True)\n",
        "#         self.relu6 = alexNet.classifier[2]\n",
        "#         self.drop6 = alexNet.classifier[0]\n",
        "#         self.fc7 = Linear(4096,4096,bias=True)\n",
        "#         self.relu7 = alexNet.classifier[2]\n",
        "#         self.drop7 = alexNet.classifier[0]\n",
        "#         self.fc8 = Linear(4096,2048,bias=True)\n",
        "#         self.relu8 = alexNet.classifier[2]\n",
        "#         self.drop8 = alexNet.classifier[0]\n",
        "#         self.fc9 = Linear(2048,2048,True)\n",
        "#         self.relu9 = alexNet.classifier[2]\n",
        "#         self.drop9 = alexNet.classifier[0]\n",
        "#         self.fc9_ = Linear(2048, 2, True)\n",
        "        \n",
        "#         self.layers = [self.conv2d1,self.relu1,self.pool1,\n",
        "#                        self.conv2d2,self.relu2,self.pool2,\n",
        "#                        self.conv2d3,self.relu3,\n",
        "#                        self.conv2d4,self.relu4,\n",
        "#                        self.conv2d5,self.relu5,self.pool5,\n",
        "#                        self.fc6,self.relu6,self.drop6,\n",
        "#                        self.fc7,self.relu7,self.drop7,\n",
        "#                        self.fc8,self.relu8,self.drop8,\n",
        "#                        self.fc9,self.relu9,self.drop9,self.fc9_]\n",
        "\n",
        "#     def forward(self, x):\n",
        "#         x = self.pool1(self.relu1(self.conv2d1(x)))\n",
        "#         x = self.pool2(self.relu2(self.conv2d2(x)))\n",
        "#         x = self.relu3(self.conv2d3(x))\n",
        "#         x = self.relu4(self.conv2d4(x))\n",
        "#         x = self.pool5(self.relu5(self.conv2d5(x)))\n",
        "#         x = x.view(-1,256 * 4 * 4)\n",
        "#         x = self.drop6(self.relu6(self.fc6(x)))\n",
        "#         x = self.drop7(self.relu7(self.fc7(x)))\n",
        "#         x = self.drop8(self.relu8(self.fc8(x)))\n",
        "#         x = self.drop9(self.relu9(self.fc9(x)))\n",
        "#         x = self.fc9_(x)\n",
        "#         x = softmax(x, dim = 1)\n",
        "#         return x"
      ],
      "execution_count": null,
      "outputs": []
    },
    {
      "cell_type": "code",
      "metadata": {
        "id": "29IlA1h4DGcc"
      },
      "source": [
        "learnRate = .001\n",
        "weight_decay = .1"
      ],
      "execution_count": 77,
      "outputs": []
    },
    {
      "cell_type": "code",
      "metadata": {
        "id": "cMnm7l_iDOUh",
        "colab": {
          "base_uri": "https://localhost:8080/"
        },
        "outputId": "19f7dea8-ab6e-4018-c610-7d12ec27e31e"
      },
      "source": [
        "net2 = copy(alexNet)\n",
        "\n",
        "net2.features[0] = Conv2d(1, 64, 11, stride=3, padding=0)\n",
        "net2.features[10].kernel_size = 11\n",
        "\n",
        "net2.classifier[6].out_features = 2048\n",
        "net2.classifier.add_module('7',ReLU(inplace=True))\n",
        "net2.classifier.add_module('8',Linear(in_features=2048, out_features=2048, bias=True))\n",
        "net2.classifier.add_module('9',ReLU(inplace=True))\n",
        "net2.classifier.add_module('10',Linear(in_features=2048, out_features=2, bias=True))\n",
        "\n",
        "# net2 = net2.to(device)\n",
        "\n",
        "net2.eval()"
      ],
      "execution_count": 78,
      "outputs": [
        {
          "output_type": "execute_result",
          "data": {
            "text/plain": [
              "AlexNet(\n",
              "  (features): Sequential(\n",
              "    (0): Conv2d(1, 64, kernel_size=(11, 11), stride=(3, 3))\n",
              "    (1): ReLU(inplace=True)\n",
              "    (2): MaxPool2d(kernel_size=3, stride=2, padding=0, dilation=1, ceil_mode=False)\n",
              "    (3): Conv2d(64, 192, kernel_size=(5, 5), stride=(1, 1), padding=(2, 2))\n",
              "    (4): ReLU(inplace=True)\n",
              "    (5): MaxPool2d(kernel_size=3, stride=2, padding=0, dilation=1, ceil_mode=False)\n",
              "    (6): Conv2d(192, 384, kernel_size=(3, 3), stride=(1, 1), padding=(1, 1))\n",
              "    (7): ReLU(inplace=True)\n",
              "    (8): Conv2d(384, 256, kernel_size=(3, 3), stride=(1, 1), padding=(1, 1))\n",
              "    (9): ReLU(inplace=True)\n",
              "    (10): Conv2d(256, 256, kernel_size=11, stride=(1, 1), padding=(1, 1))\n",
              "    (11): ReLU(inplace=True)\n",
              "    (12): MaxPool2d(kernel_size=3, stride=2, padding=0, dilation=1, ceil_mode=False)\n",
              "  )\n",
              "  (avgpool): AdaptiveAvgPool2d(output_size=(6, 6))\n",
              "  (classifier): Sequential(\n",
              "    (0): Dropout(p=0.5, inplace=False)\n",
              "    (1): Linear(in_features=9216, out_features=4096, bias=True)\n",
              "    (2): ReLU(inplace=True)\n",
              "    (3): Dropout(p=0.5, inplace=False)\n",
              "    (4): Linear(in_features=4096, out_features=4096, bias=True)\n",
              "    (5): ReLU(inplace=True)\n",
              "    (6): Linear(in_features=4096, out_features=2048, bias=True)\n",
              "    (7): ReLU(inplace=True)\n",
              "    (8): Linear(in_features=2048, out_features=2048, bias=True)\n",
              "    (9): ReLU(inplace=True)\n",
              "    (10): Linear(in_features=2048, out_features=2, bias=True)\n",
              "  )\n",
              ")"
            ]
          },
          "metadata": {},
          "execution_count": 78
        }
      ]
    },
    {
      "cell_type": "code",
      "metadata": {
        "id": "SuaUPp9gh0QM"
      },
      "source": [
        "opt = SGD(net2.parameters(), lr=0.001, momentum=0.9)\n",
        "\n",
        "opt1 = Adam([\n",
        "                {'params': net2.features[0].weight, 'lr': learnRate},\n",
        "                {'params': net2.features[0].bias, 'lr': learnRate}]\n",
        "                , weight_decay=weight_decay)\n",
        "opt2 = Adam([\n",
        "                {'params': net2.classifier[1].weight, 'lr': learnRate * 2},\n",
        "                {'params': net2.classifier[1].bias, 'lr': learnRate * 2}]\n",
        "                , weight_decay=weight_decay)\n",
        "opt3 = Adam([\n",
        "                {'params': net2.classifier[4].weight, 'lr': learnRate * 2},\n",
        "                {'params': net2.classifier[4].bias, 'lr': learnRate * 2}]\n",
        "                , weight_decay=weight_decay)\n",
        "opt4 = Adam([\n",
        "                {'params': net2.classifier[6].weight, 'lr': learnRate * 2},\n",
        "                {'params': net2.classifier[6].bias, 'lr': learnRate * 2}]\n",
        "                , weight_decay=weight_decay)\n",
        "opt5 = Adam([\n",
        "                {'params': net2.classifier[8].weight, 'lr': learnRate * 2},\n",
        "                {'params': net2.classifier[8].bias, 'lr': learnRate * 2}]\n",
        "                , weight_decay=weight_decay)\n",
        "\n",
        "opt6 = Adam([\n",
        "                {'params': net2.classifier[10].weight, 'lr': learnRate * 2},\n",
        "                {'params': net2.classifier[10].bias, 'lr': learnRate * 2}]\n",
        "                , weight_decay=weight_decay)\n"
      ],
      "execution_count": 79,
      "outputs": []
    },
    {
      "cell_type": "code",
      "metadata": {
        "id": "LBIfoIwkCgp5"
      },
      "source": [
        "def train(epoch, epochs, net2, trainLoader,trainAccuracy,trainLoss,opt1,opt2,opt3,opt4,opt5,opt6,opt,criterion):\n",
        "    running_loss = 0\n",
        "    total, correct = 0, 0\n",
        "    # for data in trainLoader:\n",
        "    for data in tqdm(trainLoader, desc=\"Train\"):\n",
        "      inputs, labels = data\n",
        "      inputs = inputs.to(device)\n",
        "      labels = labels.to(device)\n",
        "\n",
        "      opt1.zero_grad()\n",
        "      opt2.zero_grad()\n",
        "      opt3.zero_grad()\n",
        "      opt4.zero_grad()\n",
        "      opt5.zero_grad()\n",
        "      opt6.zero_grad()\n",
        "      opt.zero_grad()\n",
        "\n",
        "      outputs = net2(inputs)\n",
        "      loss = criterion(outputs, labels)\n",
        "      loss.backward(retain_graph = True)\n",
        "\n",
        "      opt1.step()\n",
        "      opt2.step()\n",
        "      opt3.step()\n",
        "      opt4.step()\n",
        "      opt5.step()\n",
        "      opt6.step()\n",
        "      opt.step()\n",
        "\n",
        "      running_loss += loss.item() / len(trainLoader)\n",
        "      _, predicted = torch.max(outputs.data, 1)\n",
        "      total += labels.size(0)\n",
        "      correct += predicted.eq(labels).sum().item()\n",
        "\n",
        "    accuracy = 100 * correct / total\n",
        "    trainAccuracy.append(accuracy)\n",
        "    trainLoss.append(loss)\n",
        "\n",
        "    print(\"\\nTRAIN: Epoch {}/{}, Accuracy: {:.3f}, Loss: {:.3f}\".format(epoch+1,epochs, 100 * correct/total, running_loss))\n"
      ],
      "execution_count": 80,
      "outputs": []
    },
    {
      "cell_type": "code",
      "metadata": {
        "id": "wHndpIPaCnPA"
      },
      "source": [
        "def test(epoch, epochs, net2,testLoader,testAccuracy,testLoss,criterion):    \n",
        "  running_loss = 0\n",
        "  total, correct = 0, 0\n",
        "  with torch.no_grad():\n",
        "    # for data in testLoader:\n",
        "    for data in tqdm(testLoader, desc = \"Test\"):\n",
        "      inputs, labels = data\n",
        "      inputs = inputs.to(device)\n",
        "      labels = labels.to(device)\n",
        "\n",
        "      outputs = net2(inputs)\n",
        "      loss = criterion(outputs, labels)\n",
        "      running_loss += loss.item() / len(testLoader)\n",
        "      \n",
        "      _, predicted = torch.max(outputs.data, 1)\n",
        "      total += labels.size(0)\n",
        "      correct += predicted.eq(labels).sum().item()\n",
        "\n",
        "    accuracy = 100 * correct / total\n",
        "    testAccuracy.append(accuracy)\n",
        "    testLoss.append(loss)\n",
        "\n",
        "    print(\"\\nTEST: Epoch {}/{}, Accuracy: {:.3f}, Loss: {:.3f}\".format(epoch+1,epochs, accuracy,running_loss))\n"
      ],
      "execution_count": 81,
      "outputs": []
    },
    {
      "cell_type": "code",
      "metadata": {
        "id": "mQA2Ff4NZY6w"
      },
      "source": [
        "import torch\n",
        "torch.cuda.empty_cache()"
      ],
      "execution_count": 82,
      "outputs": []
    },
    {
      "cell_type": "code",
      "metadata": {
        "id": "Qgi6x_fPh0QN",
        "colab": {
          "base_uri": "https://localhost:8080/",
          "height": 358
        },
        "outputId": "972f18c9-eb24-40f3-d5a7-13a7376c1834"
      },
      "source": [
        "epochs = 10\n",
        "criterion = CrossEntropyLoss()\n",
        "trainAccuracy = []\n",
        "testAccuracy = []\n",
        "trainLoss = []\n",
        "testLoss = []\n",
        "\n",
        "for epoch in range(epochs):  # loop over the dataset multiple times\n",
        "  train(epoch, epochs, net2, trainLoader,trainAccuracy,trainLoss,opt1,opt2,opt3,opt4,opt5,opt6,opt,criterion)\n",
        "  test(epoch, epochs, net2,testLoader,testAccuracy,testLoss,criterion)  "
      ],
      "execution_count": null,
      "outputs": [
        {
          "output_type": "stream",
          "name": "stderr",
          "text": [
            "Train:   0%|          | 0/26 [00:01<?, ?it/s]\n"
          ]
        },
        {
          "output_type": "error",
          "ename": "RuntimeError",
          "evalue": "ignored",
          "traceback": [
            "\u001b[0;31m---------------------------------------------------------------------------\u001b[0m",
            "\u001b[0;31mRuntimeError\u001b[0m                              Traceback (most recent call last)",
            "\u001b[0;32m<ipython-input-87-bde1af066c71>\u001b[0m in \u001b[0;36m<module>\u001b[0;34m()\u001b[0m\n\u001b[1;32m      7\u001b[0m \u001b[0;34m\u001b[0m\u001b[0m\n\u001b[1;32m      8\u001b[0m \u001b[0;32mfor\u001b[0m \u001b[0mepoch\u001b[0m \u001b[0;32min\u001b[0m \u001b[0mrange\u001b[0m\u001b[0;34m(\u001b[0m\u001b[0mepochs\u001b[0m\u001b[0;34m)\u001b[0m\u001b[0;34m:\u001b[0m  \u001b[0;31m# loop over the dataset multiple times\u001b[0m\u001b[0;34m\u001b[0m\u001b[0;34m\u001b[0m\u001b[0m\n\u001b[0;32m----> 9\u001b[0;31m   \u001b[0mtrain\u001b[0m\u001b[0;34m(\u001b[0m\u001b[0mepoch\u001b[0m\u001b[0;34m,\u001b[0m \u001b[0mepochs\u001b[0m\u001b[0;34m,\u001b[0m \u001b[0mnet2\u001b[0m\u001b[0;34m,\u001b[0m \u001b[0mtrainLoader\u001b[0m\u001b[0;34m,\u001b[0m\u001b[0mtrainAccuracy\u001b[0m\u001b[0;34m,\u001b[0m\u001b[0mtrainLoss\u001b[0m\u001b[0;34m,\u001b[0m\u001b[0mopt1\u001b[0m\u001b[0;34m,\u001b[0m\u001b[0mopt2\u001b[0m\u001b[0;34m,\u001b[0m\u001b[0mopt3\u001b[0m\u001b[0;34m,\u001b[0m\u001b[0mopt4\u001b[0m\u001b[0;34m,\u001b[0m\u001b[0mopt\u001b[0m\u001b[0;34m,\u001b[0m\u001b[0mcriterion\u001b[0m\u001b[0;34m)\u001b[0m\u001b[0;34m\u001b[0m\u001b[0;34m\u001b[0m\u001b[0m\n\u001b[0m\u001b[1;32m     10\u001b[0m   \u001b[0mtest\u001b[0m\u001b[0;34m(\u001b[0m\u001b[0mepoch\u001b[0m\u001b[0;34m,\u001b[0m \u001b[0mepochs\u001b[0m\u001b[0;34m,\u001b[0m \u001b[0mnet2\u001b[0m\u001b[0;34m,\u001b[0m\u001b[0mtestLoader\u001b[0m\u001b[0;34m,\u001b[0m\u001b[0mtestAccuracy\u001b[0m\u001b[0;34m,\u001b[0m\u001b[0mtestLoss\u001b[0m\u001b[0;34m,\u001b[0m\u001b[0mcriterion\u001b[0m\u001b[0;34m)\u001b[0m\u001b[0;34m\u001b[0m\u001b[0;34m\u001b[0m\u001b[0m\n",
            "\u001b[0;32m<ipython-input-78-4609989fcc22>\u001b[0m in \u001b[0;36mtrain\u001b[0;34m(epoch, epochs, net2, trainLoader, trainAccuracy, trainLoss, opt1, opt2, opt3, opt4, opt, criterion)\u001b[0m\n\u001b[1;32m      5\u001b[0m     \u001b[0;32mfor\u001b[0m \u001b[0mdata\u001b[0m \u001b[0;32min\u001b[0m \u001b[0mtqdm\u001b[0m\u001b[0;34m(\u001b[0m\u001b[0mtrainLoader\u001b[0m\u001b[0;34m,\u001b[0m \u001b[0mdesc\u001b[0m\u001b[0;34m=\u001b[0m\u001b[0;34m\"Train\"\u001b[0m\u001b[0;34m)\u001b[0m\u001b[0;34m:\u001b[0m\u001b[0;34m\u001b[0m\u001b[0;34m\u001b[0m\u001b[0m\n\u001b[1;32m      6\u001b[0m       \u001b[0minputs\u001b[0m\u001b[0;34m,\u001b[0m \u001b[0mlabels\u001b[0m \u001b[0;34m=\u001b[0m \u001b[0mdata\u001b[0m\u001b[0;34m\u001b[0m\u001b[0;34m\u001b[0m\u001b[0m\n\u001b[0;32m----> 7\u001b[0;31m       \u001b[0minputs\u001b[0m \u001b[0;34m=\u001b[0m \u001b[0minputs\u001b[0m\u001b[0;34m.\u001b[0m\u001b[0mto\u001b[0m\u001b[0;34m(\u001b[0m\u001b[0mdevice\u001b[0m\u001b[0;34m)\u001b[0m\u001b[0;34m\u001b[0m\u001b[0;34m\u001b[0m\u001b[0m\n\u001b[0m\u001b[1;32m      8\u001b[0m       \u001b[0mlabels\u001b[0m \u001b[0;34m=\u001b[0m \u001b[0mlabels\u001b[0m\u001b[0;34m.\u001b[0m\u001b[0mto\u001b[0m\u001b[0;34m(\u001b[0m\u001b[0mdevice\u001b[0m\u001b[0;34m)\u001b[0m\u001b[0;34m\u001b[0m\u001b[0;34m\u001b[0m\u001b[0m\n\u001b[1;32m      9\u001b[0m \u001b[0;34m\u001b[0m\u001b[0m\n",
            "\u001b[0;31mRuntimeError\u001b[0m: CUDA out of memory. Tried to allocate 58.00 MiB (GPU 0; 11.17 GiB total capacity; 10.57 GiB already allocated; 13.81 MiB free; 10.64 GiB reserved in total by PyTorch)"
          ]
        }
      ]
    },
    {
      "cell_type": "code",
      "metadata": {
        "id": "lJfJ0yD0M35W"
      },
      "source": [
        "plt.plot(trainAccuracy,'-o')\n",
        "plt.plot(testAccuracy,'-o')\n",
        "plt.xlabel('epoch')\n",
        "plt.ylabel('accuracy')\n",
        "plt.legend(['Train','Test'])\n",
        "plt.title('Accuracy')\n",
        " \n",
        "plt.show()"
      ],
      "execution_count": null,
      "outputs": []
    },
    {
      "cell_type": "code",
      "metadata": {
        "id": "DXMOxvTmM35W"
      },
      "source": [
        "plt.plot(trainLoss,'-o')\n",
        "plt.plot(testLoss,'-o')\n",
        "plt.xlabel('epoch')\n",
        "plt.ylabel('losses')\n",
        "plt.legend(['Train','Test'])\n",
        "plt.title('Loss')\n",
        " \n",
        "plt.show()"
      ],
      "execution_count": null,
      "outputs": []
    },
    {
      "cell_type": "code",
      "metadata": {
        "id": "fxyCKIGR5PPQ"
      },
      "source": [
        "zzz"
      ],
      "execution_count": null,
      "outputs": []
    },
    {
      "cell_type": "code",
      "metadata": {
        "id": "kyZXEFKF4HXQ"
      },
      "source": [
        "transform = transforms.Compose(\n",
        "    [transforms.ToTensor(),\n",
        "     transforms.Normalize((mean1, mean2, mean3, mean), (std1, std2, std3, std))])"
      ],
      "execution_count": null,
      "outputs": []
    },
    {
      "cell_type": "code",
      "metadata": {
        "id": "70zUHMxT5AG_"
      },
      "source": [
        "class CustomDataset(Dataset):\n",
        "    def __init__(self, csv_path, images_folder, transform = None):\n",
        "        self.df = read_csv(csv_path)\n",
        "        self.imagesFolder = images_folder\n",
        "        self.transform = transform\n",
        "        self.class2index = {\"male\":0, \"female\":1}\n",
        "\n",
        "    def __len__(self):\n",
        "        return len(self.df)\n",
        "        \n",
        "    def __getitem__(self, index):\n",
        "        filename = self.df[\"imageName\"][index]\n",
        "        label = self.class2index[self.df[\"gender\"][index]]\n",
        "        image = getPartOfMat(loadmat(self.imagesFolder + \"/\" + filename[:-3] + \"mat\"), \"normal\")\n",
        "        if self.transform is not None:\n",
        "          image = self.transform(image)\n",
        "        return image, label\n",
        "      \n",
        "    def images(self):\n",
        "      return glob(self.imagesFolder + \"/*.mat\")\n",
        "        "
      ],
      "execution_count": null,
      "outputs": []
    },
    {
      "cell_type": "code",
      "metadata": {
        "id": "53WGVUJR5AG_"
      },
      "source": [
        "dataset = CustomDataset(LABEL_PATH, OUT_PATH, transform)\n",
        "img, label = dataset[100]\n",
        "img.shape"
      ],
      "execution_count": null,
      "outputs": []
    },
    {
      "cell_type": "code",
      "metadata": {
        "id": "h9njkyqS5AHA"
      },
      "source": [
        "batch_size = 300\n",
        "validation_split = 0.7\n",
        "shuffle_dataset = True\n",
        "dataset_size = len(dataset)\n",
        "split = int(np.floor(validation_split * dataset_size))\n",
        "indices = list(range(dataset_size))\n",
        "\n",
        "train_indices, test_indices = indices[:split], indices[split:]\n",
        "\n",
        "train_sampler = SubsetRandomSampler(train_indices)\n",
        "test_sampler = SubsetRandomSampler(test_indices)\n",
        "\n",
        "trainLoader = DataLoader(dataset, batch_size=batch_size, sampler=train_sampler)\n",
        "testLoader = DataLoader(dataset, batch_size=batch_size, sampler=test_sampler)"
      ],
      "execution_count": null,
      "outputs": []
    },
    {
      "cell_type": "code",
      "metadata": {
        "id": "BxKeZEYr5AHA"
      },
      "source": [
        "len(trainLoader)"
      ],
      "execution_count": null,
      "outputs": []
    },
    {
      "cell_type": "code",
      "metadata": {
        "id": "ZNwvU8Po5AHA"
      },
      "source": [
        "len(testLoader)"
      ],
      "execution_count": null,
      "outputs": []
    },
    {
      "cell_type": "code",
      "metadata": {
        "id": "J414_bOt5AHA"
      },
      "source": [
        "class Net(nn.Module):\n",
        "    def __init__(self,alexNet, net1, net2):\n",
        "        super(Net, self).__init__()\n",
        "        self.skipConv1 = Conv2d(4, 64, 11, stride=3, padding=2)\n",
        "        self.skipConv2 = Conv2d(4, 64, 11, stride=3, padding=2)\n",
        "        self.relu1 = net1.layers[1]\n",
        "        self.pool1 = net1.layers[2]\n",
        "        self.conv2d2 = net1.layers[3]\n",
        "        self.relu2 = net1.layers[4]\n",
        "        self.pool2 = net1.layers[5]\n",
        "        self.conv2d3 = net1.layers[6]\n",
        "        self.relu3 = net1.layers[7]\n",
        "        self.conv2d4 = net1.layers[8]\n",
        "        self.relu4 = net1.layers[9]\n",
        "        self.conv2d5 = net1.layers[10]\n",
        "        self.relu5 = net1.layers[11]\n",
        "        self.pool5 = net1.layers[12]\n",
        "        self.fc6 = net1.layers[13]\n",
        "        self.relu6 = alexNet.classifier[2]\n",
        "        self.drop6 = alexNet.classifier[0]\n",
        "        self.fc7 = Linear(4096,4096,bias=True)\n",
        "        self.relu7 = alexNet.classifier[2]\n",
        "        self.drop7 = alexNet.classifier[0]\n",
        "        self.fc8 = Linear(4096,2048,bias=True)\n",
        "        self.relu8 = alexNet.classifier[2]\n",
        "        self.drop8 = alexNet.classifier[0]\n",
        "        self.fc9 = Linear(2048,2,True)\n",
        "        #\n",
        "        \n",
        "        self.relu9 = alexNet.classifier[2]\n",
        "        self.drop9 = alexNet.classifier[0]\n",
        "        # self.cl = Softmax(dim = -1) #error\n",
        "\n",
        "    def forward(self, x):\n",
        "        x = self.pool1(self.relu1(self.conv2d1(x)))\n",
        "        x = self.pool2(self.relu2(self.conv2d2(x)))\n",
        "        x = self.relu3(self.conv2d3(x))\n",
        "        x = self.relu4(self.conv2d4(x))\n",
        "        x = self.pool5(self.relu5(self.conv2d5(x)))\n",
        "\n",
        "        x = x.view(-1,256 * 4 * 4)\n",
        "        x = self.drop6(self.relu6(self.fc6(x)))\n",
        "        x = self.drop7(self.relu7(self.fc7(x)))\n",
        "        x = self.drop8(self.relu8(self.fc8(x)))\n",
        "        x = self.drop9(self.relu9(self.fc9(x)))\n",
        "\n",
        "        x = softmax(x, dim = 1)\n",
        "        # print(x)\n",
        "        return x"
      ],
      "execution_count": null,
      "outputs": []
    },
    {
      "cell_type": "code",
      "metadata": {
        "id": "UVQ6rNvi5AHA"
      },
      "source": [
        "twoStream = Net(alexNet).to(device)\n",
        "opt1 = Adam([\n",
        "                {'params': net1.skipConv1.weight, 'lr': 0},\n",
        "                {'params': net1.skipConv1.bias, 'lr': 0}]\n",
        "                , weight_decay=1)\n",
        "opt2 = Adam([\n",
        "                {'params': net1.skipConv2.weight, 'lr': 0},\n",
        "                {'params': net1.skipConv2.bias, 'lr': 0}]\n",
        "                , weight_decay=1)\n",
        "# opt2 = Adam([\n",
        "#                 {'params': net1.fc6.weight, 'lr': 20 * 2},\n",
        "#                 {'params': net1.fc6.bias, 'lr': 20 * 2}]\n",
        "#                 , weight_decay=0.8)\n",
        "# opt3 = Adam([\n",
        "#                 {'params': net1.fc7.weight, 'lr': 20 * 2},\n",
        "#                 {'params': net1.fc7.bias, 'lr': 20 * 2}]\n",
        "#                 , weight_decay=0.8)\n",
        "# opt4 = Adam([\n",
        "#                 {'params': net1.fc8.weight, 'lr': 20 * 2},\n",
        "#                 {'params': net1.fc8.bias, 'lr': 20 * 2}]\n",
        "#                 , weight_decay=0.8)\n",
        "# opt5 = Adam([\n",
        "#                 {'params': net1.fc9.weight, 'lr': 20 * 2},\n",
        "#                 {'params': net1.fc9.bias, 'lr': 20 * 2}]\n",
        "#                 , weight_decay=0.8)\n",
        "\n",
        "# opt = SGD(net1.parameters(), lr=0.0001)\n"
      ],
      "execution_count": null,
      "outputs": []
    },
    {
      "cell_type": "code",
      "metadata": {
        "id": "N774j-r_5AHB"
      },
      "source": [
        "twoStream"
      ],
      "execution_count": null,
      "outputs": []
    },
    {
      "cell_type": "code",
      "metadata": {
        "id": "wsJ_90-75AHB"
      },
      "source": [
        "criterion = CrossEntropyLoss()\n",
        "trainAccuracy = []\n",
        "testAccuracy = []\n",
        "trainLoss = []\n",
        "testLoss = []"
      ],
      "execution_count": null,
      "outputs": []
    },
    {
      "cell_type": "code",
      "metadata": {
        "id": "riZD8vTe5AHB"
      },
      "source": [
        "for epoch in tqdm(range(epochs)):  # loop over the dataset multiple times\n",
        "    running_loss = 0\n",
        "    total, correct = 0, 0\n",
        "    for data in trainLoader:\n",
        "      inputs, labels = data\n",
        "      inputs = inputs.to(device)\n",
        "      labels = labels.to(device)\n",
        "\n",
        "      opt1.zero_grad()\n",
        "      opt2.zero_grad()\n",
        "      opt3.zero_grad()\n",
        "      opt4.zero_grad()\n",
        "      opt5.zero_grad()\n",
        "      opt.zero_grad()\n",
        "\n",
        "      outputs = net1(inputs)\n",
        "      loss = criterion(outputs, labels)\n",
        "      loss.backward()\n",
        "\n",
        "      opt1.step()\n",
        "      opt2.step()\n",
        "      opt3.step()\n",
        "      opt4.step()\n",
        "      opt5.step()\n",
        "      opt.step()\n",
        "\n",
        "      running_loss += loss.item()\n",
        "      _, predicted = torch.max(outputs.data, 1)\n",
        "      total += labels.size(0)\n",
        "      correct += predicted.eq(labels).sum().item()\n",
        "\n",
        "    accuracy = 100 * correct / total\n",
        "    loss = running_loss / len(trainLoader)\n",
        "    trainAccuracy.append(accuracy)\n",
        "    trainLoss.append(loss)\n",
        "    print(\"\\nEpoch {}/{}, Accuracy: {:.3f}, Loss: {:.3f}\".format(epoch+1,epochs, accuracy,loss))\n",
        "\n",
        "print('Finished Training')"
      ],
      "execution_count": null,
      "outputs": []
    },
    {
      "cell_type": "code",
      "metadata": {
        "id": "VqtAME1Y5AHB"
      },
      "source": [
        "for epoch in tqdm(range(epochs)):  # loop over the dataset multiple times\n",
        "    running_loss = 0\n",
        "    total, correct = 0, 0\n",
        "    with torch.no_grad():\n",
        "      for data in testLoader:\n",
        "        inputs, labels = data\n",
        "        inputs = inputs.to(device)\n",
        "        labels = labels.to(device)\n",
        "\n",
        "        outputs = net1(inputs)\n",
        "        loss = criterion(outputs, labels)\n",
        "        running_loss+=loss.item()\n",
        "        \n",
        "        _, predicted = torch.max(outputs.data, 1)\n",
        "        total += labels.size(0)\n",
        "        correct += predicted.eq(labels).sum().item()\n",
        "\n",
        "      accuracy = 100 * correct / total\n",
        "      loss = running_loss / len(testLoader)\n",
        "      testAccuracy.append(accuracy)\n",
        "      testLoss.append(loss)\n",
        "\n",
        "      print(\"\\nEpoch {}/{}, Accuracy: {:.3f}, Loss: {:.3f}\".format(epoch+1,num_epochs, accuracy,loss))\n",
        "\n",
        "print('Finished Testing')"
      ],
      "execution_count": null,
      "outputs": []
    },
    {
      "cell_type": "code",
      "metadata": {
        "id": "tKx2tgUo5AHB"
      },
      "source": [
        "plt.plot(trainAccuracy,'-o')\n",
        "plt.plot(testAccuracy,'-o')\n",
        "plt.xlabel('epoch')\n",
        "plt.ylabel('accuracy')\n",
        "plt.legend(['Train','Test'])\n",
        "plt.title('Train vs Test Accuracy')\n",
        " \n",
        "plt.show()"
      ],
      "execution_count": null,
      "outputs": []
    },
    {
      "cell_type": "code",
      "metadata": {
        "id": "kL9os0hP5AHC"
      },
      "source": [
        "plt.plot(trainLoss,'-o')\n",
        "plt.plot(testLoss,'-o')\n",
        "plt.xlabel('epoch')\n",
        "plt.ylabel('losses')\n",
        "plt.legend(['Train','Test'])\n",
        "plt.title('Train vs Valid Losses')\n",
        " \n",
        "plt.show()"
      ],
      "execution_count": null,
      "outputs": []
    }
  ]
}